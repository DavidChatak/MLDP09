{
 "cells": [
  {
   "cell_type": "code",
   "execution_count": 41,
   "metadata": {},
   "outputs": [],
   "source": [
    "import boto3\n",
    "s3_client = boto3.client(\"s3\")\n",
    "# s3_client.upload_file(\"./cardio_train.csv\",\n",
    "#                       \"davidcw-first-bucket\",\"data/cardio_train.csv\")\n",
    "s3_client.list_buckets(bucket=\"davidcw-first-bucket\")\n",
    "\n",
    "[i[\"Name\"] for i in s3_client.list_buckets()[\"Buckets\"]]"
   ]
  },
  {
   "cell_type": "code",
   "execution_count": 42,
   "metadata": {},
   "outputs": [],
   "source": [
    "s3_client.list_objects(Bucket=\"davidcw-first-bucket\")['Contents']"
   ]
  },
  {
   "cell_type": "markdown",
   "metadata": {
    "colab_type": "text",
    "id": "M27qF7CTrBqc"
   },
   "source": [
    "# TASK #1 : UNDERSTAND THE PROBLEM STATEMENT"
   ]
  },
  {
   "cell_type": "markdown",
   "metadata": {
    "colab_type": "text",
    "id": "xNl52nl3qiyL"
   },
   "source": [
    "\n",
    "Aim of the problem is to detect the presence or absence of cardiovascular disease in person based on the given features.\n",
    "Features available are:\n",
    "\n",
    "\n",
    "- Age | Objective Feature | age | int (days)\n",
    "- Height | Objective Feature | height | int (cm) |\n",
    "- Weight | Objective Feature | weight | float (kg) |\n",
    "- Gender | Objective Feature | gender | categorical code |\n",
    "- Systolic blood pressure | Examination Feature | ap_hi | int |\n",
    "- Diastolic blood pressure | Examination Feature | ap_lo | int |\n",
    "- Cholesterol | Examination Feature | cholesterol | 1: normal, 2: above normal, 3: well above normal |\n",
    "- Glucose | Examination Feature | gluc | 1: normal, 2: above normal, 3: well above normal |\n",
    "- Smoking | Subjective Feature | smoke | binary |\n",
    "- Alcohol intake | Subjective Feature | alco | binary |\n",
    "- Physical activity | Subjective Feature | active | binary |\n",
    "- Presence or absence of cardiovascular disease | Target Variable | cardio | binary |\n",
    "\n",
    "Note that:\n",
    "- Objective: factual information;\n",
    "- Examination: results of medical examination;\n",
    "- Subjective: information given by the patient.\n",
    "\n",
    "Data Source:https://www.kaggle.com/sulianova/cardiovascular-disease-dataset"
   ]
  },
  {
   "cell_type": "markdown",
   "metadata": {},
   "source": [
    "# TASK #2: IMPORT LIBRARIES AND DATASETS"
   ]
  },
  {
   "cell_type": "code",
   "execution_count": 2,
   "metadata": {
    "colab": {
     "base_uri": "https://localhost:8080/",
     "height": 71
    },
    "colab_type": "code",
    "id": "S0Cx3743urFY",
    "outputId": "b820039b-7ccb-4a68-8206-77bae97680dc",
    "scrolled": true
   },
   "outputs": [],
   "source": [
    "# import the necessary libraries\n",
    "import pandas as pd\n",
    "import numpy as np\n",
    "import seaborn as sns\n",
    "import matplotlib.pyplot as plt\n"
   ]
  },
  {
   "cell_type": "code",
   "execution_count": 3,
   "metadata": {
    "colab": {},
    "colab_type": "code",
    "id": "tjIiJdM4u1IE"
   },
   "outputs": [],
   "source": [
    "# read the csv file \n",
    "cardio_df = pd.read_csv(\"cardio_train.csv\", sep=\";\")"
   ]
  },
  {
   "cell_type": "code",
   "execution_count": 24,
   "metadata": {
    "colab": {
     "base_uri": "https://localhost:8080/",
     "height": 204
    },
    "colab_type": "code",
    "id": "q4_wPDKCu5Uc",
    "outputId": "886d2aaf-0205-4f46-96a7-629d0f367d2f"
   },
   "outputs": [
    {
     "data": {
      "text/html": [
       "<div>\n",
       "<style scoped>\n",
       "    .dataframe tbody tr th:only-of-type {\n",
       "        vertical-align: middle;\n",
       "    }\n",
       "\n",
       "    .dataframe tbody tr th {\n",
       "        vertical-align: top;\n",
       "    }\n",
       "\n",
       "    .dataframe thead th {\n",
       "        text-align: right;\n",
       "    }\n",
       "</style>\n",
       "<table border=\"1\" class=\"dataframe\">\n",
       "  <thead>\n",
       "    <tr style=\"text-align: right;\">\n",
       "      <th></th>\n",
       "      <th>age</th>\n",
       "      <th>gender</th>\n",
       "      <th>height</th>\n",
       "      <th>weight</th>\n",
       "      <th>ap_hi</th>\n",
       "      <th>ap_lo</th>\n",
       "      <th>cholesterol</th>\n",
       "      <th>gluc</th>\n",
       "      <th>smoke</th>\n",
       "      <th>alco</th>\n",
       "      <th>active</th>\n",
       "      <th>cardio</th>\n",
       "    </tr>\n",
       "  </thead>\n",
       "  <tbody>\n",
       "    <tr>\n",
       "      <th>0</th>\n",
       "      <td>50.391781</td>\n",
       "      <td>2</td>\n",
       "      <td>168</td>\n",
       "      <td>62.0</td>\n",
       "      <td>110</td>\n",
       "      <td>80</td>\n",
       "      <td>1</td>\n",
       "      <td>1</td>\n",
       "      <td>0</td>\n",
       "      <td>0</td>\n",
       "      <td>1</td>\n",
       "      <td>0</td>\n",
       "    </tr>\n",
       "    <tr>\n",
       "      <th>1</th>\n",
       "      <td>55.419178</td>\n",
       "      <td>1</td>\n",
       "      <td>156</td>\n",
       "      <td>85.0</td>\n",
       "      <td>140</td>\n",
       "      <td>90</td>\n",
       "      <td>3</td>\n",
       "      <td>1</td>\n",
       "      <td>0</td>\n",
       "      <td>0</td>\n",
       "      <td>1</td>\n",
       "      <td>1</td>\n",
       "    </tr>\n",
       "    <tr>\n",
       "      <th>2</th>\n",
       "      <td>51.663014</td>\n",
       "      <td>1</td>\n",
       "      <td>165</td>\n",
       "      <td>64.0</td>\n",
       "      <td>130</td>\n",
       "      <td>70</td>\n",
       "      <td>3</td>\n",
       "      <td>1</td>\n",
       "      <td>0</td>\n",
       "      <td>0</td>\n",
       "      <td>0</td>\n",
       "      <td>1</td>\n",
       "    </tr>\n",
       "    <tr>\n",
       "      <th>3</th>\n",
       "      <td>48.282192</td>\n",
       "      <td>2</td>\n",
       "      <td>169</td>\n",
       "      <td>82.0</td>\n",
       "      <td>150</td>\n",
       "      <td>100</td>\n",
       "      <td>1</td>\n",
       "      <td>1</td>\n",
       "      <td>0</td>\n",
       "      <td>0</td>\n",
       "      <td>1</td>\n",
       "      <td>1</td>\n",
       "    </tr>\n",
       "    <tr>\n",
       "      <th>4</th>\n",
       "      <td>47.873973</td>\n",
       "      <td>1</td>\n",
       "      <td>156</td>\n",
       "      <td>56.0</td>\n",
       "      <td>100</td>\n",
       "      <td>60</td>\n",
       "      <td>1</td>\n",
       "      <td>1</td>\n",
       "      <td>0</td>\n",
       "      <td>0</td>\n",
       "      <td>0</td>\n",
       "      <td>0</td>\n",
       "    </tr>\n",
       "  </tbody>\n",
       "</table>\n",
       "</div>"
      ],
      "text/plain": [
       "         age  gender  height  weight  ap_hi  ap_lo  cholesterol  gluc  smoke  \\\n",
       "0  50.391781       2     168    62.0    110     80            1     1      0   \n",
       "1  55.419178       1     156    85.0    140     90            3     1      0   \n",
       "2  51.663014       1     165    64.0    130     70            3     1      0   \n",
       "3  48.282192       2     169    82.0    150    100            1     1      0   \n",
       "4  47.873973       1     156    56.0    100     60            1     1      0   \n",
       "\n",
       "   alco  active  cardio  \n",
       "0     0       1       0  \n",
       "1     0       1       1  \n",
       "2     0       0       1  \n",
       "3     0       1       1  \n",
       "4     0       0       0  "
      ]
     },
     "execution_count": 24,
     "metadata": {},
     "output_type": "execute_result"
    }
   ],
   "source": [
    "cardio_df.head()"
   ]
  },
  {
   "cell_type": "code",
   "execution_count": 46,
   "metadata": {},
   "outputs": [
    {
     "data": {
      "text/plain": [
       "gender\n",
       "1    161.355612\n",
       "2    169.947895\n",
       "Name: height, dtype: float64"
      ]
     },
     "execution_count": 46,
     "metadata": {},
     "output_type": "execute_result"
    }
   ],
   "source": [
    "cardio_df.groupby(\"gender\")[\"height\"].mean()"
   ]
  },
  {
   "cell_type": "markdown",
   "metadata": {
    "colab_type": "text",
    "id": "tMcr7xqMQre2"
   },
   "source": [
    "# TASK #3: PERFORM EXPLORATORY DATA ANALYSIS"
   ]
  },
  {
   "cell_type": "code",
   "execution_count": 47,
   "metadata": {},
   "outputs": [
    {
     "data": {
      "text/plain": [
       "((70000, 13), 70000)"
      ]
     },
     "execution_count": 47,
     "metadata": {},
     "output_type": "execute_result"
    }
   ],
   "source": [
    "cardio_df.shape, cardio_df[\"id\"].nunique()"
   ]
  },
  {
   "cell_type": "code",
   "execution_count": 4,
   "metadata": {},
   "outputs": [],
   "source": [
    "# Drop id\n",
    "\n",
    "cardio_df = cardio_df.drop(columns = 'id')"
   ]
  },
  {
   "cell_type": "code",
   "execution_count": 5,
   "metadata": {},
   "outputs": [],
   "source": [
    "# since the age is given in days, we convert it into years\n",
    "\n",
    "cardio_df['age'] = cardio_df['age']/365"
   ]
  },
  {
   "cell_type": "code",
   "execution_count": 50,
   "metadata": {},
   "outputs": [
    {
     "data": {
      "text/html": [
       "<div>\n",
       "<style scoped>\n",
       "    .dataframe tbody tr th:only-of-type {\n",
       "        vertical-align: middle;\n",
       "    }\n",
       "\n",
       "    .dataframe tbody tr th {\n",
       "        vertical-align: top;\n",
       "    }\n",
       "\n",
       "    .dataframe thead th {\n",
       "        text-align: right;\n",
       "    }\n",
       "</style>\n",
       "<table border=\"1\" class=\"dataframe\">\n",
       "  <thead>\n",
       "    <tr style=\"text-align: right;\">\n",
       "      <th></th>\n",
       "      <th>age</th>\n",
       "      <th>gender</th>\n",
       "      <th>height</th>\n",
       "      <th>weight</th>\n",
       "      <th>ap_hi</th>\n",
       "      <th>ap_lo</th>\n",
       "      <th>cholesterol</th>\n",
       "      <th>gluc</th>\n",
       "      <th>smoke</th>\n",
       "      <th>alco</th>\n",
       "      <th>active</th>\n",
       "      <th>cardio</th>\n",
       "    </tr>\n",
       "  </thead>\n",
       "  <tbody>\n",
       "    <tr>\n",
       "      <th>0</th>\n",
       "      <td>50.391781</td>\n",
       "      <td>2</td>\n",
       "      <td>168</td>\n",
       "      <td>62.0</td>\n",
       "      <td>110</td>\n",
       "      <td>80</td>\n",
       "      <td>1</td>\n",
       "      <td>1</td>\n",
       "      <td>0</td>\n",
       "      <td>0</td>\n",
       "      <td>1</td>\n",
       "      <td>0</td>\n",
       "    </tr>\n",
       "    <tr>\n",
       "      <th>1</th>\n",
       "      <td>55.419178</td>\n",
       "      <td>1</td>\n",
       "      <td>156</td>\n",
       "      <td>85.0</td>\n",
       "      <td>140</td>\n",
       "      <td>90</td>\n",
       "      <td>3</td>\n",
       "      <td>1</td>\n",
       "      <td>0</td>\n",
       "      <td>0</td>\n",
       "      <td>1</td>\n",
       "      <td>1</td>\n",
       "    </tr>\n",
       "    <tr>\n",
       "      <th>2</th>\n",
       "      <td>51.663014</td>\n",
       "      <td>1</td>\n",
       "      <td>165</td>\n",
       "      <td>64.0</td>\n",
       "      <td>130</td>\n",
       "      <td>70</td>\n",
       "      <td>3</td>\n",
       "      <td>1</td>\n",
       "      <td>0</td>\n",
       "      <td>0</td>\n",
       "      <td>0</td>\n",
       "      <td>1</td>\n",
       "    </tr>\n",
       "    <tr>\n",
       "      <th>3</th>\n",
       "      <td>48.282192</td>\n",
       "      <td>2</td>\n",
       "      <td>169</td>\n",
       "      <td>82.0</td>\n",
       "      <td>150</td>\n",
       "      <td>100</td>\n",
       "      <td>1</td>\n",
       "      <td>1</td>\n",
       "      <td>0</td>\n",
       "      <td>0</td>\n",
       "      <td>1</td>\n",
       "      <td>1</td>\n",
       "    </tr>\n",
       "    <tr>\n",
       "      <th>4</th>\n",
       "      <td>47.873973</td>\n",
       "      <td>1</td>\n",
       "      <td>156</td>\n",
       "      <td>56.0</td>\n",
       "      <td>100</td>\n",
       "      <td>60</td>\n",
       "      <td>1</td>\n",
       "      <td>1</td>\n",
       "      <td>0</td>\n",
       "      <td>0</td>\n",
       "      <td>0</td>\n",
       "      <td>0</td>\n",
       "    </tr>\n",
       "  </tbody>\n",
       "</table>\n",
       "</div>"
      ],
      "text/plain": [
       "         age  gender  height  weight  ap_hi  ap_lo  cholesterol  gluc  smoke  \\\n",
       "0  50.391781       2     168    62.0    110     80            1     1      0   \n",
       "1  55.419178       1     156    85.0    140     90            3     1      0   \n",
       "2  51.663014       1     165    64.0    130     70            3     1      0   \n",
       "3  48.282192       2     169    82.0    150    100            1     1      0   \n",
       "4  47.873973       1     156    56.0    100     60            1     1      0   \n",
       "\n",
       "   alco  active  cardio  \n",
       "0     0       1       0  \n",
       "1     0       1       1  \n",
       "2     0       0       1  \n",
       "3     0       1       1  \n",
       "4     0       0       0  "
      ]
     },
     "execution_count": 50,
     "metadata": {},
     "output_type": "execute_result"
    }
   ],
   "source": [
    "cardio_df.head()"
   ]
  },
  {
   "cell_type": "code",
   "execution_count": 62,
   "metadata": {
    "colab": {
     "base_uri": "https://localhost:8080/",
     "height": 170
    },
    "colab_type": "code",
    "id": "6JYkJo9pYaet",
    "outputId": "fcc89a98-b0a9-499d-acde-e480e78dccfc"
   },
   "outputs": [
    {
     "data": {
      "text/plain": [
       "age            0\n",
       "gender         0\n",
       "height         0\n",
       "weight         0\n",
       "ap_hi          0\n",
       "ap_lo          0\n",
       "cholesterol    0\n",
       "gluc           0\n",
       "smoke          0\n",
       "alco           0\n",
       "active         0\n",
       "cardio         0\n",
       "dtype: int64"
      ]
     },
     "execution_count": 62,
     "metadata": {},
     "output_type": "execute_result"
    }
   ],
   "source": [
    "# checking the null values\n",
    "cardio_df.isnull().sum()"
   ]
  },
  {
   "cell_type": "code",
   "execution_count": 63,
   "metadata": {
    "colab": {
     "base_uri": "https://localhost:8080/",
     "height": 272
    },
    "colab_type": "code",
    "id": "hMq3-KWOx0e1",
    "outputId": "22a5b184-1f07-46ef-dfc1-f8377fd7042f"
   },
   "outputs": [],
   "source": [
    "# Checking the dataframe information\n",
    "\n",
    "# cardio_df.info()\n"
   ]
  },
  {
   "cell_type": "code",
   "execution_count": 9,
   "metadata": {
    "colab": {
     "base_uri": "https://localhost:8080/",
     "height": 297
    },
    "colab_type": "code",
    "id": "Nn1Oxk2SzPX3",
    "outputId": "95f0265a-5e75-4a32-d771-4b3d15850c3c"
   },
   "outputs": [
    {
     "data": {
      "text/html": [
       "<div>\n",
       "<style scoped>\n",
       "    .dataframe tbody tr th:only-of-type {\n",
       "        vertical-align: middle;\n",
       "    }\n",
       "\n",
       "    .dataframe tbody tr th {\n",
       "        vertical-align: top;\n",
       "    }\n",
       "\n",
       "    .dataframe thead th {\n",
       "        text-align: right;\n",
       "    }\n",
       "</style>\n",
       "<table border=\"1\" class=\"dataframe\">\n",
       "  <thead>\n",
       "    <tr style=\"text-align: right;\">\n",
       "      <th></th>\n",
       "      <th>age</th>\n",
       "      <th>gender</th>\n",
       "      <th>height</th>\n",
       "      <th>weight</th>\n",
       "      <th>ap_hi</th>\n",
       "      <th>ap_lo</th>\n",
       "      <th>cholesterol</th>\n",
       "      <th>gluc</th>\n",
       "      <th>smoke</th>\n",
       "      <th>alco</th>\n",
       "      <th>active</th>\n",
       "      <th>cardio</th>\n",
       "    </tr>\n",
       "  </thead>\n",
       "  <tbody>\n",
       "    <tr>\n",
       "      <th>count</th>\n",
       "      <td>70000.000000</td>\n",
       "      <td>70000.000000</td>\n",
       "      <td>70000.000000</td>\n",
       "      <td>70000.000000</td>\n",
       "      <td>70000.000000</td>\n",
       "      <td>70000.000000</td>\n",
       "      <td>70000.000000</td>\n",
       "      <td>70000.000000</td>\n",
       "      <td>70000.000000</td>\n",
       "      <td>70000.000000</td>\n",
       "      <td>70000.000000</td>\n",
       "      <td>70000.000000</td>\n",
       "    </tr>\n",
       "    <tr>\n",
       "      <th>mean</th>\n",
       "      <td>53.339358</td>\n",
       "      <td>1.349571</td>\n",
       "      <td>164.359229</td>\n",
       "      <td>74.205690</td>\n",
       "      <td>128.817286</td>\n",
       "      <td>96.630414</td>\n",
       "      <td>1.366871</td>\n",
       "      <td>1.226457</td>\n",
       "      <td>0.088129</td>\n",
       "      <td>0.053771</td>\n",
       "      <td>0.803729</td>\n",
       "      <td>0.499700</td>\n",
       "    </tr>\n",
       "    <tr>\n",
       "      <th>std</th>\n",
       "      <td>6.759594</td>\n",
       "      <td>0.476838</td>\n",
       "      <td>8.210126</td>\n",
       "      <td>14.395757</td>\n",
       "      <td>154.011419</td>\n",
       "      <td>188.472530</td>\n",
       "      <td>0.680250</td>\n",
       "      <td>0.572270</td>\n",
       "      <td>0.283484</td>\n",
       "      <td>0.225568</td>\n",
       "      <td>0.397179</td>\n",
       "      <td>0.500003</td>\n",
       "    </tr>\n",
       "    <tr>\n",
       "      <th>min</th>\n",
       "      <td>29.583562</td>\n",
       "      <td>1.000000</td>\n",
       "      <td>55.000000</td>\n",
       "      <td>10.000000</td>\n",
       "      <td>-150.000000</td>\n",
       "      <td>-70.000000</td>\n",
       "      <td>1.000000</td>\n",
       "      <td>1.000000</td>\n",
       "      <td>0.000000</td>\n",
       "      <td>0.000000</td>\n",
       "      <td>0.000000</td>\n",
       "      <td>0.000000</td>\n",
       "    </tr>\n",
       "    <tr>\n",
       "      <th>25%</th>\n",
       "      <td>48.394521</td>\n",
       "      <td>1.000000</td>\n",
       "      <td>159.000000</td>\n",
       "      <td>65.000000</td>\n",
       "      <td>120.000000</td>\n",
       "      <td>80.000000</td>\n",
       "      <td>1.000000</td>\n",
       "      <td>1.000000</td>\n",
       "      <td>0.000000</td>\n",
       "      <td>0.000000</td>\n",
       "      <td>1.000000</td>\n",
       "      <td>0.000000</td>\n",
       "    </tr>\n",
       "    <tr>\n",
       "      <th>50%</th>\n",
       "      <td>53.980822</td>\n",
       "      <td>1.000000</td>\n",
       "      <td>165.000000</td>\n",
       "      <td>72.000000</td>\n",
       "      <td>120.000000</td>\n",
       "      <td>80.000000</td>\n",
       "      <td>1.000000</td>\n",
       "      <td>1.000000</td>\n",
       "      <td>0.000000</td>\n",
       "      <td>0.000000</td>\n",
       "      <td>1.000000</td>\n",
       "      <td>0.000000</td>\n",
       "    </tr>\n",
       "    <tr>\n",
       "      <th>75%</th>\n",
       "      <td>58.430137</td>\n",
       "      <td>2.000000</td>\n",
       "      <td>170.000000</td>\n",
       "      <td>82.000000</td>\n",
       "      <td>140.000000</td>\n",
       "      <td>90.000000</td>\n",
       "      <td>2.000000</td>\n",
       "      <td>1.000000</td>\n",
       "      <td>0.000000</td>\n",
       "      <td>0.000000</td>\n",
       "      <td>1.000000</td>\n",
       "      <td>1.000000</td>\n",
       "    </tr>\n",
       "    <tr>\n",
       "      <th>max</th>\n",
       "      <td>64.967123</td>\n",
       "      <td>2.000000</td>\n",
       "      <td>250.000000</td>\n",
       "      <td>200.000000</td>\n",
       "      <td>16020.000000</td>\n",
       "      <td>11000.000000</td>\n",
       "      <td>3.000000</td>\n",
       "      <td>3.000000</td>\n",
       "      <td>1.000000</td>\n",
       "      <td>1.000000</td>\n",
       "      <td>1.000000</td>\n",
       "      <td>1.000000</td>\n",
       "    </tr>\n",
       "  </tbody>\n",
       "</table>\n",
       "</div>"
      ],
      "text/plain": [
       "                age        gender        height        weight         ap_hi  \\\n",
       "count  70000.000000  70000.000000  70000.000000  70000.000000  70000.000000   \n",
       "mean      53.339358      1.349571    164.359229     74.205690    128.817286   \n",
       "std        6.759594      0.476838      8.210126     14.395757    154.011419   \n",
       "min       29.583562      1.000000     55.000000     10.000000   -150.000000   \n",
       "25%       48.394521      1.000000    159.000000     65.000000    120.000000   \n",
       "50%       53.980822      1.000000    165.000000     72.000000    120.000000   \n",
       "75%       58.430137      2.000000    170.000000     82.000000    140.000000   \n",
       "max       64.967123      2.000000    250.000000    200.000000  16020.000000   \n",
       "\n",
       "              ap_lo   cholesterol          gluc         smoke          alco  \\\n",
       "count  70000.000000  70000.000000  70000.000000  70000.000000  70000.000000   \n",
       "mean      96.630414      1.366871      1.226457      0.088129      0.053771   \n",
       "std      188.472530      0.680250      0.572270      0.283484      0.225568   \n",
       "min      -70.000000      1.000000      1.000000      0.000000      0.000000   \n",
       "25%       80.000000      1.000000      1.000000      0.000000      0.000000   \n",
       "50%       80.000000      1.000000      1.000000      0.000000      0.000000   \n",
       "75%       90.000000      2.000000      1.000000      0.000000      0.000000   \n",
       "max    11000.000000      3.000000      3.000000      1.000000      1.000000   \n",
       "\n",
       "             active        cardio  \n",
       "count  70000.000000  70000.000000  \n",
       "mean       0.803729      0.499700  \n",
       "std        0.397179      0.500003  \n",
       "min        0.000000      0.000000  \n",
       "25%        1.000000      0.000000  \n",
       "50%        1.000000      0.000000  \n",
       "75%        1.000000      1.000000  \n",
       "max        1.000000      1.000000  "
      ]
     },
     "execution_count": 9,
     "metadata": {},
     "output_type": "execute_result"
    }
   ],
   "source": [
    "# Statistical summary of the dataframe\n",
    "cardio_df.describe()"
   ]
  },
  {
   "cell_type": "markdown",
   "metadata": {},
   "source": [
    "MINI CHALLENGE\n",
    "- Obtain the features of the individuals who are older than 64.8 years old "
   ]
  },
  {
   "cell_type": "code",
   "execution_count": 64,
   "metadata": {},
   "outputs": [
    {
     "data": {
      "text/html": [
       "<div>\n",
       "<style scoped>\n",
       "    .dataframe tbody tr th:only-of-type {\n",
       "        vertical-align: middle;\n",
       "    }\n",
       "\n",
       "    .dataframe tbody tr th {\n",
       "        vertical-align: top;\n",
       "    }\n",
       "\n",
       "    .dataframe thead th {\n",
       "        text-align: right;\n",
       "    }\n",
       "</style>\n",
       "<table border=\"1\" class=\"dataframe\">\n",
       "  <thead>\n",
       "    <tr style=\"text-align: right;\">\n",
       "      <th></th>\n",
       "      <th>age</th>\n",
       "      <th>gender</th>\n",
       "      <th>height</th>\n",
       "      <th>weight</th>\n",
       "      <th>ap_hi</th>\n",
       "      <th>ap_lo</th>\n",
       "      <th>cholesterol</th>\n",
       "      <th>gluc</th>\n",
       "      <th>smoke</th>\n",
       "      <th>alco</th>\n",
       "      <th>active</th>\n",
       "      <th>cardio</th>\n",
       "    </tr>\n",
       "  </thead>\n",
       "  <tbody>\n",
       "    <tr>\n",
       "      <th>395</th>\n",
       "      <td>64.824658</td>\n",
       "      <td>2</td>\n",
       "      <td>160</td>\n",
       "      <td>78.0</td>\n",
       "      <td>140</td>\n",
       "      <td>90</td>\n",
       "      <td>1</td>\n",
       "      <td>1</td>\n",
       "      <td>0</td>\n",
       "      <td>0</td>\n",
       "      <td>1</td>\n",
       "      <td>0</td>\n",
       "    </tr>\n",
       "    <tr>\n",
       "      <th>643</th>\n",
       "      <td>64.802740</td>\n",
       "      <td>1</td>\n",
       "      <td>154</td>\n",
       "      <td>79.0</td>\n",
       "      <td>130</td>\n",
       "      <td>80</td>\n",
       "      <td>1</td>\n",
       "      <td>1</td>\n",
       "      <td>0</td>\n",
       "      <td>0</td>\n",
       "      <td>1</td>\n",
       "      <td>0</td>\n",
       "    </tr>\n",
       "    <tr>\n",
       "      <th>2936</th>\n",
       "      <td>64.808219</td>\n",
       "      <td>2</td>\n",
       "      <td>156</td>\n",
       "      <td>60.0</td>\n",
       "      <td>140</td>\n",
       "      <td>90</td>\n",
       "      <td>1</td>\n",
       "      <td>1</td>\n",
       "      <td>0</td>\n",
       "      <td>0</td>\n",
       "      <td>1</td>\n",
       "      <td>1</td>\n",
       "    </tr>\n",
       "    <tr>\n",
       "      <th>4295</th>\n",
       "      <td>64.849315</td>\n",
       "      <td>1</td>\n",
       "      <td>169</td>\n",
       "      <td>75.0</td>\n",
       "      <td>120</td>\n",
       "      <td>80</td>\n",
       "      <td>1</td>\n",
       "      <td>1</td>\n",
       "      <td>0</td>\n",
       "      <td>0</td>\n",
       "      <td>1</td>\n",
       "      <td>0</td>\n",
       "    </tr>\n",
       "    <tr>\n",
       "      <th>9787</th>\n",
       "      <td>64.838356</td>\n",
       "      <td>2</td>\n",
       "      <td>165</td>\n",
       "      <td>70.0</td>\n",
       "      <td>120</td>\n",
       "      <td>80</td>\n",
       "      <td>1</td>\n",
       "      <td>1</td>\n",
       "      <td>0</td>\n",
       "      <td>0</td>\n",
       "      <td>0</td>\n",
       "      <td>0</td>\n",
       "    </tr>\n",
       "    <tr>\n",
       "      <th>10422</th>\n",
       "      <td>64.816438</td>\n",
       "      <td>2</td>\n",
       "      <td>177</td>\n",
       "      <td>102.0</td>\n",
       "      <td>130</td>\n",
       "      <td>80</td>\n",
       "      <td>1</td>\n",
       "      <td>2</td>\n",
       "      <td>0</td>\n",
       "      <td>0</td>\n",
       "      <td>1</td>\n",
       "      <td>0</td>\n",
       "    </tr>\n",
       "    <tr>\n",
       "      <th>16439</th>\n",
       "      <td>64.821918</td>\n",
       "      <td>1</td>\n",
       "      <td>160</td>\n",
       "      <td>65.0</td>\n",
       "      <td>130</td>\n",
       "      <td>80</td>\n",
       "      <td>3</td>\n",
       "      <td>3</td>\n",
       "      <td>0</td>\n",
       "      <td>0</td>\n",
       "      <td>0</td>\n",
       "      <td>1</td>\n",
       "    </tr>\n",
       "    <tr>\n",
       "      <th>18062</th>\n",
       "      <td>64.863014</td>\n",
       "      <td>1</td>\n",
       "      <td>140</td>\n",
       "      <td>48.0</td>\n",
       "      <td>170</td>\n",
       "      <td>100</td>\n",
       "      <td>2</td>\n",
       "      <td>1</td>\n",
       "      <td>0</td>\n",
       "      <td>0</td>\n",
       "      <td>1</td>\n",
       "      <td>1</td>\n",
       "    </tr>\n",
       "    <tr>\n",
       "      <th>20931</th>\n",
       "      <td>64.904110</td>\n",
       "      <td>1</td>\n",
       "      <td>165</td>\n",
       "      <td>63.0</td>\n",
       "      <td>150</td>\n",
       "      <td>90</td>\n",
       "      <td>2</td>\n",
       "      <td>1</td>\n",
       "      <td>0</td>\n",
       "      <td>0</td>\n",
       "      <td>1</td>\n",
       "      <td>1</td>\n",
       "    </tr>\n",
       "    <tr>\n",
       "      <th>22229</th>\n",
       "      <td>64.838356</td>\n",
       "      <td>2</td>\n",
       "      <td>170</td>\n",
       "      <td>91.0</td>\n",
       "      <td>130</td>\n",
       "      <td>90</td>\n",
       "      <td>1</td>\n",
       "      <td>1</td>\n",
       "      <td>0</td>\n",
       "      <td>0</td>\n",
       "      <td>1</td>\n",
       "      <td>0</td>\n",
       "    </tr>\n",
       "    <tr>\n",
       "      <th>26469</th>\n",
       "      <td>64.843836</td>\n",
       "      <td>1</td>\n",
       "      <td>169</td>\n",
       "      <td>80.0</td>\n",
       "      <td>120</td>\n",
       "      <td>80</td>\n",
       "      <td>1</td>\n",
       "      <td>1</td>\n",
       "      <td>0</td>\n",
       "      <td>0</td>\n",
       "      <td>1</td>\n",
       "      <td>0</td>\n",
       "    </tr>\n",
       "    <tr>\n",
       "      <th>26627</th>\n",
       "      <td>64.805479</td>\n",
       "      <td>1</td>\n",
       "      <td>156</td>\n",
       "      <td>66.0</td>\n",
       "      <td>140</td>\n",
       "      <td>90</td>\n",
       "      <td>3</td>\n",
       "      <td>3</td>\n",
       "      <td>0</td>\n",
       "      <td>0</td>\n",
       "      <td>0</td>\n",
       "      <td>1</td>\n",
       "    </tr>\n",
       "    <tr>\n",
       "      <th>27209</th>\n",
       "      <td>64.843836</td>\n",
       "      <td>1</td>\n",
       "      <td>170</td>\n",
       "      <td>66.0</td>\n",
       "      <td>110</td>\n",
       "      <td>70</td>\n",
       "      <td>1</td>\n",
       "      <td>1</td>\n",
       "      <td>0</td>\n",
       "      <td>0</td>\n",
       "      <td>0</td>\n",
       "      <td>1</td>\n",
       "    </tr>\n",
       "    <tr>\n",
       "      <th>27847</th>\n",
       "      <td>64.819178</td>\n",
       "      <td>1</td>\n",
       "      <td>154</td>\n",
       "      <td>59.0</td>\n",
       "      <td>130</td>\n",
       "      <td>90</td>\n",
       "      <td>1</td>\n",
       "      <td>1</td>\n",
       "      <td>0</td>\n",
       "      <td>0</td>\n",
       "      <td>1</td>\n",
       "      <td>0</td>\n",
       "    </tr>\n",
       "    <tr>\n",
       "      <th>28545</th>\n",
       "      <td>64.843836</td>\n",
       "      <td>2</td>\n",
       "      <td>166</td>\n",
       "      <td>89.0</td>\n",
       "      <td>160</td>\n",
       "      <td>100</td>\n",
       "      <td>1</td>\n",
       "      <td>1</td>\n",
       "      <td>0</td>\n",
       "      <td>0</td>\n",
       "      <td>1</td>\n",
       "      <td>1</td>\n",
       "    </tr>\n",
       "    <tr>\n",
       "      <th>33789</th>\n",
       "      <td>64.849315</td>\n",
       "      <td>1</td>\n",
       "      <td>158</td>\n",
       "      <td>65.0</td>\n",
       "      <td>120</td>\n",
       "      <td>80</td>\n",
       "      <td>1</td>\n",
       "      <td>1</td>\n",
       "      <td>0</td>\n",
       "      <td>0</td>\n",
       "      <td>1</td>\n",
       "      <td>1</td>\n",
       "    </tr>\n",
       "    <tr>\n",
       "      <th>36603</th>\n",
       "      <td>64.895890</td>\n",
       "      <td>2</td>\n",
       "      <td>163</td>\n",
       "      <td>55.0</td>\n",
       "      <td>120</td>\n",
       "      <td>80</td>\n",
       "      <td>3</td>\n",
       "      <td>1</td>\n",
       "      <td>1</td>\n",
       "      <td>0</td>\n",
       "      <td>1</td>\n",
       "      <td>1</td>\n",
       "    </tr>\n",
       "    <tr>\n",
       "      <th>37677</th>\n",
       "      <td>64.887671</td>\n",
       "      <td>2</td>\n",
       "      <td>165</td>\n",
       "      <td>64.0</td>\n",
       "      <td>120</td>\n",
       "      <td>80</td>\n",
       "      <td>1</td>\n",
       "      <td>1</td>\n",
       "      <td>0</td>\n",
       "      <td>0</td>\n",
       "      <td>1</td>\n",
       "      <td>1</td>\n",
       "    </tr>\n",
       "    <tr>\n",
       "      <th>40099</th>\n",
       "      <td>64.871233</td>\n",
       "      <td>1</td>\n",
       "      <td>165</td>\n",
       "      <td>74.0</td>\n",
       "      <td>120</td>\n",
       "      <td>80</td>\n",
       "      <td>1</td>\n",
       "      <td>1</td>\n",
       "      <td>0</td>\n",
       "      <td>0</td>\n",
       "      <td>1</td>\n",
       "      <td>0</td>\n",
       "    </tr>\n",
       "    <tr>\n",
       "      <th>40672</th>\n",
       "      <td>64.813699</td>\n",
       "      <td>2</td>\n",
       "      <td>168</td>\n",
       "      <td>69.0</td>\n",
       "      <td>120</td>\n",
       "      <td>80</td>\n",
       "      <td>1</td>\n",
       "      <td>1</td>\n",
       "      <td>0</td>\n",
       "      <td>0</td>\n",
       "      <td>1</td>\n",
       "      <td>0</td>\n",
       "    </tr>\n",
       "    <tr>\n",
       "      <th>45514</th>\n",
       "      <td>64.841096</td>\n",
       "      <td>1</td>\n",
       "      <td>156</td>\n",
       "      <td>75.0</td>\n",
       "      <td>100</td>\n",
       "      <td>80</td>\n",
       "      <td>1</td>\n",
       "      <td>1</td>\n",
       "      <td>0</td>\n",
       "      <td>0</td>\n",
       "      <td>0</td>\n",
       "      <td>0</td>\n",
       "    </tr>\n",
       "    <tr>\n",
       "      <th>46063</th>\n",
       "      <td>64.838356</td>\n",
       "      <td>1</td>\n",
       "      <td>159</td>\n",
       "      <td>58.0</td>\n",
       "      <td>120</td>\n",
       "      <td>60</td>\n",
       "      <td>1</td>\n",
       "      <td>1</td>\n",
       "      <td>0</td>\n",
       "      <td>0</td>\n",
       "      <td>1</td>\n",
       "      <td>1</td>\n",
       "    </tr>\n",
       "    <tr>\n",
       "      <th>48563</th>\n",
       "      <td>64.810959</td>\n",
       "      <td>2</td>\n",
       "      <td>165</td>\n",
       "      <td>70.0</td>\n",
       "      <td>120</td>\n",
       "      <td>80</td>\n",
       "      <td>2</td>\n",
       "      <td>1</td>\n",
       "      <td>1</td>\n",
       "      <td>0</td>\n",
       "      <td>0</td>\n",
       "      <td>1</td>\n",
       "    </tr>\n",
       "    <tr>\n",
       "      <th>48648</th>\n",
       "      <td>64.810959</td>\n",
       "      <td>2</td>\n",
       "      <td>160</td>\n",
       "      <td>60.0</td>\n",
       "      <td>120</td>\n",
       "      <td>80</td>\n",
       "      <td>1</td>\n",
       "      <td>1</td>\n",
       "      <td>0</td>\n",
       "      <td>0</td>\n",
       "      <td>1</td>\n",
       "      <td>0</td>\n",
       "    </tr>\n",
       "    <tr>\n",
       "      <th>50714</th>\n",
       "      <td>64.909589</td>\n",
       "      <td>2</td>\n",
       "      <td>167</td>\n",
       "      <td>68.0</td>\n",
       "      <td>120</td>\n",
       "      <td>80</td>\n",
       "      <td>2</td>\n",
       "      <td>2</td>\n",
       "      <td>0</td>\n",
       "      <td>0</td>\n",
       "      <td>0</td>\n",
       "      <td>1</td>\n",
       "    </tr>\n",
       "    <tr>\n",
       "      <th>53176</th>\n",
       "      <td>64.821918</td>\n",
       "      <td>1</td>\n",
       "      <td>166</td>\n",
       "      <td>66.0</td>\n",
       "      <td>120</td>\n",
       "      <td>80</td>\n",
       "      <td>1</td>\n",
       "      <td>1</td>\n",
       "      <td>0</td>\n",
       "      <td>0</td>\n",
       "      <td>0</td>\n",
       "      <td>0</td>\n",
       "    </tr>\n",
       "    <tr>\n",
       "      <th>55533</th>\n",
       "      <td>64.854795</td>\n",
       "      <td>1</td>\n",
       "      <td>160</td>\n",
       "      <td>60.0</td>\n",
       "      <td>120</td>\n",
       "      <td>80</td>\n",
       "      <td>1</td>\n",
       "      <td>1</td>\n",
       "      <td>0</td>\n",
       "      <td>0</td>\n",
       "      <td>1</td>\n",
       "      <td>1</td>\n",
       "    </tr>\n",
       "    <tr>\n",
       "      <th>55990</th>\n",
       "      <td>64.841096</td>\n",
       "      <td>1</td>\n",
       "      <td>160</td>\n",
       "      <td>70.0</td>\n",
       "      <td>120</td>\n",
       "      <td>90</td>\n",
       "      <td>1</td>\n",
       "      <td>1</td>\n",
       "      <td>0</td>\n",
       "      <td>1</td>\n",
       "      <td>1</td>\n",
       "      <td>0</td>\n",
       "    </tr>\n",
       "    <tr>\n",
       "      <th>57191</th>\n",
       "      <td>64.967123</td>\n",
       "      <td>2</td>\n",
       "      <td>175</td>\n",
       "      <td>75.0</td>\n",
       "      <td>120</td>\n",
       "      <td>80</td>\n",
       "      <td>1</td>\n",
       "      <td>1</td>\n",
       "      <td>0</td>\n",
       "      <td>0</td>\n",
       "      <td>1</td>\n",
       "      <td>1</td>\n",
       "    </tr>\n",
       "    <tr>\n",
       "      <th>57853</th>\n",
       "      <td>64.863014</td>\n",
       "      <td>1</td>\n",
       "      <td>165</td>\n",
       "      <td>65.0</td>\n",
       "      <td>130</td>\n",
       "      <td>80</td>\n",
       "      <td>1</td>\n",
       "      <td>1</td>\n",
       "      <td>0</td>\n",
       "      <td>0</td>\n",
       "      <td>1</td>\n",
       "      <td>1</td>\n",
       "    </tr>\n",
       "    <tr>\n",
       "      <th>59745</th>\n",
       "      <td>64.813699</td>\n",
       "      <td>2</td>\n",
       "      <td>174</td>\n",
       "      <td>70.0</td>\n",
       "      <td>120</td>\n",
       "      <td>80</td>\n",
       "      <td>1</td>\n",
       "      <td>1</td>\n",
       "      <td>0</td>\n",
       "      <td>0</td>\n",
       "      <td>1</td>\n",
       "      <td>1</td>\n",
       "    </tr>\n",
       "    <tr>\n",
       "      <th>59784</th>\n",
       "      <td>64.857534</td>\n",
       "      <td>2</td>\n",
       "      <td>170</td>\n",
       "      <td>68.0</td>\n",
       "      <td>110</td>\n",
       "      <td>80</td>\n",
       "      <td>2</td>\n",
       "      <td>2</td>\n",
       "      <td>0</td>\n",
       "      <td>0</td>\n",
       "      <td>0</td>\n",
       "      <td>1</td>\n",
       "    </tr>\n",
       "    <tr>\n",
       "      <th>64617</th>\n",
       "      <td>64.857534</td>\n",
       "      <td>2</td>\n",
       "      <td>171</td>\n",
       "      <td>69.0</td>\n",
       "      <td>110</td>\n",
       "      <td>70</td>\n",
       "      <td>1</td>\n",
       "      <td>1</td>\n",
       "      <td>0</td>\n",
       "      <td>0</td>\n",
       "      <td>1</td>\n",
       "      <td>0</td>\n",
       "    </tr>\n",
       "    <tr>\n",
       "      <th>67316</th>\n",
       "      <td>64.808219</td>\n",
       "      <td>2</td>\n",
       "      <td>174</td>\n",
       "      <td>80.0</td>\n",
       "      <td>140</td>\n",
       "      <td>90</td>\n",
       "      <td>1</td>\n",
       "      <td>1</td>\n",
       "      <td>0</td>\n",
       "      <td>0</td>\n",
       "      <td>1</td>\n",
       "      <td>1</td>\n",
       "    </tr>\n",
       "    <tr>\n",
       "      <th>68005</th>\n",
       "      <td>64.934247</td>\n",
       "      <td>1</td>\n",
       "      <td>178</td>\n",
       "      <td>75.0</td>\n",
       "      <td>120</td>\n",
       "      <td>80</td>\n",
       "      <td>1</td>\n",
       "      <td>1</td>\n",
       "      <td>0</td>\n",
       "      <td>0</td>\n",
       "      <td>1</td>\n",
       "      <td>1</td>\n",
       "    </tr>\n",
       "    <tr>\n",
       "      <th>68729</th>\n",
       "      <td>64.849315</td>\n",
       "      <td>1</td>\n",
       "      <td>160</td>\n",
       "      <td>75.0</td>\n",
       "      <td>110</td>\n",
       "      <td>90</td>\n",
       "      <td>1</td>\n",
       "      <td>1</td>\n",
       "      <td>0</td>\n",
       "      <td>0</td>\n",
       "      <td>1</td>\n",
       "      <td>1</td>\n",
       "    </tr>\n",
       "    <tr>\n",
       "      <th>69142</th>\n",
       "      <td>64.868493</td>\n",
       "      <td>1</td>\n",
       "      <td>169</td>\n",
       "      <td>70.0</td>\n",
       "      <td>120</td>\n",
       "      <td>80</td>\n",
       "      <td>3</td>\n",
       "      <td>3</td>\n",
       "      <td>0</td>\n",
       "      <td>0</td>\n",
       "      <td>1</td>\n",
       "      <td>1</td>\n",
       "    </tr>\n",
       "  </tbody>\n",
       "</table>\n",
       "</div>"
      ],
      "text/plain": [
       "             age  gender  height  weight  ap_hi  ap_lo  cholesterol  gluc  \\\n",
       "395    64.824658       2     160    78.0    140     90            1     1   \n",
       "643    64.802740       1     154    79.0    130     80            1     1   \n",
       "2936   64.808219       2     156    60.0    140     90            1     1   \n",
       "4295   64.849315       1     169    75.0    120     80            1     1   \n",
       "9787   64.838356       2     165    70.0    120     80            1     1   \n",
       "10422  64.816438       2     177   102.0    130     80            1     2   \n",
       "16439  64.821918       1     160    65.0    130     80            3     3   \n",
       "18062  64.863014       1     140    48.0    170    100            2     1   \n",
       "20931  64.904110       1     165    63.0    150     90            2     1   \n",
       "22229  64.838356       2     170    91.0    130     90            1     1   \n",
       "26469  64.843836       1     169    80.0    120     80            1     1   \n",
       "26627  64.805479       1     156    66.0    140     90            3     3   \n",
       "27209  64.843836       1     170    66.0    110     70            1     1   \n",
       "27847  64.819178       1     154    59.0    130     90            1     1   \n",
       "28545  64.843836       2     166    89.0    160    100            1     1   \n",
       "33789  64.849315       1     158    65.0    120     80            1     1   \n",
       "36603  64.895890       2     163    55.0    120     80            3     1   \n",
       "37677  64.887671       2     165    64.0    120     80            1     1   \n",
       "40099  64.871233       1     165    74.0    120     80            1     1   \n",
       "40672  64.813699       2     168    69.0    120     80            1     1   \n",
       "45514  64.841096       1     156    75.0    100     80            1     1   \n",
       "46063  64.838356       1     159    58.0    120     60            1     1   \n",
       "48563  64.810959       2     165    70.0    120     80            2     1   \n",
       "48648  64.810959       2     160    60.0    120     80            1     1   \n",
       "50714  64.909589       2     167    68.0    120     80            2     2   \n",
       "53176  64.821918       1     166    66.0    120     80            1     1   \n",
       "55533  64.854795       1     160    60.0    120     80            1     1   \n",
       "55990  64.841096       1     160    70.0    120     90            1     1   \n",
       "57191  64.967123       2     175    75.0    120     80            1     1   \n",
       "57853  64.863014       1     165    65.0    130     80            1     1   \n",
       "59745  64.813699       2     174    70.0    120     80            1     1   \n",
       "59784  64.857534       2     170    68.0    110     80            2     2   \n",
       "64617  64.857534       2     171    69.0    110     70            1     1   \n",
       "67316  64.808219       2     174    80.0    140     90            1     1   \n",
       "68005  64.934247       1     178    75.0    120     80            1     1   \n",
       "68729  64.849315       1     160    75.0    110     90            1     1   \n",
       "69142  64.868493       1     169    70.0    120     80            3     3   \n",
       "\n",
       "       smoke  alco  active  cardio  \n",
       "395        0     0       1       0  \n",
       "643        0     0       1       0  \n",
       "2936       0     0       1       1  \n",
       "4295       0     0       1       0  \n",
       "9787       0     0       0       0  \n",
       "10422      0     0       1       0  \n",
       "16439      0     0       0       1  \n",
       "18062      0     0       1       1  \n",
       "20931      0     0       1       1  \n",
       "22229      0     0       1       0  \n",
       "26469      0     0       1       0  \n",
       "26627      0     0       0       1  \n",
       "27209      0     0       0       1  \n",
       "27847      0     0       1       0  \n",
       "28545      0     0       1       1  \n",
       "33789      0     0       1       1  \n",
       "36603      1     0       1       1  \n",
       "37677      0     0       1       1  \n",
       "40099      0     0       1       0  \n",
       "40672      0     0       1       0  \n",
       "45514      0     0       0       0  \n",
       "46063      0     0       1       1  \n",
       "48563      1     0       0       1  \n",
       "48648      0     0       1       0  \n",
       "50714      0     0       0       1  \n",
       "53176      0     0       0       0  \n",
       "55533      0     0       1       1  \n",
       "55990      0     1       1       0  \n",
       "57191      0     0       1       1  \n",
       "57853      0     0       1       1  \n",
       "59745      0     0       1       1  \n",
       "59784      0     0       0       1  \n",
       "64617      0     0       1       0  \n",
       "67316      0     0       1       1  \n",
       "68005      0     0       1       1  \n",
       "68729      0     0       1       1  \n",
       "69142      0     0       1       1  "
      ]
     },
     "execution_count": 64,
     "metadata": {},
     "output_type": "execute_result"
    }
   ],
   "source": [
    "cardio_df[cardio_df[\"age\"]>64.8]"
   ]
  },
  {
   "cell_type": "code",
   "execution_count": null,
   "metadata": {},
   "outputs": [],
   "source": []
  },
  {
   "cell_type": "markdown",
   "metadata": {},
   "source": [
    "# TASK #4: VISUALIZE DATASET"
   ]
  },
  {
   "cell_type": "markdown",
   "metadata": {},
   "source": [
    "MINI CHALLENGE\n",
    "- plot the histogram for all features (use 20 bins) \n",
    "- plot the correlation matrix and indicate if there exists any correlations between features"
   ]
  },
  {
   "cell_type": "code",
   "execution_count": null,
   "metadata": {},
   "outputs": [],
   "source": [
    "plt.hist(cardio_df,  bin=20);"
   ]
  },
  {
   "cell_type": "code",
   "execution_count": 6,
   "metadata": {
    "colab": {
     "base_uri": "https://localhost:8080/",
     "height": 1000
    },
    "colab_type": "code",
    "id": "Ka9uFRXSkWHw",
    "outputId": "f42a681e-93d4-4b1f-a29c-f58fc8a6f974"
   },
   "outputs": [],
   "source": [
    "sns.pairplot(cardio_df)"
   ]
  },
  {
   "cell_type": "code",
   "execution_count": null,
   "metadata": {
    "colab": {
     "base_uri": "https://localhost:8080/",
     "height": 297
    },
    "colab_type": "code",
    "id": "9q-tFxvskWDa",
    "outputId": "8834e9ec-7676-4e86-c5e7-20f4e9eccbcb"
   },
   "outputs": [],
   "source": []
  },
  {
   "cell_type": "code",
   "execution_count": null,
   "metadata": {
    "colab": {
     "base_uri": "https://localhost:8080/",
     "height": 932
    },
    "colab_type": "code",
    "id": "clmblKfur8rm",
    "outputId": "760b0882-8993-4aed-9c38-866ef8a7c6cd"
   },
   "outputs": [],
   "source": []
  },
  {
   "cell_type": "markdown",
   "metadata": {
    "colab_type": "text",
    "id": "53qDZFRn3-S1"
   },
   "source": [
    "# TASK #5: CREATE TRAINING AND TESTING DATASET"
   ]
  },
  {
   "cell_type": "code",
   "execution_count": 7,
   "metadata": {},
   "outputs": [],
   "source": [
    "# split the dataframe into target and features\n",
    "\n",
    "df_target = cardio_df['cardio']\n",
    "df_final = cardio_df.drop(columns =['cardio'])"
   ]
  },
  {
   "cell_type": "code",
   "execution_count": 12,
   "metadata": {
    "colab": {
     "base_uri": "https://localhost:8080/",
     "height": 68
    },
    "colab_type": "code",
    "id": "8QQTkOBL1yUR",
    "outputId": "e79771c7-a34d-430f-db8a-fa4c1253af78"
   },
   "outputs": [
    {
     "data": {
      "text/plain": [
       "Index(['age', 'gender', 'height', 'weight', 'ap_hi', 'ap_lo', 'cholesterol',\n",
       "       'gluc', 'smoke', 'alco', 'active', 'cardio'],\n",
       "      dtype='object')"
      ]
     },
     "execution_count": 12,
     "metadata": {},
     "output_type": "execute_result"
    }
   ],
   "source": [
    "cardio_df.columns"
   ]
  },
  {
   "cell_type": "code",
   "execution_count": 13,
   "metadata": {
    "colab": {
     "base_uri": "https://localhost:8080/",
     "height": 34
    },
    "colab_type": "code",
    "id": "XpGU63Ne1e9P",
    "outputId": "e16c74ca-dc1c-416c-dc44-7f927bb99bc6"
   },
   "outputs": [
    {
     "data": {
      "text/plain": [
       "(70000, 11)"
      ]
     },
     "execution_count": 13,
     "metadata": {},
     "output_type": "execute_result"
    }
   ],
   "source": [
    "df_final.shape"
   ]
  },
  {
   "cell_type": "code",
   "execution_count": 14,
   "metadata": {
    "colab": {
     "base_uri": "https://localhost:8080/",
     "height": 34
    },
    "colab_type": "code",
    "id": "OjGj0RALA0qZ",
    "outputId": "26559a6c-880b-45b4-a1e8-3c4b92bea889"
   },
   "outputs": [
    {
     "data": {
      "text/plain": [
       "(70000,)"
      ]
     },
     "execution_count": 14,
     "metadata": {},
     "output_type": "execute_result"
    }
   ],
   "source": [
    "df_target.shape"
   ]
  },
  {
   "cell_type": "code",
   "execution_count": 8,
   "metadata": {
    "colab": {},
    "colab_type": "code",
    "id": "GoReLFfnA6uF"
   },
   "outputs": [],
   "source": [
    "#spliting the data in to test and train sets\n",
    "from sklearn.model_selection import train_test_split\n",
    "\n",
    "X_train, X_test, y_train, y_test = train_test_split(df_final, df_target, test_size = 0.2)\n",
    "\n"
   ]
  },
  {
   "cell_type": "code",
   "execution_count": 16,
   "metadata": {},
   "outputs": [
    {
     "data": {
      "text/plain": [
       "(56000, 11)"
      ]
     },
     "execution_count": 16,
     "metadata": {},
     "output_type": "execute_result"
    }
   ],
   "source": [
    "X_train.shape"
   ]
  },
  {
   "cell_type": "code",
   "execution_count": 17,
   "metadata": {},
   "outputs": [
    {
     "data": {
      "text/plain": [
       "(56000,)"
      ]
     },
     "execution_count": 17,
     "metadata": {},
     "output_type": "execute_result"
    }
   ],
   "source": [
    "y_train.shape"
   ]
  },
  {
   "cell_type": "code",
   "execution_count": 18,
   "metadata": {},
   "outputs": [
    {
     "data": {
      "text/plain": [
       "(14000, 11)"
      ]
     },
     "execution_count": 18,
     "metadata": {},
     "output_type": "execute_result"
    }
   ],
   "source": [
    "X_test.shape"
   ]
  },
  {
   "cell_type": "code",
   "execution_count": 25,
   "metadata": {},
   "outputs": [
    {
     "data": {
      "text/plain": [
       "(14000, 11)"
      ]
     },
     "execution_count": 25,
     "metadata": {},
     "output_type": "execute_result"
    }
   ],
   "source": [
    "X_test.shape"
   ]
  },
  {
   "cell_type": "markdown",
   "metadata": {},
   "source": [
    "# TASK #6: TRAIN AND TEST XGBOOST MODEL IN LOCAL MODE (NOTE THAT SAGEMAKER BUILT-IN ALGORITHMS ARE NOT USED HERE)"
   ]
  },
  {
   "cell_type": "code",
   "execution_count": 10,
   "metadata": {},
   "outputs": [
    {
     "name": "stdout",
     "output_type": "stream",
     "text": [
      "/opt/conda/lib/python3.7/site-packages/secretstorage/dhcrypto.py:16: CryptographyDeprecationWarning: int_from_bytes is deprecated, use int.from_bytes instead\n",
      "  from cryptography.utils import int_from_bytes\n",
      "/opt/conda/lib/python3.7/site-packages/secretstorage/util.py:25: CryptographyDeprecationWarning: int_from_bytes is deprecated, use int.from_bytes instead\n",
      "  from cryptography.utils import int_from_bytes\n",
      "Collecting xgboost\n",
      "  Using cached xgboost-1.5.2-py3-none-manylinux2014_x86_64.whl (173.6 MB)\n",
      "Requirement already satisfied: numpy in /opt/conda/lib/python3.7/site-packages (from xgboost) (1.20.3)\n",
      "Requirement already satisfied: scipy in /opt/conda/lib/python3.7/site-packages (from xgboost) (1.4.1)\n",
      "Installing collected packages: xgboost\n",
      "Successfully installed xgboost-1.5.2\n",
      "\u001b[33mWARNING: Running pip as the 'root' user can result in broken permissions and conflicting behaviour with the system package manager. It is recommended to use a virtual environment instead: https://pip.pypa.io/warnings/venv\u001b[0m\n",
      "\u001b[33mWARNING: You are using pip version 21.3.1; however, version 22.0.3 is available.\n",
      "You should consider upgrading via the '/opt/conda/bin/python -m pip install --upgrade pip' command.\u001b[0m\n"
     ]
    }
   ],
   "source": [
    "# install xgboost\n",
    "\n",
    "!pip install xgboost"
   ]
  },
  {
   "cell_type": "code",
   "execution_count": 31,
   "metadata": {
    "colab": {
     "base_uri": "https://localhost:8080/",
     "height": 34
    },
    "colab_type": "code",
    "id": "yHL-6mKwBURs",
    "outputId": "10d71b6d-9c2b-4bab-8b27-d3c5883e6a25"
   },
   "outputs": [
    {
     "name": "stderr",
     "output_type": "stream",
     "text": [
      "/opt/conda/lib/python3.7/site-packages/xgboost/sklearn.py:1224: UserWarning: The use of label encoder in XGBClassifier is deprecated and will be removed in a future release. To remove this warning, do the following: 1) Pass option use_label_encoder=False when constructing XGBClassifier object; and 2) Encode your labels (y) as integers starting with 0, i.e. 0, 1, 2, ..., [num_class - 1].\n",
      "  warnings.warn(label_encoder_deprecation_msg, UserWarning)\n"
     ]
    },
    {
     "name": "stdout",
     "output_type": "stream",
     "text": [
      "[09:44:47] WARNING: ../src/learner.cc:1115: Starting in XGBoost 1.3.0, the default evaluation metric used with the objective 'binary:logistic' was changed from 'error' to 'logloss'. Explicitly set eval_metric if you'd like to restore the old behavior.\n"
     ]
    },
    {
     "data": {
      "text/plain": [
       "XGBClassifier(base_score=0.5, booster='gbtree', colsample_bylevel=1,\n",
       "              colsample_bynode=1, colsample_bytree=1, enable_categorical=False,\n",
       "              gamma=0, gpu_id=-1, importance_type=None,\n",
       "              interaction_constraints='', learning_rate=0.01, max_delta_step=0,\n",
       "              max_depth=20, min_child_weight=1, missing=nan,\n",
       "              monotone_constraints='()', n_estimators=500, n_jobs=2,\n",
       "              num_parallel_tree=1, objective='binary:logistic',\n",
       "              predictor='auto', random_state=0, reg_alpha=0, reg_lambda=1,\n",
       "              scale_pos_weight=1, subsample=1, tree_method='exact',\n",
       "              use_label_encoder=True, validate_parameters=1, verbosity=None)"
      ]
     },
     "execution_count": 31,
     "metadata": {},
     "output_type": "execute_result"
    }
   ],
   "source": [
    "# use xgboost model in local mode\n",
    "\n",
    "# note that we have not performed any normalization or scaling since XGBoost is not sensitive to this.\n",
    "# XGboost is a type of ensemble algorithms and works by selecting thresholds or cut points on features to split a node. \n",
    "# It doesn't really matter if the features are scaled or not.\n",
    "\n",
    "\n",
    "from xgboost import XGBClassifier\n",
    "\n",
    "# model = XGBClassifier(learning_rate=0.01, n_estimators=100, objective='binary:logistic')\n",
    "# model = XGBClassifier()\n",
    "model = XGBClassifier(learning_rate=0.01, n_estimators=500, max_depth=20)\n",
    "\n",
    "\n",
    "\n",
    "model.fit(X_train, y_train)"
   ]
  },
  {
   "cell_type": "code",
   "execution_count": 32,
   "metadata": {},
   "outputs": [],
   "source": [
    "# make predictions on test data\n",
    "\n",
    "predict = model.predict(X_test)"
   ]
  },
  {
   "cell_type": "code",
   "execution_count": 23,
   "metadata": {},
   "outputs": [
    {
     "data": {
      "text/plain": [
       "array([1, 0, 0, ..., 1, 0, 0])"
      ]
     },
     "execution_count": 23,
     "metadata": {},
     "output_type": "execute_result"
    }
   ],
   "source": [
    "predict"
   ]
  },
  {
   "cell_type": "code",
   "execution_count": 33,
   "metadata": {},
   "outputs": [
    {
     "name": "stdout",
     "output_type": "stream",
     "text": [
      "[[26222  1876]\n",
      " [ 2823 25079]]\n",
      "              precision    recall  f1-score   support\n",
      "\n",
      "           0       0.90      0.93      0.92     28098\n",
      "           1       0.93      0.90      0.91     27902\n",
      "\n",
      "    accuracy                           0.92     56000\n",
      "   macro avg       0.92      0.92      0.92     56000\n",
      "weighted avg       0.92      0.92      0.92     56000\n",
      "\n"
     ]
    }
   ],
   "source": [
    "# Assess trained model performance on training dataset\n",
    "predict_train = model.predict(X_train)\n",
    "from sklearn.metrics import confusion_matrix, classification_report\n",
    "print(confusion_matrix(y_train, predict_train))\n",
    "print(classification_report(y_train, predict_train))\n",
    "# plt.figure()\n",
    "# sns.heatmap(cm, annot=True)"
   ]
  },
  {
   "cell_type": "code",
   "execution_count": 34,
   "metadata": {},
   "outputs": [
    {
     "name": "stdout",
     "output_type": "stream",
     "text": [
      "Precision = 0.9304025227230569\n",
      "Recall = 0.89882445702817\n",
      "Accuracy = 0.9160892857142857\n"
     ]
    }
   ],
   "source": [
    "# print metrics for training dataset\n",
    "\n",
    "from sklearn.metrics import precision_score, recall_score, accuracy_score\n",
    "\n",
    "print(\"Precision = {}\".format(precision_score(y_train, predict_train)))\n",
    "print(\"Recall = {}\".format(recall_score(y_train, predict_train)))\n",
    "print(\"Accuracy = {}\".format(accuracy_score(y_train, predict_train)))"
   ]
  },
  {
   "cell_type": "code",
   "execution_count": 35,
   "metadata": {},
   "outputs": [
    {
     "name": "stdout",
     "output_type": "stream",
     "text": [
      "Precision = 0.7409855769230769\n",
      "Recall = 0.6969054684188215\n",
      "Accuracy = 0.7236428571428571\n"
     ]
    }
   ],
   "source": [
    "# print metrics for testing dataset\n",
    "\n",
    "print(\"Precision = {}\".format(precision_score(y_test, predict)))\n",
    "print(\"Recall = {}\".format(recall_score(y_test, predict)))\n",
    "print(\"Accuracy = {}\".format(accuracy_score(y_test, predict)))"
   ]
  },
  {
   "cell_type": "code",
   "execution_count": 36,
   "metadata": {},
   "outputs": [
    {
     "name": "stdout",
     "output_type": "stream",
     "text": [
      "[[5199 1724]\n",
      " [2145 4932]]\n",
      "              precision    recall  f1-score   support\n",
      "\n",
      "           0       0.71      0.75      0.73      6923\n",
      "           1       0.74      0.70      0.72      7077\n",
      "\n",
      "    accuracy                           0.72     14000\n",
      "   macro avg       0.72      0.72      0.72     14000\n",
      "weighted avg       0.72      0.72      0.72     14000\n",
      "\n"
     ]
    }
   ],
   "source": [
    "# plot the confusion matrix\n",
    "\n",
    "# from sklearn.metrics import confusion_matrix\n",
    "print(confusion_matrix(y_test, predict))\n",
    "print(classification_report(y_test, predict))\n"
   ]
  },
  {
   "cell_type": "code",
   "execution_count": 20,
   "metadata": {},
   "outputs": [],
   "source": [
    "param_grid = {\n",
    "        'gamma': [0.5, 1, 5],   # regularization parameter \n",
    "        'subsample': [0.6, 0.8, 1.0], # % of rows taken to build each tree\n",
    "        'colsample_bytree': [0.6, 0.8, 1.0], # number of columns used by each tree\n",
    "        'max_depth': [3, 4, 5] # depth of each tree\n",
    "        }"
   ]
  },
  {
   "cell_type": "code",
   "execution_count": 21,
   "metadata": {},
   "outputs": [],
   "source": [
    "from sklearn.model_selection import GridSearchCV"
   ]
  },
  {
   "cell_type": "code",
   "execution_count": 22,
   "metadata": {},
   "outputs": [
    {
     "name": "stdout",
     "output_type": "stream",
     "text": [
      "Fitting 5 folds for each of 81 candidates, totalling 405 fits\n"
     ]
    },
    {
     "name": "stderr",
     "output_type": "stream",
     "text": [
      "[Parallel(n_jobs=-1)]: Using backend LokyBackend with 2 concurrent workers.\n",
      "[Parallel(n_jobs=-1)]: Done  28 tasks      | elapsed:  2.2min\n",
      "[Parallel(n_jobs=-1)]: Done 124 tasks      | elapsed: 10.9min\n",
      "[Parallel(n_jobs=-1)]: Done 284 tasks      | elapsed: 25.7min\n",
      "[Parallel(n_jobs=-1)]: Done 405 out of 405 | elapsed: 38.1min finished\n",
      "/opt/conda/lib/python3.7/site-packages/xgboost/sklearn.py:1224: UserWarning: The use of label encoder in XGBClassifier is deprecated and will be removed in a future release. To remove this warning, do the following: 1) Pass option use_label_encoder=False when constructing XGBClassifier object; and 2) Encode your labels (y) as integers starting with 0, i.e. 0, 1, 2, ..., [num_class - 1].\n",
      "  warnings.warn(label_encoder_deprecation_msg, UserWarning)\n"
     ]
    },
    {
     "name": "stdout",
     "output_type": "stream",
     "text": [
      "[07:31:08] WARNING: ../src/learner.cc:1115: Starting in XGBoost 1.3.0, the default evaluation metric used with the objective 'binary:logistic' was changed from 'error' to 'logloss'. Explicitly set eval_metric if you'd like to restore the old behavior.\n"
     ]
    },
    {
     "data": {
      "text/plain": [
       "GridSearchCV(cv=5, error_score=nan,\n",
       "             estimator=XGBClassifier(base_score=None, booster=None,\n",
       "                                     colsample_bylevel=None,\n",
       "                                     colsample_bynode=None,\n",
       "                                     colsample_bytree=None,\n",
       "                                     enable_categorical=False, gamma=None,\n",
       "                                     gpu_id=None, importance_type=None,\n",
       "                                     interaction_constraints=None,\n",
       "                                     learning_rate=None, max_delta_step=None,\n",
       "                                     max_depth=None, min_child_weight=None,\n",
       "                                     missing=nan, monotone_c...\n",
       "                                     reg_alpha=None, reg_lambda=None,\n",
       "                                     scale_pos_weight=None, subsample=None,\n",
       "                                     tree_method=None, use_label_encoder=True,\n",
       "                                     validate_parameters=None, verbosity=None),\n",
       "             iid='deprecated', n_jobs=-1,\n",
       "             param_grid={'colsample_bytree': [0.6, 0.8, 1.0],\n",
       "                         'gamma': [0.5, 1, 5], 'max_depth': [3, 4, 5],\n",
       "                         'subsample': [0.6, 0.8, 1.0]},\n",
       "             pre_dispatch='2*n_jobs', refit=True, return_train_score=False,\n",
       "             scoring='f1', verbose=3)"
      ]
     },
     "execution_count": 22,
     "metadata": {},
     "output_type": "execute_result"
    }
   ],
   "source": [
    "grid = GridSearchCV(XGBClassifier(), param_grid=param_grid,scoring=\"f1\",n_jobs=-1, cv=5,verbose=3)\n",
    "grid.fit(X_train, y_train)"
   ]
  },
  {
   "cell_type": "code",
   "execution_count": 29,
   "metadata": {},
   "outputs": [
    {
     "data": {
      "text/plain": [
       "({'colsample_bytree': 0.6, 'gamma': 1, 'max_depth': 3, 'subsample': 0.6},\n",
       " 0.7242237639329457)"
      ]
     },
     "execution_count": 29,
     "metadata": {},
     "output_type": "execute_result"
    }
   ],
   "source": [
    "grid.best_params_, grid.best_score_"
   ]
  },
  {
   "cell_type": "code",
   "execution_count": 26,
   "metadata": {},
   "outputs": [],
   "source": [
    "y_predict_optim = grid.predict(X_test)"
   ]
  },
  {
   "cell_type": "code",
   "execution_count": 27,
   "metadata": {},
   "outputs": [
    {
     "name": "stdout",
     "output_type": "stream",
     "text": [
      "[[21995  6103]\n",
      " [ 8408 19494]]\n",
      "              precision    recall  f1-score   support\n",
      "\n",
      "           0       0.72      0.78      0.75     28098\n",
      "           1       0.76      0.70      0.73     27902\n",
      "\n",
      "    accuracy                           0.74     56000\n",
      "   macro avg       0.74      0.74      0.74     56000\n",
      "weighted avg       0.74      0.74      0.74     56000\n",
      "\n"
     ]
    }
   ],
   "source": [
    "predict_train = grid.predict(X_train)\n",
    "from sklearn.metrics import confusion_matrix, classification_report\n",
    "print(confusion_matrix(y_train, predict_train))\n",
    "print(classification_report(y_train, predict_train))"
   ]
  },
  {
   "cell_type": "code",
   "execution_count": 30,
   "metadata": {},
   "outputs": [
    {
     "name": "stdout",
     "output_type": "stream",
     "text": [
      "Precision = 0.7675104829942537\n",
      "Recall = 0.6983184965380811\n",
      "Accuracy = 0.7405714285714285\n"
     ]
    }
   ],
   "source": [
    "# print metrics for testing dataset\n",
    "\n",
    "print(\"Precision = {}\".format(precision_score(y_test, y_predict_optim)))\n",
    "print(\"Recall = {}\".format(recall_score(y_test, y_predict_optim)))\n",
    "print(\"Accuracy = {}\".format(accuracy_score(y_test, y_predict_optim)))"
   ]
  },
  {
   "cell_type": "markdown",
   "metadata": {},
   "source": [
    "# TASK #7: PERFORM DIMENSIONALITY REDUCTION USING PCA ( USING SAGEMAKER)"
   ]
  },
  {
   "cell_type": "code",
   "execution_count": 37,
   "metadata": {},
   "outputs": [],
   "source": [
    "# Boto3 is the Amazon Web Services (AWS) Software Development Kit (SDK) for Python\n",
    "# Boto3 allows Python developer to write software that makes use of services like Amazon S3 and Amazon EC2\n",
    "\n",
    "\n",
    "\n",
    "import sagemaker\n",
    "import boto3\n",
    "from sagemaker import Session\n",
    "\n",
    "# Let's create a Sagemaker session\n",
    "sagemaker_session = sagemaker.Session()\n",
    "bucket = Session().default_bucket() \n",
    "prefix = 'pca'  # prefix is the subfolder within the bucket.\n",
    "\n",
    "#Let's get the execution role for the notebook instance. \n",
    "# This is the IAM role that you created when you created your notebook instance. You pass the role to the training job.\n",
    "# Note that AWS Identity and Access Management (IAM) role that Amazon SageMaker can assume to perform tasks on your behalf (for example, reading training results, called model artifacts, from the S3 bucket and writing training results to Amazon S3). \n",
    "\n",
    "role = sagemaker.get_execution_role()"
   ]
  },
  {
   "cell_type": "code",
   "execution_count": 38,
   "metadata": {},
   "outputs": [
    {
     "data": {
      "text/plain": [
       "0"
      ]
     },
     "execution_count": 38,
     "metadata": {},
     "output_type": "execute_result"
    }
   ],
   "source": [
    "import io # The io module allows for dealing with various types of I/O (text I/O, binary I/O and raw I/O). \n",
    "import numpy as np\n",
    "import sagemaker.amazon.common as smac # sagemaker common libary\n",
    "\n",
    "# Code below converts the data in numpy array format to RecordIO format\n",
    "# This is the format required by Sagemaker PCA\n",
    "\n",
    "buf = io.BytesIO() # create an in-memory byte array (buf is a buffer I will be writing to)\n",
    "df_matrix = df_final.to_numpy() # convert the dataframe into 2-dimensional array\n",
    "smac.write_numpy_to_dense_tensor(buf, df_matrix)\n",
    "buf.seek(0)\n",
    "\n",
    "# When you write to in-memory byte arrays, it increments 1 every time you write to it\n",
    "# Let's reset that back to zero "
   ]
  },
  {
   "cell_type": "code",
   "execution_count": 39,
   "metadata": {},
   "outputs": [
    {
     "name": "stdout",
     "output_type": "stream",
     "text": [
      "uploaded training data location: s3://sagemaker-us-east-1-618725421363/pca/train/pca\n"
     ]
    }
   ],
   "source": [
    "import os\n",
    "\n",
    "# Code to upload RecordIO data to S3\n",
    " \n",
    "# Key refers to the name of the file \n",
    " \n",
    "key = 'pca'\n",
    "\n",
    "#following code uploads the data in record-io format to S3 bucket to be accessed later for training\n",
    "boto3.resource('s3').Bucket(bucket).Object(os.path.join(prefix, 'train', key)).upload_fileobj(buf)\n",
    "\n",
    "# Let's print out the training data location in s3\n",
    "s3_train_data = 's3://{}/{}/train/{}'.format(bucket, prefix, key)\n",
    "\n",
    "\n",
    "print('uploaded training data location: {}'.format(s3_train_data))"
   ]
  },
  {
   "cell_type": "code",
   "execution_count": 40,
   "metadata": {},
   "outputs": [
    {
     "name": "stdout",
     "output_type": "stream",
     "text": [
      "training artifacts will be uploaded to: s3://sagemaker-us-east-1-618725421363/pca/output\n"
     ]
    }
   ],
   "source": [
    "# create output placeholder in S3 bucket to store the PCA output\n",
    "\n",
    "output_location = 's3://{}/{}/output'.format(bucket, prefix)\n",
    "print('training artifacts will be uploaded to: {}'.format(output_location))"
   ]
  },
  {
   "cell_type": "code",
   "execution_count": 5,
   "metadata": {},
   "outputs": [],
   "source": [
    "# This code is used to get the training container of sagemaker built-in algorithms\n",
    "# all we have to do is to specify the name of the algorithm, that we want to use\n",
    "\n",
    "# Let's obtain a reference to the pca container image\n",
    "# Note that all  models are named estimators\n",
    "# You don't have to specify (hardcode) the region, get_image_uri will get the current region name using boto3.Session\n",
    "\n",
    "\n",
    "# from sagemaker.amazon.amazon_estimator import get_image_uri  #old version\n",
    "import sagemaker, boto3\n",
    "\n",
    "\n",
    "container = sagemaker.image_uris.retrieve( 'pca', boto3.Session().region_name)"
   ]
  },
  {
   "cell_type": "code",
   "execution_count": 6,
   "metadata": {},
   "outputs": [
    {
     "ename": "NameError",
     "evalue": "name 'role' is not defined",
     "output_type": "error",
     "traceback": [
      "\u001b[0;31m---------------------------------------------------------------------------\u001b[0m",
      "\u001b[0;31mNameError\u001b[0m                                 Traceback (most recent call last)",
      "\u001b[0;32m<ipython-input-6-832ea473924d>\u001b[0m in \u001b[0;36m<module>\u001b[0;34m\u001b[0m\n\u001b[1;32m      5\u001b[0m \u001b[0;34m\u001b[0m\u001b[0m\n\u001b[1;32m      6\u001b[0m pca = sagemaker.estimator.Estimator(container,\n\u001b[0;32m----> 7\u001b[0;31m                                     \u001b[0mrole\u001b[0m\u001b[0;34m,\u001b[0m\u001b[0;34m\u001b[0m\u001b[0;34m\u001b[0m\u001b[0m\n\u001b[0m\u001b[1;32m      8\u001b[0m                                     \u001b[0mtinstance_count\u001b[0m\u001b[0;34m=\u001b[0m\u001b[0;36m1\u001b[0m\u001b[0;34m,\u001b[0m\u001b[0;34m\u001b[0m\u001b[0;34m\u001b[0m\u001b[0m\n\u001b[1;32m      9\u001b[0m                                     \u001b[0mistance_type\u001b[0m\u001b[0;34m=\u001b[0m\u001b[0;34m'ml.c4.xlarge'\u001b[0m\u001b[0;34m,\u001b[0m\u001b[0;34m\u001b[0m\u001b[0;34m\u001b[0m\u001b[0m\n",
      "\u001b[0;31mNameError\u001b[0m: name 'role' is not defined"
     ]
    }
   ],
   "source": [
    "# We have pass in the container, the type of instance that we would like to use for training \n",
    "# output path and sagemaker session into the Estimator. \n",
    "# We can also specify how many instances we would like to use for training\n",
    "\n",
    "\n",
    "pca = sagemaker.estimator.Estimator(container,\n",
    "                                    role,\n",
    "                                    tinstance_count=1,\n",
    "                                    istance_type='ml.c4.xlarge',\n",
    "                                    output_path=output_location,\n",
    "                                    use_spot_instance = True,\n",
    "                                    sagemaker_session=sagemaker_session)\n",
    "\n",
    "# We can tune parameters like the number of features that we are passing in, mode of algorithm, mini batch size and number of pca components\n",
    "\n",
    "\n",
    "pca.set_hyperparameters(feature_dim=11,\n",
    "                        num_components=6,\n",
    "                        subtract_mean=False,\n",
    "                        algorithm_mode='regular',\n",
    "                        mini_batch_size=100)\n",
    "\n",
    "\n",
    "# Pass in the training data from S3 to train the pca model\n",
    "\n",
    "\n",
    "# pca.fit({'train': s3_train_data})\n",
    "\n",
    "# Let's see the progress using cloudwatch logs"
   ]
  },
  {
   "cell_type": "markdown",
   "metadata": {},
   "source": [
    "MINI CHALLENGE:\n",
    " - Retrain the model with the following number of components 5, 4, and 7 "
   ]
  },
  {
   "cell_type": "code",
   "execution_count": null,
   "metadata": {},
   "outputs": [],
   "source": []
  },
  {
   "cell_type": "markdown",
   "metadata": {},
   "source": [
    "# TASK #8: DEPLOY THE TRAINED PCA MODEL "
   ]
  },
  {
   "cell_type": "code",
   "execution_count": 44,
   "metadata": {},
   "outputs": [
    {
     "name": "stdout",
     "output_type": "stream",
     "text": [
      "----------!"
     ]
    }
   ],
   "source": [
    "# Deploy the model to perform inference \n",
    "\n",
    "pca_reduction = pca.deploy(initial_instance_count = 1,\n",
    "                                          instance_type = 'ml.m4.xlarge')"
   ]
  },
  {
   "cell_type": "code",
   "execution_count": 45,
   "metadata": {},
   "outputs": [],
   "source": [
    "from sagemaker.predictor import csv_serializer, json_deserializer\n",
    "\n",
    "\n",
    "# Content type overrides the data that will be passed to the deployed model, since the deployed model expects data in text/csv format.\n",
    "\n",
    "# Serializer accepts a single argument, the input data, and returns a sequence of bytes in the specified content type\n",
    "\n",
    "# Deserializer accepts two arguments, the result data and the response content type, and return a sequence of bytes in the specified content type.\n",
    "\n",
    "# Reference: https://sagemaker.readthedocs.io/en/stable/predictors.html\n",
    "\n",
    "\n",
    "# pca_reduction.content_type = 'text/csv'\n",
    "pca_reduction.serializer = csv_serializer\n",
    "pca_reduction.deserializer = json_deserializer"
   ]
  },
  {
   "cell_type": "code",
   "execution_count": 46,
   "metadata": {},
   "outputs": [
    {
     "name": "stderr",
     "output_type": "stream",
     "text": [
      "The csv_serializer has been renamed in sagemaker>=2.\n",
      "See: https://sagemaker.readthedocs.io/en/stable/v2.html for details.\n",
      "The json_deserializer has been renamed in sagemaker>=2.\n",
      "See: https://sagemaker.readthedocs.io/en/stable/v2.html for details.\n"
     ]
    }
   ],
   "source": [
    "# make prediction on the test data\n",
    "\n",
    "result = pca_reduction.predict(np.array(df_final))"
   ]
  },
  {
   "cell_type": "code",
   "execution_count": 54,
   "metadata": {},
   "outputs": [
    {
     "data": {
      "text/html": [
       "<div>\n",
       "<style scoped>\n",
       "    .dataframe tbody tr th:only-of-type {\n",
       "        vertical-align: middle;\n",
       "    }\n",
       "\n",
       "    .dataframe tbody tr th {\n",
       "        vertical-align: top;\n",
       "    }\n",
       "\n",
       "    .dataframe thead th {\n",
       "        text-align: right;\n",
       "    }\n",
       "</style>\n",
       "<table border=\"1\" class=\"dataframe\">\n",
       "  <thead>\n",
       "    <tr style=\"text-align: right;\">\n",
       "      <th></th>\n",
       "      <th>projections</th>\n",
       "    </tr>\n",
       "  </thead>\n",
       "  <tbody>\n",
       "    <tr>\n",
       "      <th>0</th>\n",
       "      <td>{'projection': [-0.2891036570072174, 3.9943747...</td>\n",
       "    </tr>\n",
       "    <tr>\n",
       "      <th>1</th>\n",
       "      <td>{'projection': [1.0957019329071045, -4.7776770...</td>\n",
       "    </tr>\n",
       "    <tr>\n",
       "      <th>2</th>\n",
       "      <td>{'projection': [1.336683988571167, 1.799760699...</td>\n",
       "    </tr>\n",
       "    <tr>\n",
       "      <th>3</th>\n",
       "      <td>{'projection': [-0.4163884222507477, 6.1496973...</td>\n",
       "    </tr>\n",
       "    <tr>\n",
       "      <th>4</th>\n",
       "      <td>{'projection': [-0.14980435371398926, 2.675003...</td>\n",
       "    </tr>\n",
       "    <tr>\n",
       "      <th>5</th>\n",
       "      <td>{'projection': [0.8930057883262634, -10.548048...</td>\n",
       "    </tr>\n",
       "    <tr>\n",
       "      <th>6</th>\n",
       "      <td>{'projection': [0.9225766658782959, -9.4765748...</td>\n",
       "    </tr>\n",
       "    <tr>\n",
       "      <th>7</th>\n",
       "      <td>{'projection': [1.9741971492767334, -4.1789298...</td>\n",
       "    </tr>\n",
       "    <tr>\n",
       "      <th>8</th>\n",
       "      <td>{'projection': [-0.27406933903694153, 2.647378...</td>\n",
       "    </tr>\n",
       "    <tr>\n",
       "      <th>9</th>\n",
       "      <td>{'projection': [-0.3863908648490906, -1.092898...</td>\n",
       "    </tr>\n",
       "  </tbody>\n",
       "</table>\n",
       "</div>"
      ],
      "text/plain": [
       "                                         projections\n",
       "0  {'projection': [-0.2891036570072174, 3.9943747...\n",
       "1  {'projection': [1.0957019329071045, -4.7776770...\n",
       "2  {'projection': [1.336683988571167, 1.799760699...\n",
       "3  {'projection': [-0.4163884222507477, 6.1496973...\n",
       "4  {'projection': [-0.14980435371398926, 2.675003...\n",
       "5  {'projection': [0.8930057883262634, -10.548048...\n",
       "6  {'projection': [0.9225766658782959, -9.4765748...\n",
       "7  {'projection': [1.9741971492767334, -4.1789298...\n",
       "8  {'projection': [-0.27406933903694153, 2.647378...\n",
       "9  {'projection': [-0.3863908648490906, -1.092898..."
      ]
     },
     "execution_count": 54,
     "metadata": {},
     "output_type": "execute_result"
    }
   ],
   "source": [
    "pd.DataFrame.from_dict(result).iloc[:10] # results are in Json format"
   ]
  },
  {
   "cell_type": "code",
   "execution_count": 55,
   "metadata": {},
   "outputs": [],
   "source": [
    "# Since the results are in Json format, we access the scores by iterating through the scores in the predictions\n",
    "predictions = np.array([r['projection'] for r in result['projections']])"
   ]
  },
  {
   "cell_type": "code",
   "execution_count": 56,
   "metadata": {},
   "outputs": [
    {
     "data": {
      "text/plain": [
       "array([[-2.89103657e-01,  3.99437475e+00, -1.25495701e+01,\n",
       "         6.42405853e+01,  3.68210945e+01, -2.17848068e+02],\n",
       "       [ 1.09570193e+00, -4.77767706e+00,  1.23644390e+01,\n",
       "         4.45821114e+01,  4.56663399e+01, -2.41025101e+02],\n",
       "       [ 1.33668399e+00,  1.79976070e+00, -9.73582458e+00,\n",
       "         5.34248428e+01,  5.57539673e+01, -2.23016754e+02],\n",
       "       ...,\n",
       "       [ 9.36102509e-01,  6.50153160e+00,  2.10844498e+01,\n",
       "         4.50918350e+01,  7.45691071e+01, -2.82263916e+02],\n",
       "       [ 1.15454197e-03, -8.17430115e+00, -2.97180176e+00,\n",
       "         5.16770020e+01,  5.14335823e+01, -2.34024872e+02],\n",
       "       [ 3.68915290e-01, -1.09633231e+00, -4.88934517e+00,\n",
       "         6.41318741e+01,  4.39791260e+01, -2.28002136e+02]])"
      ]
     },
     "execution_count": 56,
     "metadata": {},
     "output_type": "execute_result"
    }
   ],
   "source": [
    "predictions"
   ]
  },
  {
   "cell_type": "code",
   "execution_count": 42,
   "metadata": {},
   "outputs": [
    {
     "data": {
      "text/plain": [
       "(70000, 6)"
      ]
     },
     "execution_count": 42,
     "metadata": {},
     "output_type": "execute_result"
    }
   ],
   "source": [
    "predictions.shape"
   ]
  },
  {
   "cell_type": "code",
   "execution_count": 57,
   "metadata": {},
   "outputs": [],
   "source": [
    "# Delete the end-point\n",
    "\n",
    "pca_reduction.delete_endpoint()"
   ]
  },
  {
   "cell_type": "markdown",
   "metadata": {},
   "source": [
    "# TASK #9: TRAIN AND EVALUATE XGBOOST MODEL ON DATA AFTER DIMENSIONALITY REDUCTION (USING SAGEMAKER)"
   ]
  },
  {
   "cell_type": "code",
   "execution_count": null,
   "metadata": {},
   "outputs": [],
   "source": [
    "predictions.shape"
   ]
  },
  {
   "cell_type": "code",
   "execution_count": 59,
   "metadata": {},
   "outputs": [
    {
     "data": {
      "text/html": [
       "<div>\n",
       "<style scoped>\n",
       "    .dataframe tbody tr th:only-of-type {\n",
       "        vertical-align: middle;\n",
       "    }\n",
       "\n",
       "    .dataframe tbody tr th {\n",
       "        vertical-align: top;\n",
       "    }\n",
       "\n",
       "    .dataframe thead th {\n",
       "        text-align: right;\n",
       "    }\n",
       "</style>\n",
       "<table border=\"1\" class=\"dataframe\">\n",
       "  <thead>\n",
       "    <tr style=\"text-align: right;\">\n",
       "      <th></th>\n",
       "      <th>Target</th>\n",
       "    </tr>\n",
       "  </thead>\n",
       "  <tbody>\n",
       "    <tr>\n",
       "      <th>0</th>\n",
       "      <td>0</td>\n",
       "    </tr>\n",
       "    <tr>\n",
       "      <th>1</th>\n",
       "      <td>1</td>\n",
       "    </tr>\n",
       "    <tr>\n",
       "      <th>2</th>\n",
       "      <td>1</td>\n",
       "    </tr>\n",
       "    <tr>\n",
       "      <th>3</th>\n",
       "      <td>1</td>\n",
       "    </tr>\n",
       "    <tr>\n",
       "      <th>4</th>\n",
       "      <td>0</td>\n",
       "    </tr>\n",
       "    <tr>\n",
       "      <th>...</th>\n",
       "      <td>...</td>\n",
       "    </tr>\n",
       "    <tr>\n",
       "      <th>69995</th>\n",
       "      <td>0</td>\n",
       "    </tr>\n",
       "    <tr>\n",
       "      <th>69996</th>\n",
       "      <td>1</td>\n",
       "    </tr>\n",
       "    <tr>\n",
       "      <th>69997</th>\n",
       "      <td>1</td>\n",
       "    </tr>\n",
       "    <tr>\n",
       "      <th>69998</th>\n",
       "      <td>1</td>\n",
       "    </tr>\n",
       "    <tr>\n",
       "      <th>69999</th>\n",
       "      <td>0</td>\n",
       "    </tr>\n",
       "  </tbody>\n",
       "</table>\n",
       "<p>70000 rows × 1 columns</p>\n",
       "</div>"
      ],
      "text/plain": [
       "       Target\n",
       "0           0\n",
       "1           1\n",
       "2           1\n",
       "3           1\n",
       "4           0\n",
       "...       ...\n",
       "69995       0\n",
       "69996       1\n",
       "69997       1\n",
       "69998       1\n",
       "69999       0\n",
       "\n",
       "[70000 rows x 1 columns]"
      ]
     },
     "execution_count": 59,
     "metadata": {},
     "output_type": "execute_result"
    }
   ],
   "source": [
    "# Convert the array into dataframe in a way that target variable is set as the first column and is followed by feature columns\n",
    "# This is because sagemaker built-in algorithm expects the data in this format\n",
    "\n",
    "train_data = pd.DataFrame({'Target':df_target})\n",
    "train_data"
   ]
  },
  {
   "cell_type": "code",
   "execution_count": 60,
   "metadata": {},
   "outputs": [],
   "source": [
    "for i in range(predictions.shape[1]):\n",
    "    train_data[i] = predictions[:,i]"
   ]
  },
  {
   "cell_type": "code",
   "execution_count": 61,
   "metadata": {},
   "outputs": [
    {
     "data": {
      "text/html": [
       "<div>\n",
       "<style scoped>\n",
       "    .dataframe tbody tr th:only-of-type {\n",
       "        vertical-align: middle;\n",
       "    }\n",
       "\n",
       "    .dataframe tbody tr th {\n",
       "        vertical-align: top;\n",
       "    }\n",
       "\n",
       "    .dataframe thead th {\n",
       "        text-align: right;\n",
       "    }\n",
       "</style>\n",
       "<table border=\"1\" class=\"dataframe\">\n",
       "  <thead>\n",
       "    <tr style=\"text-align: right;\">\n",
       "      <th></th>\n",
       "      <th>Target</th>\n",
       "      <th>0</th>\n",
       "      <th>1</th>\n",
       "      <th>2</th>\n",
       "      <th>3</th>\n",
       "      <th>4</th>\n",
       "      <th>5</th>\n",
       "    </tr>\n",
       "  </thead>\n",
       "  <tbody>\n",
       "    <tr>\n",
       "      <th>0</th>\n",
       "      <td>0</td>\n",
       "      <td>-0.289104</td>\n",
       "      <td>3.994375</td>\n",
       "      <td>-12.549570</td>\n",
       "      <td>64.240585</td>\n",
       "      <td>36.821095</td>\n",
       "      <td>-217.848068</td>\n",
       "    </tr>\n",
       "    <tr>\n",
       "      <th>1</th>\n",
       "      <td>1</td>\n",
       "      <td>1.095702</td>\n",
       "      <td>-4.777677</td>\n",
       "      <td>12.364439</td>\n",
       "      <td>44.582111</td>\n",
       "      <td>45.666340</td>\n",
       "      <td>-241.025101</td>\n",
       "    </tr>\n",
       "    <tr>\n",
       "      <th>2</th>\n",
       "      <td>1</td>\n",
       "      <td>1.336684</td>\n",
       "      <td>1.799761</td>\n",
       "      <td>-9.735825</td>\n",
       "      <td>53.424843</td>\n",
       "      <td>55.753967</td>\n",
       "      <td>-223.016754</td>\n",
       "    </tr>\n",
       "    <tr>\n",
       "      <th>3</th>\n",
       "      <td>1</td>\n",
       "      <td>-0.416388</td>\n",
       "      <td>6.149697</td>\n",
       "      <td>5.682127</td>\n",
       "      <td>43.042397</td>\n",
       "      <td>45.009624</td>\n",
       "      <td>-257.243164</td>\n",
       "    </tr>\n",
       "    <tr>\n",
       "      <th>4</th>\n",
       "      <td>0</td>\n",
       "      <td>-0.149804</td>\n",
       "      <td>2.675003</td>\n",
       "      <td>-13.209843</td>\n",
       "      <td>63.610920</td>\n",
       "      <td>44.346691</td>\n",
       "      <td>-192.799316</td>\n",
       "    </tr>\n",
       "  </tbody>\n",
       "</table>\n",
       "</div>"
      ],
      "text/plain": [
       "   Target         0         1          2          3          4           5\n",
       "0       0 -0.289104  3.994375 -12.549570  64.240585  36.821095 -217.848068\n",
       "1       1  1.095702 -4.777677  12.364439  44.582111  45.666340 -241.025101\n",
       "2       1  1.336684  1.799761  -9.735825  53.424843  55.753967 -223.016754\n",
       "3       1 -0.416388  6.149697   5.682127  43.042397  45.009624 -257.243164\n",
       "4       0 -0.149804  2.675003 -13.209843  63.610920  44.346691 -192.799316"
      ]
     },
     "execution_count": 61,
     "metadata": {},
     "output_type": "execute_result"
    }
   ],
   "source": [
    "train_data.head()"
   ]
  },
  {
   "cell_type": "code",
   "execution_count": 63,
   "metadata": {},
   "outputs": [
    {
     "data": {
      "text/plain": [
       "63000"
      ]
     },
     "execution_count": 63,
     "metadata": {},
     "output_type": "execute_result"
    }
   ],
   "source": [
    "train_data_size = int(0.9 * train_data.shape[0])\n",
    "train_data_size"
   ]
  },
  {
   "cell_type": "code",
   "execution_count": 64,
   "metadata": {},
   "outputs": [],
   "source": [
    "# shuffle the data in dataframe and then split the dataframe into train, test and validation sets.\n",
    "\n",
    "import sklearn \n",
    "\n",
    "train_data = sklearn.utils.shuffle(train_data)\n",
    "train, test, valid = train_data[:train_data_size], train_data[train_data_size:train_data_size + 3500], train_data[train_data_size + 3500:]\n"
   ]
  },
  {
   "cell_type": "code",
   "execution_count": 65,
   "metadata": {},
   "outputs": [
    {
     "data": {
      "text/plain": [
       "((63000, 7), (3500, 7), (3500, 7))"
      ]
     },
     "execution_count": 65,
     "metadata": {},
     "output_type": "execute_result"
    }
   ],
   "source": [
    "train.shape, test.shape,valid.shape"
   ]
  },
  {
   "cell_type": "code",
   "execution_count": 66,
   "metadata": {},
   "outputs": [],
   "source": [
    "X_test, y_test = test.drop(columns = ['Target']), test['Target']"
   ]
  },
  {
   "cell_type": "code",
   "execution_count": 67,
   "metadata": {},
   "outputs": [],
   "source": [
    "# save train_data and validation_data as csv files\n",
    "\n",
    "train.to_csv('train.csv',header = False, index = False)\n",
    "valid.to_csv('valid.csv',header = False, index = False)"
   ]
  },
  {
   "cell_type": "code",
   "execution_count": 68,
   "metadata": {},
   "outputs": [],
   "source": [
    "prefix = 'XGBoost-Classifier'\n",
    "key = 'XGBoost-Classifier'"
   ]
  },
  {
   "cell_type": "code",
   "execution_count": 69,
   "metadata": {},
   "outputs": [
    {
     "name": "stdout",
     "output_type": "stream",
     "text": [
      "uploaded training data location: s3://sagemaker-us-east-1-618725421363/XGBoost-Classifier/train/XGBoost-Classifier\n"
     ]
    }
   ],
   "source": [
    "# read the data from csv file and then upload the data to s3 bucket\n",
    "with open('train.csv','rb') as f:\n",
    "    # The following code uploads the data into S3 bucket to be accessed later for training\n",
    "    boto3.Session().resource('s3').Bucket(bucket).Object(os.path.join(prefix, 'train', key)).upload_fileobj(f)\n",
    "\n",
    "# Let's print out the training data location in s3\n",
    "s3_train_data = 's3://{}/{}/train/{}'.format(bucket, prefix, key)\n",
    "print('uploaded training data location: {}'.format(s3_train_data))"
   ]
  },
  {
   "cell_type": "code",
   "execution_count": 70,
   "metadata": {},
   "outputs": [
    {
     "name": "stdout",
     "output_type": "stream",
     "text": [
      "uploaded validation data location: s3://sagemaker-us-east-1-618725421363/XGBoost-Classifier/valid/XGBoost-Classifier\n"
     ]
    }
   ],
   "source": [
    "# reading the data from csv file and then upload the data to s3 bucket\n",
    "with open('valid.csv','rb') as f:\n",
    "    # The following code uploads the data into S3 bucket to be accessed later for training\n",
    "    boto3.Session().resource('s3').Bucket(bucket).Object(os.path.join(prefix, 'valid', key)).upload_fileobj(f)\n",
    "\n",
    "# Let's print out the validation data location in s3\n",
    "s3_valid_data = 's3://{}/{}/valid/{}'.format(bucket, prefix, key)\n",
    "print('uploaded validation data location: {}'.format(s3_valid_data))"
   ]
  },
  {
   "cell_type": "code",
   "execution_count": 71,
   "metadata": {},
   "outputs": [
    {
     "name": "stdout",
     "output_type": "stream",
     "text": [
      "training artifacts will be uploaded to: s3://sagemaker-us-east-1-618725421363/XGBoost-Classifier/output\n"
     ]
    }
   ],
   "source": [
    "# creates output placeholder in S3 bucket to store the linear learner output\n",
    "\n",
    "output_location = 's3://{}/{}/output'.format(bucket, prefix)\n",
    "print('training artifacts will be uploaded to: {}'.format(output_location))"
   ]
  },
  {
   "cell_type": "code",
   "execution_count": 72,
   "metadata": {},
   "outputs": [],
   "source": [
    "# This code is used to get the training container of sagemaker built-in algorithms\n",
    "# all we have to do is to specify the name of the algorithm, that we want to use\n",
    "\n",
    "# Let's obtain a reference to the XGBoost container image\n",
    "# Note that all  models are named estimators\n",
    "# You don't have to specify (hardcode) the region, get_image_uri will get the current region name using boto3.Session\n",
    "\n",
    "\n",
    "container = sagemaker.image_uris.retrieve('xgboost',boto3.Session().region_name,'1.3-1')"
   ]
  },
  {
   "cell_type": "code",
   "execution_count": 76,
   "metadata": {},
   "outputs": [],
   "source": [
    "# We have pass in the container, the type of instance that we would like to use for training \n",
    "# output path and sagemaker session into the Estimator. \n",
    "# We can also specify how many instances we would like to use for training\n",
    "\n",
    "\n",
    "Xgboost_classifier = sagemaker.estimator.Estimator(container,\n",
    "                                       role, \n",
    "                                       instance_count=1, \n",
    "                                       instance_type='ml.m4.xlarge',\n",
    "                                       output_path=output_location,\n",
    "                                                   use_spot_instance=True,\n",
    "                                       sagemaker_session=sagemaker_session)\n",
    "\n",
    "# To improve the performance of the model, a hyperparameters tuning job need to be run \n",
    "\n",
    "Xgboost_classifier.set_hyperparameters(max_depth=8,\n",
    "                           objective='multi:softmax',\n",
    "                           num_class= 2,\n",
    "                           eta = 0.5,\n",
    "                           num_round = 150\n",
    "                           )"
   ]
  },
  {
   "cell_type": "code",
   "execution_count": 77,
   "metadata": {},
   "outputs": [
    {
     "name": "stderr",
     "output_type": "stream",
     "text": [
      "The class sagemaker.session.s3_input has been renamed in sagemaker>=2.\n",
      "See: https://sagemaker.readthedocs.io/en/stable/v2.html for details.\n",
      "The class sagemaker.session.s3_input has been renamed in sagemaker>=2.\n",
      "See: https://sagemaker.readthedocs.io/en/stable/v2.html for details.\n"
     ]
    },
    {
     "name": "stdout",
     "output_type": "stream",
     "text": [
      "2022-02-11 10:56:12 Starting - Starting the training job...ProfilerReport-1644576971: InProgress\n",
      "......\n",
      "2022-02-11 10:57:38 Starting - Preparing the instances for training......\n",
      "2022-02-11 10:58:32 Downloading - Downloading input data...\n",
      "2022-02-11 10:59:13 Training - Downloading the training image......\n",
      "2022-02-11 11:00:13 Training - Training image download completed. Training in progress...\u001b[34m[2022-02-11 11:00:17.892 ip-10-2-90-224.ec2.internal:1 INFO utils.py:27] RULE_JOB_STOP_SIGNAL_FILENAME: None\u001b[0m\n",
      "\u001b[34m[2022-02-11:11:00:18:INFO] Imported framework sagemaker_xgboost_container.training\u001b[0m\n",
      "\u001b[34m[2022-02-11:11:00:18:INFO] Failed to parse hyperparameter objective value multi:softmax to Json.\u001b[0m\n",
      "\u001b[34mReturning the value itself\u001b[0m\n",
      "\u001b[34m[2022-02-11:11:00:18:INFO] No GPUs detected (normal if no gpus installed)\u001b[0m\n",
      "\u001b[34m[2022-02-11:11:00:18:INFO] Running XGBoost Sagemaker in algorithm mode\u001b[0m\n",
      "\u001b[34m[2022-02-11:11:00:18:INFO] Determined delimiter of CSV input is ','\u001b[0m\n",
      "\u001b[34m[2022-02-11:11:00:18:INFO] Determined delimiter of CSV input is ','\u001b[0m\n",
      "\u001b[34m[2022-02-11:11:00:18:INFO] Determined delimiter of CSV input is ','\u001b[0m\n",
      "\u001b[34m[2022-02-11:11:00:18:INFO] Determined delimiter of CSV input is ','\u001b[0m\n",
      "\u001b[34m[2022-02-11:11:00:18:INFO] Single node training.\u001b[0m\n",
      "\u001b[34m[2022-02-11:11:00:18:INFO] Train matrix has 63000 rows and 6 columns\u001b[0m\n",
      "\u001b[34m[2022-02-11:11:00:18:INFO] Validation matrix has 3500 rows\u001b[0m\n",
      "\u001b[34m[11:00:18] WARNING: ../src/learner.cc:1061: Starting in XGBoost 1.3.0, the default evaluation metric used with the objective 'multi:softmax' was changed from 'merror' to 'mlogloss'. Explicitly set eval_metric if you'd like to restore the old behavior.\u001b[0m\n",
      "\u001b[34m[0]#011train-mlogloss:0.58430#011validation-mlogloss:0.59266\u001b[0m\n",
      "\u001b[34m[1]#011train-mlogloss:0.54647#011validation-mlogloss:0.56212\u001b[0m\n",
      "\u001b[34m[2]#011train-mlogloss:0.52947#011validation-mlogloss:0.55199\u001b[0m\n",
      "\u001b[34m[3]#011train-mlogloss:0.52059#011validation-mlogloss:0.55039\u001b[0m\n",
      "\u001b[34m[4]#011train-mlogloss:0.51531#011validation-mlogloss:0.55058\u001b[0m\n",
      "\u001b[34m[5]#011train-mlogloss:0.51007#011validation-mlogloss:0.55061\u001b[0m\n",
      "\u001b[34m[6]#011train-mlogloss:0.50662#011validation-mlogloss:0.55258\u001b[0m\n",
      "\u001b[34m[7]#011train-mlogloss:0.50249#011validation-mlogloss:0.55269\u001b[0m\n",
      "\u001b[34m[8]#011train-mlogloss:0.49963#011validation-mlogloss:0.55393\u001b[0m\n",
      "\u001b[34m[9]#011train-mlogloss:0.49691#011validation-mlogloss:0.55551\u001b[0m\n",
      "\u001b[34m[10]#011train-mlogloss:0.49474#011validation-mlogloss:0.55626\u001b[0m\n",
      "\u001b[34m[11]#011train-mlogloss:0.49290#011validation-mlogloss:0.55739\u001b[0m\n",
      "\u001b[34m[12]#011train-mlogloss:0.49224#011validation-mlogloss:0.55839\u001b[0m\n",
      "\u001b[34m[13]#011train-mlogloss:0.49001#011validation-mlogloss:0.55995\u001b[0m\n",
      "\u001b[34m[14]#011train-mlogloss:0.48839#011validation-mlogloss:0.55971\u001b[0m\n",
      "\u001b[34m[15]#011train-mlogloss:0.48701#011validation-mlogloss:0.56029\u001b[0m\n",
      "\u001b[34m[16]#011train-mlogloss:0.48531#011validation-mlogloss:0.56028\u001b[0m\n",
      "\u001b[34m[17]#011train-mlogloss:0.48421#011validation-mlogloss:0.56017\u001b[0m\n",
      "\u001b[34m[18]#011train-mlogloss:0.48280#011validation-mlogloss:0.56034\u001b[0m\n",
      "\u001b[34m[19]#011train-mlogloss:0.48119#011validation-mlogloss:0.56070\u001b[0m\n",
      "\u001b[34m[20]#011train-mlogloss:0.47910#011validation-mlogloss:0.56102\u001b[0m\n",
      "\u001b[34m[21]#011train-mlogloss:0.47741#011validation-mlogloss:0.56133\u001b[0m\n",
      "\u001b[34m[22]#011train-mlogloss:0.47491#011validation-mlogloss:0.56170\u001b[0m\n",
      "\u001b[34m[23]#011train-mlogloss:0.47295#011validation-mlogloss:0.56262\u001b[0m\n",
      "\u001b[34m[24]#011train-mlogloss:0.47205#011validation-mlogloss:0.56351\u001b[0m\n",
      "\u001b[34m[25]#011train-mlogloss:0.47061#011validation-mlogloss:0.56393\u001b[0m\n",
      "\u001b[34m[26]#011train-mlogloss:0.46906#011validation-mlogloss:0.56505\u001b[0m\n",
      "\u001b[34m[27]#011train-mlogloss:0.46655#011validation-mlogloss:0.56616\u001b[0m\n",
      "\u001b[34m[28]#011train-mlogloss:0.46442#011validation-mlogloss:0.56636\u001b[0m\n",
      "\u001b[34m[29]#011train-mlogloss:0.46198#011validation-mlogloss:0.56734\u001b[0m\n",
      "\u001b[34m[30]#011train-mlogloss:0.45974#011validation-mlogloss:0.56807\u001b[0m\n",
      "\u001b[34m[31]#011train-mlogloss:0.45808#011validation-mlogloss:0.56961\u001b[0m\n",
      "\u001b[34m[32]#011train-mlogloss:0.45714#011validation-mlogloss:0.56944\u001b[0m\n",
      "\u001b[34m[33]#011train-mlogloss:0.45685#011validation-mlogloss:0.56945\u001b[0m\n",
      "\u001b[34m[34]#011train-mlogloss:0.45434#011validation-mlogloss:0.56932\u001b[0m\n",
      "\u001b[34m[35]#011train-mlogloss:0.45205#011validation-mlogloss:0.56966\u001b[0m\n",
      "\u001b[34m[36]#011train-mlogloss:0.45121#011validation-mlogloss:0.57055\u001b[0m\n",
      "\u001b[34m[37]#011train-mlogloss:0.44928#011validation-mlogloss:0.57075\u001b[0m\n",
      "\u001b[34m[38]#011train-mlogloss:0.44662#011validation-mlogloss:0.57116\u001b[0m\n",
      "\u001b[34m[39]#011train-mlogloss:0.44555#011validation-mlogloss:0.57168\u001b[0m\n",
      "\u001b[34m[40]#011train-mlogloss:0.44424#011validation-mlogloss:0.57229\u001b[0m\n",
      "\u001b[34m[41]#011train-mlogloss:0.44361#011validation-mlogloss:0.57270\u001b[0m\n",
      "\u001b[34m[42]#011train-mlogloss:0.44193#011validation-mlogloss:0.57417\u001b[0m\n",
      "\u001b[34m[43]#011train-mlogloss:0.44052#011validation-mlogloss:0.57440\u001b[0m\n",
      "\u001b[34m[44]#011train-mlogloss:0.43971#011validation-mlogloss:0.57378\u001b[0m\n",
      "\u001b[34m[45]#011train-mlogloss:0.43849#011validation-mlogloss:0.57405\u001b[0m\n",
      "\u001b[34m[46]#011train-mlogloss:0.43790#011validation-mlogloss:0.57449\u001b[0m\n",
      "\u001b[34m[47]#011train-mlogloss:0.43694#011validation-mlogloss:0.57502\u001b[0m\n",
      "\u001b[34m[48]#011train-mlogloss:0.43664#011validation-mlogloss:0.57513\u001b[0m\n",
      "\u001b[34m[49]#011train-mlogloss:0.43487#011validation-mlogloss:0.57566\u001b[0m\n",
      "\u001b[34m[50]#011train-mlogloss:0.43301#011validation-mlogloss:0.57642\u001b[0m\n",
      "\u001b[34m[51]#011train-mlogloss:0.43096#011validation-mlogloss:0.57774\u001b[0m\n",
      "\u001b[34m[52]#011train-mlogloss:0.43022#011validation-mlogloss:0.57830\u001b[0m\n",
      "\u001b[34m[53]#011train-mlogloss:0.42917#011validation-mlogloss:0.57905\u001b[0m\n",
      "\u001b[34m[54]#011train-mlogloss:0.42660#011validation-mlogloss:0.58056\u001b[0m\n",
      "\u001b[34m[55]#011train-mlogloss:0.42527#011validation-mlogloss:0.58075\u001b[0m\n",
      "\u001b[34m[56]#011train-mlogloss:0.42441#011validation-mlogloss:0.58118\u001b[0m\n",
      "\u001b[34m[57]#011train-mlogloss:0.42361#011validation-mlogloss:0.58130\u001b[0m\n",
      "\u001b[34m[58]#011train-mlogloss:0.42203#011validation-mlogloss:0.58174\u001b[0m\n",
      "\u001b[34m[59]#011train-mlogloss:0.41997#011validation-mlogloss:0.58147\u001b[0m\n",
      "\u001b[34m[60]#011train-mlogloss:0.41869#011validation-mlogloss:0.58258\u001b[0m\n",
      "\u001b[34m[61]#011train-mlogloss:0.41726#011validation-mlogloss:0.58261\u001b[0m\n",
      "\u001b[34m[62]#011train-mlogloss:0.41559#011validation-mlogloss:0.58328\u001b[0m\n",
      "\u001b[34m[63]#011train-mlogloss:0.41420#011validation-mlogloss:0.58407\u001b[0m\n",
      "\u001b[34m[64]#011train-mlogloss:0.41363#011validation-mlogloss:0.58446\u001b[0m\n",
      "\u001b[34m[65]#011train-mlogloss:0.41296#011validation-mlogloss:0.58517\u001b[0m\n",
      "\u001b[34m[66]#011train-mlogloss:0.41232#011validation-mlogloss:0.58530\u001b[0m\n",
      "\u001b[34m[67]#011train-mlogloss:0.41179#011validation-mlogloss:0.58572\u001b[0m\n",
      "\u001b[34m[68]#011train-mlogloss:0.41169#011validation-mlogloss:0.58552\u001b[0m\n",
      "\u001b[34m[69]#011train-mlogloss:0.41158#011validation-mlogloss:0.58591\u001b[0m\n",
      "\u001b[34m[70]#011train-mlogloss:0.41004#011validation-mlogloss:0.58652\u001b[0m\n",
      "\u001b[34m[71]#011train-mlogloss:0.40972#011validation-mlogloss:0.58615\u001b[0m\n",
      "\u001b[34m[72]#011train-mlogloss:0.40825#011validation-mlogloss:0.58647\u001b[0m\n",
      "\u001b[34m[73]#011train-mlogloss:0.40648#011validation-mlogloss:0.58851\u001b[0m\n",
      "\u001b[34m[74]#011train-mlogloss:0.40569#011validation-mlogloss:0.58854\u001b[0m\n",
      "\u001b[34m[75]#011train-mlogloss:0.40479#011validation-mlogloss:0.58917\u001b[0m\n",
      "\u001b[34m[76]#011train-mlogloss:0.40330#011validation-mlogloss:0.58947\u001b[0m\n",
      "\u001b[34m[77]#011train-mlogloss:0.40160#011validation-mlogloss:0.59097\u001b[0m\n",
      "\u001b[34m[78]#011train-mlogloss:0.39923#011validation-mlogloss:0.59244\u001b[0m\n",
      "\u001b[34m[79]#011train-mlogloss:0.39837#011validation-mlogloss:0.59241\u001b[0m\n",
      "\u001b[34m[80]#011train-mlogloss:0.39745#011validation-mlogloss:0.59283\u001b[0m\n",
      "\u001b[34m[81]#011train-mlogloss:0.39632#011validation-mlogloss:0.59328\u001b[0m\n",
      "\u001b[34m[82]#011train-mlogloss:0.39555#011validation-mlogloss:0.59318\u001b[0m\n",
      "\u001b[34m[83]#011train-mlogloss:0.39471#011validation-mlogloss:0.59323\u001b[0m\n",
      "\u001b[34m[84]#011train-mlogloss:0.39400#011validation-mlogloss:0.59361\u001b[0m\n",
      "\u001b[34m[85]#011train-mlogloss:0.39249#011validation-mlogloss:0.59464\u001b[0m\n",
      "\u001b[34m[86]#011train-mlogloss:0.39126#011validation-mlogloss:0.59462\u001b[0m\n",
      "\u001b[34m[87]#011train-mlogloss:0.39032#011validation-mlogloss:0.59557\u001b[0m\n",
      "\u001b[34m[88]#011train-mlogloss:0.39009#011validation-mlogloss:0.59562\u001b[0m\n",
      "\u001b[34m[89]#011train-mlogloss:0.38916#011validation-mlogloss:0.59515\u001b[0m\n",
      "\u001b[34m[90]#011train-mlogloss:0.38844#011validation-mlogloss:0.59507\u001b[0m\n",
      "\u001b[34m[91]#011train-mlogloss:0.38825#011validation-mlogloss:0.59522\u001b[0m\n",
      "\u001b[34m[92]#011train-mlogloss:0.38721#011validation-mlogloss:0.59551\u001b[0m\n",
      "\u001b[34m[93]#011train-mlogloss:0.38669#011validation-mlogloss:0.59531\u001b[0m\n",
      "\u001b[34m[94]#011train-mlogloss:0.38520#011validation-mlogloss:0.59559\u001b[0m\n",
      "\u001b[34m[95]#011train-mlogloss:0.38467#011validation-mlogloss:0.59568\u001b[0m\n",
      "\u001b[34m[96]#011train-mlogloss:0.38449#011validation-mlogloss:0.59581\u001b[0m\n",
      "\u001b[34m[97]#011train-mlogloss:0.38273#011validation-mlogloss:0.59645\u001b[0m\n",
      "\u001b[34m[98]#011train-mlogloss:0.38133#011validation-mlogloss:0.59715\u001b[0m\n",
      "\u001b[34m[99]#011train-mlogloss:0.38066#011validation-mlogloss:0.59771\u001b[0m\n",
      "\u001b[34m[100]#011train-mlogloss:0.37982#011validation-mlogloss:0.59847\u001b[0m\n",
      "\u001b[34m[101]#011train-mlogloss:0.37849#011validation-mlogloss:0.59888\u001b[0m\n",
      "\u001b[34m[102]#011train-mlogloss:0.37782#011validation-mlogloss:0.59957\u001b[0m\n",
      "\u001b[34m[103]#011train-mlogloss:0.37630#011validation-mlogloss:0.59956\u001b[0m\n",
      "\u001b[34m[104]#011train-mlogloss:0.37449#011validation-mlogloss:0.60009\u001b[0m\n",
      "\u001b[34m[105]#011train-mlogloss:0.37319#011validation-mlogloss:0.60006\u001b[0m\n",
      "\u001b[34m[106]#011train-mlogloss:0.37208#011validation-mlogloss:0.60096\u001b[0m\n",
      "\u001b[34m[107]#011train-mlogloss:0.37126#011validation-mlogloss:0.60029\u001b[0m\n",
      "\u001b[34m[108]#011train-mlogloss:0.37075#011validation-mlogloss:0.60075\u001b[0m\n",
      "\u001b[34m[109]#011train-mlogloss:0.36989#011validation-mlogloss:0.60093\u001b[0m\n",
      "\u001b[34m[110]#011train-mlogloss:0.36955#011validation-mlogloss:0.60126\u001b[0m\n",
      "\u001b[34m[111]#011train-mlogloss:0.36913#011validation-mlogloss:0.60130\u001b[0m\n",
      "\u001b[34m[112]#011train-mlogloss:0.36799#011validation-mlogloss:0.60187\u001b[0m\n",
      "\u001b[34m[113]#011train-mlogloss:0.36704#011validation-mlogloss:0.60262\u001b[0m\n",
      "\u001b[34m[114]#011train-mlogloss:0.36623#011validation-mlogloss:0.60264\u001b[0m\n",
      "\u001b[34m[115]#011train-mlogloss:0.36489#011validation-mlogloss:0.60303\u001b[0m\n",
      "\u001b[34m[116]#011train-mlogloss:0.36469#011validation-mlogloss:0.60315\u001b[0m\n",
      "\u001b[34m[117]#011train-mlogloss:0.36447#011validation-mlogloss:0.60320\u001b[0m\n",
      "\u001b[34m[118]#011train-mlogloss:0.36428#011validation-mlogloss:0.60327\u001b[0m\n",
      "\u001b[34m[119]#011train-mlogloss:0.36370#011validation-mlogloss:0.60295\u001b[0m\n",
      "\u001b[34m[120]#011train-mlogloss:0.36271#011validation-mlogloss:0.60418\u001b[0m\n",
      "\u001b[34m[121]#011train-mlogloss:0.36171#011validation-mlogloss:0.60451\u001b[0m\n",
      "\u001b[34m[122]#011train-mlogloss:0.36121#011validation-mlogloss:0.60443\u001b[0m\n",
      "\u001b[34m[123]#011train-mlogloss:0.36058#011validation-mlogloss:0.60448\u001b[0m\n",
      "\u001b[34m[124]#011train-mlogloss:0.35964#011validation-mlogloss:0.60428\u001b[0m\n",
      "\u001b[34m[125]#011train-mlogloss:0.35820#011validation-mlogloss:0.60542\u001b[0m\n",
      "\u001b[34m[126]#011train-mlogloss:0.35793#011validation-mlogloss:0.60554\u001b[0m\n",
      "\u001b[34m[127]#011train-mlogloss:0.35709#011validation-mlogloss:0.60561\u001b[0m\n",
      "\u001b[34m[128]#011train-mlogloss:0.35597#011validation-mlogloss:0.60607\u001b[0m\n",
      "\u001b[34m[129]#011train-mlogloss:0.35576#011validation-mlogloss:0.60618\u001b[0m\n",
      "\u001b[34m[130]#011train-mlogloss:0.35466#011validation-mlogloss:0.60640\u001b[0m\n",
      "\u001b[34m[131]#011train-mlogloss:0.35390#011validation-mlogloss:0.60678\u001b[0m\n",
      "\u001b[34m[132]#011train-mlogloss:0.35341#011validation-mlogloss:0.60719\u001b[0m\n",
      "\u001b[34m[133]#011train-mlogloss:0.35319#011validation-mlogloss:0.60761\u001b[0m\n",
      "\u001b[34m[134]#011train-mlogloss:0.35304#011validation-mlogloss:0.60797\u001b[0m\n",
      "\u001b[34m[135]#011train-mlogloss:0.35291#011validation-mlogloss:0.60799\u001b[0m\n",
      "\u001b[34m[136]#011train-mlogloss:0.35180#011validation-mlogloss:0.60865\u001b[0m\n",
      "\u001b[34m[137]#011train-mlogloss:0.35095#011validation-mlogloss:0.60923\u001b[0m\n",
      "\u001b[34m[138]#011train-mlogloss:0.35044#011validation-mlogloss:0.60926\u001b[0m\n",
      "\u001b[34m[139]#011train-mlogloss:0.34978#011validation-mlogloss:0.60894\u001b[0m\n",
      "\u001b[34m[140]#011train-mlogloss:0.34899#011validation-mlogloss:0.60913\u001b[0m\n",
      "\u001b[34m[141]#011train-mlogloss:0.34800#011validation-mlogloss:0.60944\u001b[0m\n",
      "\u001b[34m[142]#011train-mlogloss:0.34679#011validation-mlogloss:0.61020\u001b[0m\n",
      "\u001b[34m[143]#011train-mlogloss:0.34613#011validation-mlogloss:0.60994\u001b[0m\n",
      "\u001b[34m[144]#011train-mlogloss:0.34591#011validation-mlogloss:0.60994\u001b[0m\n",
      "\u001b[34m[145]#011train-mlogloss:0.34502#011validation-mlogloss:0.61067\u001b[0m\n",
      "\u001b[34m[146]#011train-mlogloss:0.34336#011validation-mlogloss:0.61123\u001b[0m\n",
      "\u001b[34m[147]#011train-mlogloss:0.34247#011validation-mlogloss:0.61171\u001b[0m\n",
      "\u001b[34m[148]#011train-mlogloss:0.34233#011validation-mlogloss:0.61164\u001b[0m\n",
      "\u001b[34m[149]#011train-mlogloss:0.34065#011validation-mlogloss:0.61242\u001b[0m\n",
      "\n",
      "2022-02-11 11:01:33 Uploading - Uploading generated training model\n",
      "2022-02-11 11:01:33 Completed - Training job completed\n",
      "Training seconds: 178\n",
      "Billable seconds: 178\n"
     ]
    }
   ],
   "source": [
    "# Create \"train\", \"validation\" channels to feed in the model\n",
    "# Source: https://docs.aws.amazon.com/sagemaker/latest/dg/sagemaker-algo-docker-registry-paths.html\n",
    "\n",
    "\n",
    "train_input = sagemaker.session.s3_input(s3_data = s3_train_data, content_type='csv',s3_data_type = 'S3Prefix')\n",
    "valid_input = sagemaker.session.s3_input(s3_data = s3_valid_data, content_type='csv',s3_data_type = 'S3Prefix')\n",
    "\n",
    "Xgboost_classifier.fit({'train': train_input, 'validation': valid_input})"
   ]
  },
  {
   "cell_type": "markdown",
   "metadata": {},
   "source": [
    "MINI CHALLENGE\n",
    "- Retrain the XGBoost model with deeper trees (max_depth)"
   ]
  },
  {
   "cell_type": "code",
   "execution_count": null,
   "metadata": {},
   "outputs": [],
   "source": []
  },
  {
   "cell_type": "markdown",
   "metadata": {},
   "source": [
    "# TASK #10: DEPLOY AND TEST THE TRAINED XGBOOST MODEL "
   ]
  },
  {
   "cell_type": "code",
   "execution_count": null,
   "metadata": {},
   "outputs": [],
   "source": [
    "# Deploy the model to perfrom inference \n",
    "\n",
    "Xgboost_classifier = Xgboost_classifier.deploy(initial_instance_count = 1,\n",
    "                                          instance_type = 'ml.m4.xlarge')"
   ]
  },
  {
   "cell_type": "code",
   "execution_count": null,
   "metadata": {},
   "outputs": [],
   "source": [
    "# Content type over-rides the data that will be passed to the deployed model, since the deployed model expects data in text/csv format, we specify this as content -type.\n",
    "# Serializer accepts a single argument, the input data, and returns a sequence of bytes in the specified content type\n",
    "#Reference: https://sagemaker.readthedocs.io/en/stable/predictors.html\n",
    "\n",
    "from sagemaker.predictor import csv_serializer, json_deserializer\n",
    "\n",
    "Xgboost_classifier.serializer = csv_serializer\n"
   ]
  },
  {
   "cell_type": "code",
   "execution_count": null,
   "metadata": {},
   "outputs": [],
   "source": [
    "# make prediction\n",
    "\n",
    "XGB_prediction = Xgboost_classifier.predict(np.array(X_test))"
   ]
  },
  {
   "cell_type": "code",
   "execution_count": null,
   "metadata": {},
   "outputs": [],
   "source": [
    "XGB_prediction"
   ]
  },
  {
   "cell_type": "code",
   "execution_count": null,
   "metadata": {},
   "outputs": [],
   "source": [
    "# custom code to convert the values in bytes format to array\n",
    "\n",
    "def bytes_2_array(x):\n",
    "    \n",
    "    #makes entire prediction as string and splits based on ','\n",
    "    l = str(x).split(',')\n",
    "    \n",
    "    #Since the first element contains unwanted characters like (b,',') we remove them\n",
    "    l[0] = l[0][2:]\n",
    "    #same-thing as above remove the unwanted last character (')\n",
    "    l[-1] = l[-1][:-1]\n",
    "    \n",
    "    #iterating through the list of strings and converting them into float type\n",
    "    for i in range(len(l)):\n",
    "        l[i] = float(l[i])\n",
    "        \n",
    "    #converting the list to into array\n",
    "    l = np.array(l).astype('float32')\n",
    "    \n",
    "    #reshape one-dimensional array to two-dimentaional array\n",
    "    return l.reshape(-1,1)"
   ]
  },
  {
   "cell_type": "code",
   "execution_count": null,
   "metadata": {},
   "outputs": [],
   "source": [
    "predicted_values = bytes_2_array(XGB_prediction)"
   ]
  },
  {
   "cell_type": "code",
   "execution_count": null,
   "metadata": {},
   "outputs": [],
   "source": [
    "predicted_values"
   ]
  },
  {
   "cell_type": "code",
   "execution_count": null,
   "metadata": {},
   "outputs": [],
   "source": [
    "y_test = np.array(y_test)\n",
    "y_test = y_test.reshape(-1,1)"
   ]
  },
  {
   "cell_type": "code",
   "execution_count": null,
   "metadata": {},
   "outputs": [],
   "source": [
    "y_test"
   ]
  },
  {
   "cell_type": "code",
   "execution_count": null,
   "metadata": {},
   "outputs": [],
   "source": [
    "# plot metrics\n",
    "\n",
    "from sklearn.metrics import precision_score, recall_score, accuracy_score\n",
    "\n",
    "print(\"Precision = {}\".format(precision_score(y_test, predicted_values, average='macro')))\n",
    "print(\"Recall = {}\".format(recall_score(y_test, predicted_values, average='macro')))\n",
    "print(\"Accuracy = {}\".format(accuracy_score(y_test, predicted_values)))"
   ]
  },
  {
   "cell_type": "code",
   "execution_count": null,
   "metadata": {},
   "outputs": [],
   "source": [
    "# plot confusion matrix\n",
    "\n",
    "from sklearn.metrics import confusion_matrix\n",
    "cm = confusion_matrix(y_test, predicted_values)\n",
    "plt.figure()\n",
    "sns.heatmap(cm, annot=True)"
   ]
  },
  {
   "cell_type": "code",
   "execution_count": null,
   "metadata": {},
   "outputs": [],
   "source": [
    "# Delete the end-point\n",
    "\n",
    "Xgboost_classifier.delete_endpoint()"
   ]
  },
  {
   "cell_type": "markdown",
   "metadata": {},
   "source": [
    "# EXCELLENT JOB"
   ]
  },
  {
   "cell_type": "markdown",
   "metadata": {},
   "source": [
    "MINI CHALLENGE SOLUTIONS"
   ]
  },
  {
   "cell_type": "code",
   "execution_count": null,
   "metadata": {},
   "outputs": [],
   "source": [
    "cardio_df [ cardio_df['ap_hi'] == 16020]\n",
    "cardio_df [ cardio_df['age'] > 64.8]"
   ]
  },
  {
   "cell_type": "code",
   "execution_count": null,
   "metadata": {},
   "outputs": [],
   "source": [
    "cardio_df.hist(bins = 30, figsize = (20,20), color = 'r')\n",
    "# get the correlation matrix\n",
    "\n",
    "corr_matrix = cardio_df.corr()\n",
    "corr_matrix\n",
    "# plotting the correlation matrix\n",
    "plt.figure(figsize = (16,16))\n",
    "sns.heatmap(corr_matrix, annot = True)\n",
    "plt.show()\n"
   ]
  },
  {
   "cell_type": "code",
   "execution_count": null,
   "metadata": {},
   "outputs": [],
   "source": [
    "xgb_model = XGBClassifier(learning_rate=0.01, n_estimators=100, objective='binary:logistic')\n",
    "from sklearn.model_selection import GridSearchCV\n",
    "grid = GridSearchCV(xgb_model, param_grid, refit = True, verbose = 4)\n",
    "grid.fit(X_train, y_train)"
   ]
  }
 ],
 "metadata": {
  "colab": {
   "collapsed_sections": [],
   "name": "Graduate_Admission_Prediction.ipynb",
   "provenance": [],
   "toc_visible": true
  },
  "kernelspec": {
   "display_name": "Python 3 (Data Science)",
   "language": "python",
   "name": "python3__SAGEMAKER_INTERNAL__arn:aws:sagemaker:us-east-1:081325390199:image/datascience-1.0"
  },
  "language_info": {
   "codemirror_mode": {
    "name": "ipython",
    "version": 3
   },
   "file_extension": ".py",
   "mimetype": "text/x-python",
   "name": "python",
   "nbconvert_exporter": "python",
   "pygments_lexer": "ipython3",
   "version": "3.7.10"
  }
 },
 "nbformat": 4,
 "nbformat_minor": 4
}
