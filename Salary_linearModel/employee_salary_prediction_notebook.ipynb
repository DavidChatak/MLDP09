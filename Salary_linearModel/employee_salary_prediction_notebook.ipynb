{
 "cells": [
  {
   "cell_type": "markdown",
   "metadata": {
    "colab_type": "text",
    "id": "M27qF7CTrBqc"
   },
   "source": [
    "# TASK #1: UNDERSTAND THE PROBLEM STATEMENT "
   ]
  },
  {
   "cell_type": "markdown",
   "metadata": {
    "colab_type": "text",
    "id": "xNl52nl3qiyL"
   },
   "source": [
    "- The objective of this case study is to predict the employee salary based on the number of years of experience. \n",
    "- In simple linear regression, we predict the value of one variable Y based on another variable X.\n",
    "- X is called the independent variable and Y is called the dependant variable.\n",
    "- Why simple? Because it examines relationship between two variables only.\n",
    "- Why linear? when the independent variable increases (or decreases), the dependent variable increases (or decreases) in a linear fashion.\n"
   ]
  },
  {
   "cell_type": "markdown",
   "metadata": {
    "colab_type": "text",
    "id": "zKmFmyaGunc7"
   },
   "source": [
    "# TASK #2: IMPORT LIBRARIES AND DATASETS"
   ]
  },
  {
   "cell_type": "code",
   "execution_count": 7,
   "metadata": {},
   "outputs": [],
   "source": [
    "# !pip install tensorflow\n",
    "import tensorflow as tf"
   ]
  },
  {
   "cell_type": "code",
   "execution_count": 8,
   "metadata": {},
   "outputs": [
    {
     "data": {
      "text/plain": [
       "'2.8.0'"
      ]
     },
     "execution_count": 8,
     "metadata": {},
     "output_type": "execute_result"
    }
   ],
   "source": [
    "tf.__version__"
   ]
  },
  {
   "cell_type": "code",
   "execution_count": 9,
   "metadata": {},
   "outputs": [],
   "source": [
    "# install seaborn library\n",
    "# !pip install seaborn\n",
    "\n",
    "import pandas as pd\n",
    "import numpy as np\n",
    "import seaborn as sns\n",
    "import matplotlib.pyplot as plt\n"
   ]
  },
  {
   "cell_type": "code",
   "execution_count": 10,
   "metadata": {
    "colab": {},
    "colab_type": "code",
    "id": "tjIiJdM4u1IE"
   },
   "outputs": [],
   "source": [
    "# read the csv file \n",
    "salary_df = pd.read_csv('salary.csv')"
   ]
  },
  {
   "cell_type": "code",
   "execution_count": 11,
   "metadata": {
    "colab": {
     "base_uri": "https://localhost:8080/",
     "height": 204
    },
    "colab_type": "code",
    "id": "q4_wPDKCu5Uc",
    "outputId": "886d2aaf-0205-4f46-96a7-629d0f367d2f"
   },
   "outputs": [],
   "source": [
    "# salary_df"
   ]
  },
  {
   "cell_type": "markdown",
   "metadata": {},
   "source": [
    "MINI CHALLENGE\n",
    " - Use head and tail methods to print the first and last 7 rows of the dataframe\n",
    " - Try to find the maximum salary value in the dataframe "
   ]
  },
  {
   "cell_type": "code",
   "execution_count": null,
   "metadata": {},
   "outputs": [],
   "source": []
  },
  {
   "cell_type": "markdown",
   "metadata": {
    "colab_type": "text",
    "id": "tMcr7xqMQre2"
   },
   "source": [
    "# TASK #3: PERFORM EXPLORATORY DATA ANALYSIS AND VISUALIZATION"
   ]
  },
  {
   "cell_type": "code",
   "execution_count": 4,
   "metadata": {},
   "outputs": [
    {
     "data": {
      "text/plain": [
       "<AxesSubplot:>"
      ]
     },
     "execution_count": 4,
     "metadata": {},
     "output_type": "execute_result"
    },
    {
     "data": {
      "image/png": "[encoded data removed]",
      "text/plain": [
       "<Figure size 432x288 with 1 Axes>"
      ]
     },
     "metadata": {
      "needs_background": "light"
     },
     "output_type": "display_data"
    }
   ],
   "source": [
    "# check if there are any Null values\n",
    "sns.heatmap(salary_df.isnull(), yticklabels = False, cbar = False, cmap=\"Blues\")\n"
   ]
  },
  {
   "cell_type": "code",
   "execution_count": 5,
   "metadata": {
    "colab": {
     "base_uri": "https://localhost:8080/",
     "height": 272
    },
    "colab_type": "code",
    "id": "hMq3-KWOx0e1",
    "outputId": "22a5b184-1f07-46ef-dfc1-f8377fd7042f",
    "scrolled": true
   },
   "outputs": [
    {
     "name": "stdout",
     "output_type": "stream",
     "text": [
      "<class 'pandas.core.frame.DataFrame'>\n",
      "RangeIndex: 35 entries, 0 to 34\n",
      "Data columns (total 2 columns):\n",
      " #   Column           Non-Null Count  Dtype  \n",
      "---  ------           --------------  -----  \n",
      " 0   YearsExperience  35 non-null     float64\n",
      " 1   Salary           35 non-null     int64  \n",
      "dtypes: float64(1), int64(1)\n",
      "memory usage: 688.0 bytes\n"
     ]
    }
   ],
   "source": [
    "# Check the dataframe info\n",
    "\n",
    "salary_df.info()"
   ]
  },
  {
   "cell_type": "code",
   "execution_count": 6,
   "metadata": {
    "colab": {
     "base_uri": "https://localhost:8080/",
     "height": 297
    },
    "colab_type": "code",
    "id": "Nn1Oxk2SzPX3",
    "outputId": "95f0265a-5e75-4a32-d771-4b3d15850c3c"
   },
   "outputs": [
    {
     "data": {
      "text/html": [
       "<div>\n",
       "<style scoped>\n",
       "    .dataframe tbody tr th:only-of-type {\n",
       "        vertical-align: middle;\n",
       "    }\n",
       "\n",
       "    .dataframe tbody tr th {\n",
       "        vertical-align: top;\n",
       "    }\n",
       "\n",
       "    .dataframe thead th {\n",
       "        text-align: right;\n",
       "    }\n",
       "</style>\n",
       "<table border=\"1\" class=\"dataframe\">\n",
       "  <thead>\n",
       "    <tr style=\"text-align: right;\">\n",
       "      <th></th>\n",
       "      <th>YearsExperience</th>\n",
       "      <th>Salary</th>\n",
       "    </tr>\n",
       "  </thead>\n",
       "  <tbody>\n",
       "    <tr>\n",
       "      <th>count</th>\n",
       "      <td>35.000000</td>\n",
       "      <td>35.000000</td>\n",
       "    </tr>\n",
       "    <tr>\n",
       "      <th>mean</th>\n",
       "      <td>6.308571</td>\n",
       "      <td>83945.600000</td>\n",
       "    </tr>\n",
       "    <tr>\n",
       "      <th>std</th>\n",
       "      <td>3.618610</td>\n",
       "      <td>32162.673003</td>\n",
       "    </tr>\n",
       "    <tr>\n",
       "      <th>min</th>\n",
       "      <td>1.100000</td>\n",
       "      <td>37731.000000</td>\n",
       "    </tr>\n",
       "    <tr>\n",
       "      <th>25%</th>\n",
       "      <td>3.450000</td>\n",
       "      <td>57019.000000</td>\n",
       "    </tr>\n",
       "    <tr>\n",
       "      <th>50%</th>\n",
       "      <td>5.300000</td>\n",
       "      <td>81363.000000</td>\n",
       "    </tr>\n",
       "    <tr>\n",
       "      <th>75%</th>\n",
       "      <td>9.250000</td>\n",
       "      <td>113223.500000</td>\n",
       "    </tr>\n",
       "    <tr>\n",
       "      <th>max</th>\n",
       "      <td>13.500000</td>\n",
       "      <td>139465.000000</td>\n",
       "    </tr>\n",
       "  </tbody>\n",
       "</table>\n",
       "</div>"
      ],
      "text/plain": [
       "       YearsExperience         Salary\n",
       "count        35.000000      35.000000\n",
       "mean          6.308571   83945.600000\n",
       "std           3.618610   32162.673003\n",
       "min           1.100000   37731.000000\n",
       "25%           3.450000   57019.000000\n",
       "50%           5.300000   81363.000000\n",
       "75%           9.250000  113223.500000\n",
       "max          13.500000  139465.000000"
      ]
     },
     "execution_count": 6,
     "metadata": {},
     "output_type": "execute_result"
    }
   ],
   "source": [
    "# Statistical summary of the dataframe\n",
    "\n",
    "salary_df.describe()"
   ]
  },
  {
   "cell_type": "markdown",
   "metadata": {},
   "source": [
    "MINI CHALLENGE\n",
    " - What are the number of years of experience corresponding to employees with minimum and maximim salaries?"
   ]
  },
  {
   "cell_type": "code",
   "execution_count": null,
   "metadata": {},
   "outputs": [],
   "source": []
  },
  {
   "cell_type": "code",
   "execution_count": 12,
   "metadata": {},
   "outputs": [],
   "source": [
    "# salary_df.hist(bins = 30, figsize = (20,10), color = 'r')\n"
   ]
  },
  {
   "cell_type": "code",
   "execution_count": 8,
   "metadata": {
    "colab": {
     "base_uri": "https://localhost:8080/",
     "height": 1000
    },
    "colab_type": "code",
    "id": "Ka9uFRXSkWHw",
    "outputId": "f42a681e-93d4-4b1f-a29c-f58fc8a6f974"
   },
   "outputs": [
    {
     "data": {
      "text/plain": [
       "<seaborn.axisgrid.PairGrid at 0x7fc6df568be0>"
      ]
     },
     "execution_count": 8,
     "metadata": {},
     "output_type": "execute_result"
    },
    {
     "data": {
      "image/png": "[encoded data removed]",
      "text/plain": [
       "<Figure size 360x360 with 6 Axes>"
      ]
     },
     "metadata": {
      "needs_background": "light"
     },
     "output_type": "display_data"
    }
   ],
   "source": [
    "# plot pairplot\n",
    "\n",
    "sns.pairplot(salary_df)"
   ]
  },
  {
   "cell_type": "code",
   "execution_count": 9,
   "metadata": {
    "colab": {
     "base_uri": "https://localhost:8080/",
     "height": 297
    },
    "colab_type": "code",
    "id": "9q-tFxvskWDa",
    "outputId": "8834e9ec-7676-4e86-c5e7-20f4e9eccbcb"
   },
   "outputs": [
    {
     "data": {
      "image/png": "[encoded data removed]",
      "text/plain": [
       "<Figure size 432x288 with 2 Axes>"
      ]
     },
     "metadata": {
      "needs_background": "light"
     },
     "output_type": "display_data"
    }
   ],
   "source": [
    "corr_matrix = salary_df.corr()\n",
    "sns.heatmap(corr_matrix, annot = True)\n",
    "plt.show()"
   ]
  },
  {
   "cell_type": "markdown",
   "metadata": {},
   "source": [
    "MINI CHALLENGE\n",
    "- Use regplot in Seaborn to obtain a straight line fit between \"salary\" and \"years of experience\""
   ]
  },
  {
   "cell_type": "code",
   "execution_count": null,
   "metadata": {},
   "outputs": [],
   "source": []
  },
  {
   "cell_type": "markdown",
   "metadata": {
    "colab_type": "text",
    "id": "53qDZFRn3-S1"
   },
   "source": [
    "# TASK #4: CREATE TRAINING AND TESTING DATASET"
   ]
  },
  {
   "cell_type": "code",
   "execution_count": 13,
   "metadata": {
    "colab": {},
    "colab_type": "code",
    "id": "4OXZB2F21e4H"
   },
   "outputs": [],
   "source": [
    "X = salary_df[['YearsExperience']]\n",
    "y = salary_df[['Salary']]"
   ]
  },
  {
   "cell_type": "code",
   "execution_count": 15,
   "metadata": {
    "scrolled": true
   },
   "outputs": [],
   "source": [
    "# X"
   ]
  },
  {
   "cell_type": "code",
   "execution_count": 14,
   "metadata": {},
   "outputs": [],
   "source": [
    "# y"
   ]
  },
  {
   "cell_type": "code",
   "execution_count": 13,
   "metadata": {
    "colab": {
     "base_uri": "https://localhost:8080/",
     "height": 34
    },
    "colab_type": "code",
    "id": "XpGU63Ne1e9P",
    "outputId": "e16c74ca-dc1c-416c-dc44-7f927bb99bc6"
   },
   "outputs": [
    {
     "data": {
      "text/plain": [
       "(35, 1)"
      ]
     },
     "execution_count": 13,
     "metadata": {},
     "output_type": "execute_result"
    }
   ],
   "source": [
    "X.shape"
   ]
  },
  {
   "cell_type": "code",
   "execution_count": 14,
   "metadata": {
    "colab": {
     "base_uri": "https://localhost:8080/",
     "height": 34
    },
    "colab_type": "code",
    "id": "OjGj0RALA0qZ",
    "outputId": "26559a6c-880b-45b4-a1e8-3c4b92bea889"
   },
   "outputs": [
    {
     "data": {
      "text/plain": [
       "(35, 1)"
      ]
     },
     "execution_count": 14,
     "metadata": {},
     "output_type": "execute_result"
    }
   ],
   "source": [
    "y.shape"
   ]
  },
  {
   "cell_type": "code",
   "execution_count": 16,
   "metadata": {
    "colab": {},
    "colab_type": "code",
    "id": "jIeiK1maA6mm"
   },
   "outputs": [],
   "source": [
    "X = np.array(X).astype('float32')\n",
    "y = np.array(y).astype('float32')"
   ]
  },
  {
   "cell_type": "code",
   "execution_count": 17,
   "metadata": {},
   "outputs": [],
   "source": [
    "# Only take the numerical variables and scale them\n",
    "# X "
   ]
  },
  {
   "cell_type": "code",
   "execution_count": 21,
   "metadata": {
    "colab": {},
    "colab_type": "code",
    "id": "GoReLFfnA6uF"
   },
   "outputs": [],
   "source": [
    "# split the data into test and train sets\n",
    "from sklearn.model_selection import train_test_split\n",
    "\n",
    "X_train, X_test, y_train, y_test = train_test_split(X, y, test_size = 0.2, random_state=101)\n"
   ]
  },
  {
   "cell_type": "markdown",
   "metadata": {},
   "source": [
    "MINI CHALLENGE\n",
    " - Try splitting the data into 75% for training and the rest for testing\n",
    " - Verify that the split was successful by obtaining the shape of both X_train and X_test\n",
    " - Did you notice any change in the order of the data? why?"
   ]
  },
  {
   "cell_type": "code",
   "execution_count": null,
   "metadata": {},
   "outputs": [],
   "source": []
  },
  {
   "cell_type": "markdown",
   "metadata": {
    "colab_type": "text",
    "id": "idWHLv5alF4C"
   },
   "source": [
    "# TASK #5: TRAIN A LINEAR REGRESSION MODEL IN SK-LEARN (NOTE THAT SAGEMAKER BUILT-IN ALGORITHMS ARE NOT USED HERE)"
   ]
  },
  {
   "cell_type": "code",
   "execution_count": 22,
   "metadata": {
    "colab": {
     "base_uri": "https://localhost:8080/",
     "height": 34
    },
    "colab_type": "code",
    "id": "yHL-6mKwBURs",
    "outputId": "10d71b6d-9c2b-4bab-8b27-d3c5883e6a25"
   },
   "outputs": [
    {
     "data": {
      "text/plain": [
       "LinearRegression(copy_X=True, fit_intercept=True, n_jobs=None, normalize=False)"
      ]
     },
     "execution_count": 22,
     "metadata": {},
     "output_type": "execute_result"
    }
   ],
   "source": [
    "# using linear regression model\n",
    "from sklearn.linear_model import LinearRegression\n",
    "from sklearn.metrics import mean_squared_error, accuracy_score\n",
    "\n",
    "regresssion_model_sklearn = LinearRegression(fit_intercept = True)\n",
    "regresssion_model_sklearn.fit(X_train, y_train)\n"
   ]
  },
  {
   "cell_type": "code",
   "execution_count": 23,
   "metadata": {
    "colab": {
     "base_uri": "https://localhost:8080/",
     "height": 34
    },
    "colab_type": "code",
    "id": "elD8m5N0BgEY",
    "outputId": "16a1813d-a0f1-4d1f-dc02-d7ad5a445417"
   },
   "outputs": [
    {
     "data": {
      "text/plain": [
       "0.9785870612892538"
      ]
     },
     "execution_count": 23,
     "metadata": {},
     "output_type": "execute_result"
    }
   ],
   "source": [
    "regresssion_model_sklearn_accuracy = regresssion_model_sklearn.score(X_test, y_test)\n",
    "regresssion_model_sklearn_accuracy"
   ]
  },
  {
   "cell_type": "code",
   "execution_count": 24,
   "metadata": {},
   "outputs": [
    {
     "name": "stdout",
     "output_type": "stream",
     "text": [
      "Linear Model Coefficient (m):  [[8820.246]]\n",
      "Linear Model Coefficient (b):  [28391.258]\n"
     ]
    }
   ],
   "source": [
    "print('Linear Model Coefficient (m): ', regresssion_model_sklearn.coef_)\n",
    "print('Linear Model Coefficient (b): ', regresssion_model_sklearn.intercept_)"
   ]
  },
  {
   "cell_type": "markdown",
   "metadata": {},
   "source": [
    "MINI CHALLENGE\n",
    "- Retrain the model while setting the fit_intercept = False, what do you notice?"
   ]
  },
  {
   "cell_type": "code",
   "execution_count": null,
   "metadata": {},
   "outputs": [],
   "source": []
  },
  {
   "cell_type": "markdown",
   "metadata": {},
   "source": [
    "# TASK #6: EVALUATE TRAINED MODEL PERFORMANCE (NOTE THAT SAGEMAKER BUILT-IN ALGORITHMS ARE NOT USED HERE)"
   ]
  },
  {
   "cell_type": "code",
   "execution_count": 25,
   "metadata": {},
   "outputs": [],
   "source": [
    "y_predict = regresssion_model_sklearn.predict(X_test)"
   ]
  },
  {
   "cell_type": "code",
   "execution_count": 22,
   "metadata": {
    "scrolled": true
   },
   "outputs": [
    {
     "data": {
      "text/plain": [
       "array([[105775.67 ],\n",
       "       [ 91689.2  ],\n",
       "       [137470.2  ],\n",
       "       [ 48549.414],\n",
       "       [ 46788.605],\n",
       "       [ 65277.086],\n",
       "       [148035.06 ]], dtype=float32)"
      ]
     },
     "execution_count": 22,
     "metadata": {},
     "output_type": "execute_result"
    }
   ],
   "source": [
    "y_predict"
   ]
  },
  {
   "cell_type": "code",
   "execution_count": 26,
   "metadata": {},
   "outputs": [
    {
     "data": {
      "text/plain": [
       "Text(0.5, 1.0, 'Salary vs. Years of Experience')"
      ]
     },
     "execution_count": 26,
     "metadata": {},
     "output_type": "execute_result"
    },
    {
     "data": {
      "image/png": "[encoded data removed]",
      "text/plain": [
       "<Figure size 432x288 with 1 Axes>"
      ]
     },
     "metadata": {
      "needs_background": "light"
     },
     "output_type": "display_data"
    }
   ],
   "source": [
    "plt.scatter(X_train, y_train, color = 'gray')\n",
    "plt.plot(X_train, regresssion_model_sklearn.predict(X_train), color = 'red')\n",
    "plt.ylabel('Salary')\n",
    "plt.xlabel('Number of Years of Experience')\n",
    "plt.title('Salary vs. Years of Experience')"
   ]
  },
  {
   "cell_type": "markdown",
   "metadata": {},
   "source": [
    "MINI CHALLENGE\n",
    " - Use the trained model, obtain the salary corresponding to eployees who have years of experience = 5"
   ]
  },
  {
   "cell_type": "markdown",
   "metadata": {},
   "source": [
    "# TASK #7: TRAIN A LINEAR LEARNER MODEL USING SAGEMAKER"
   ]
  },
  {
   "cell_type": "code",
   "execution_count": 27,
   "metadata": {},
   "outputs": [
    {
     "name": "stdout",
     "output_type": "stream",
     "text": [
      "arn:aws:iam::618725421363:role/service-role/AmazonSageMaker-ExecutionRole-20211223T020495\n"
     ]
    }
   ],
   "source": [
    "# Boto3 is the Amazon Web Services (AWS) Software Development Kit (SDK) for Python\n",
    "# Boto3 allows Python developer to write software that makes use of services like Amazon S3 and Amazon EC2\n",
    "\n",
    "import sagemaker\n",
    "import boto3\n",
    "from sagemaker import Session\n",
    "\n",
    "# Let's create a Sagemaker session\n",
    "sagemaker_session = sagemaker.Session()\n",
    "bucket = Session().default_bucket()\n",
    "# Let's define the S3 bucket and prefix that we want to use in this session\n",
    "# bucket = 'sagemaker-practica' # bucket named 'sagemaker-practical' was created beforehand\n",
    "prefix = 'linear_learner' # prefix is the subfolder within the bucket.\n",
    "\n",
    "# Let's get the execution role for the notebook instance. \n",
    "# This is the IAM role that you created when you created your notebook instance. You pass the role to the training job.\n",
    "# Note that AWS Identity and Access Management (IAM) role that Amazon SageMaker can assume to perform tasks on your behalf (for example, reading training results, called model artifacts, from the S3 bucket and writing training results to Amazon S3). \n",
    "role = sagemaker.get_execution_role()\n",
    "print(role)"
   ]
  },
  {
   "cell_type": "code",
   "execution_count": 31,
   "metadata": {},
   "outputs": [
    {
     "data": {
      "text/plain": [
       "(28, 1)"
      ]
     },
     "execution_count": 31,
     "metadata": {},
     "output_type": "execute_result"
    }
   ],
   "source": [
    "X_train.shape"
   ]
  },
  {
   "cell_type": "code",
   "execution_count": 32,
   "metadata": {},
   "outputs": [],
   "source": [
    "y_train = y_train[:,0]"
   ]
  },
  {
   "cell_type": "code",
   "execution_count": 33,
   "metadata": {},
   "outputs": [
    {
     "data": {
      "text/plain": [
       "(28,)"
      ]
     },
     "execution_count": 33,
     "metadata": {},
     "output_type": "execute_result"
    }
   ],
   "source": [
    "y_train.shape"
   ]
  },
  {
   "cell_type": "code",
   "execution_count": 47,
   "metadata": {},
   "outputs": [
    {
     "data": {
      "text/plain": [
       "0"
      ]
     },
     "execution_count": 47,
     "metadata": {},
     "output_type": "execute_result"
    }
   ],
   "source": [
    "import io # The io module allows for dealing with various types of I/O (text I/O, binary I/O and raw I/O). \n",
    "import numpy as np\n",
    "import sagemaker.amazon.common as smac # sagemaker common libary\n",
    "\n",
    "# Code below converts the data in numpy array format to RecordIO format\n",
    "# This is the format required by Sagemaker Linear Learner \n",
    "\n",
    "buf = io.BytesIO() # create an in-memory byte array (buf is a buffer I will be writing to)\n",
    "smac.write_numpy_to_dense_tensor(buf, X_train, y_train)\n",
    "buf.seek(0) \n",
    "# When you write to in-memory byte arrays, it increments 1 every time you write to it\n",
    "# Let's reset that back to zero \n"
   ]
  },
  {
   "cell_type": "code",
   "execution_count": 48,
   "metadata": {},
   "outputs": [
    {
     "name": "stdout",
     "output_type": "stream",
     "text": [
      "uploaded training data location: s3://sagemaker-us-east-1-618725421363/linear_learner/train/linear-train-data\n"
     ]
    }
   ],
   "source": [
    "import os\n",
    "\n",
    "# Code to upload RecordIO data to S3\n",
    " \n",
    "# Key refers to the name of the file    \n",
    "key = 'linear-train-data'\n",
    "\n",
    "# The following code uploads the data in record-io format to S3 bucket to be accessed later for training\n",
    "\n",
    "# boto3.resource('s3').Bucket(bucket).Object(os.path.join(prefix, 'train', key)).upload_fileobj(buf)\n",
    "\n",
    "boto3.resource('s3').Bucket(bucket).Object(f\"{prefix}/train/{key}\").upload_fileobj(buf)\n",
    "\n",
    "\n",
    "# Let's print out the training data location in s3\n",
    "s3_train_data = 's3://{}/{}/train/{}'.format(bucket, prefix, key)\n",
    "print('uploaded training data location: {}'.format(s3_train_data))"
   ]
  },
  {
   "cell_type": "code",
   "execution_count": 36,
   "metadata": {},
   "outputs": [
    {
     "data": {
      "text/plain": [
       "(7, 1)"
      ]
     },
     "execution_count": 36,
     "metadata": {},
     "output_type": "execute_result"
    }
   ],
   "source": [
    "X_test.shape"
   ]
  },
  {
   "cell_type": "code",
   "execution_count": 41,
   "metadata": {},
   "outputs": [
    {
     "data": {
      "text/plain": [
       "(7, 1)"
      ]
     },
     "execution_count": 41,
     "metadata": {},
     "output_type": "execute_result"
    }
   ],
   "source": [
    "y_test.shape"
   ]
  },
  {
   "cell_type": "code",
   "execution_count": 37,
   "metadata": {},
   "outputs": [],
   "source": [
    "# Make sure that the target label is a vector\n",
    "y_test = y_test[:,0]\n"
   ]
  },
  {
   "cell_type": "code",
   "execution_count": 38,
   "metadata": {},
   "outputs": [
    {
     "data": {
      "text/plain": [
       "0"
      ]
     },
     "execution_count": 38,
     "metadata": {},
     "output_type": "execute_result"
    }
   ],
   "source": [
    "# Code to upload RecordIO data to S3\n",
    "\n",
    "buf = io.BytesIO() # create an in-memory byte array (buf is a buffer I will be writing to)\n",
    "smac.write_numpy_to_dense_tensor(buf, X_test, y_test)\n",
    "buf.seek(0) \n",
    "# When you write to in-memory byte arrays, it increments 1 every time you write to it\n",
    "# Let's reset that back to zero \n"
   ]
  },
  {
   "cell_type": "code",
   "execution_count": 39,
   "metadata": {},
   "outputs": [
    {
     "name": "stdout",
     "output_type": "stream",
     "text": [
      "uploaded training data location: s3://sagemaker-us-east-1-618725421363/linear_learner/test/linear-test-data\n"
     ]
    }
   ],
   "source": [
    "# Key refers to the name of the file    \n",
    "key = 'linear-test-data'\n",
    "\n",
    "# The following code uploads the data in record-io format to S3 bucket to be accessed later for training\n",
    "boto3.resource('s3').Bucket(bucket).Object(f\"{prefix}/test/{key}\").upload_fileobj(buf)\n",
    "\n",
    "# Let's print out the testing data location in s3\n",
    "s3_test_data = 's3://{}/{}/test/{}'.format(bucket, prefix, key)\n",
    "print('uploaded training data location: {}'.format(s3_test_data))"
   ]
  },
  {
   "cell_type": "code",
   "execution_count": 40,
   "metadata": {},
   "outputs": [
    {
     "name": "stdout",
     "output_type": "stream",
     "text": [
      "Training artifacts will be uploaded to: s3://sagemaker-us-east-1-618725421363/linear_learner/output\n"
     ]
    }
   ],
   "source": [
    "# create an output placeholder in S3 bucket to store the linear learner output\n",
    "\n",
    "output_location = 's3://{}/{}/output'.format(bucket, prefix)\n",
    "print('Training artifacts will be uploaded to: {}'.format(output_location))"
   ]
  },
  {
   "cell_type": "code",
   "execution_count": 44,
   "metadata": {},
   "outputs": [],
   "source": [
    "# This code is used to get the training container of sagemaker built-in algorithms\n",
    "# all we have to do is to specify the name of the algorithm, that we want to use\n",
    "\n",
    "# Let's obtain a reference to the linearLearner container image\n",
    "# Note that all regression models are named estimators\n",
    "# You don't have to specify (hardcode) the region, get_image_uri will get the current region name using boto3.Session\n",
    "\n",
    "from sagemaker.amazon.amazon_estimator import get_image_uri\n",
    "\n",
    "# container = get_image_uri(boto3.Session().region_name, 'linear-learner')\n",
    "\n",
    "container = sagemaker.image_uris.retrieve(\"linear-learner\", boto3.Session().region_name)"
   ]
  },
  {
   "cell_type": "code",
   "execution_count": 49,
   "metadata": {},
   "outputs": [
    {
     "name": "stderr",
     "output_type": "stream",
     "text": [
      "train_instance_count has been renamed in sagemaker>=2.\n",
      "See: https://sagemaker.readthedocs.io/en/stable/v2.html for details.\n",
      "train_instance_type has been renamed in sagemaker>=2.\n",
      "See: https://sagemaker.readthedocs.io/en/stable/v2.html for details.\n"
     ]
    },
    {
     "name": "stdout",
     "output_type": "stream",
     "text": [
      "2022-02-08 18:56:53 Starting - Starting the training job...\n",
      "2022-02-08 18:57:21 Starting - Launching requested ML instancesProfilerReport-1644346613: InProgress\n",
      "......\n",
      "2022-02-08 18:58:21 Starting - Preparing the instances for training............\n",
      "2022-02-08 19:00:22 Downloading - Downloading input data...\n",
      "2022-02-08 19:00:52 Training - Training image download completed. Training in progress..\u001b[34mDocker entrypoint called with argument(s): train\u001b[0m\n",
      "\u001b[34mRunning default environment configuration script\u001b[0m\n",
      "\u001b[34m[02/08/2022 19:00:57 INFO 140697837016896] Reading default configuration from /opt/amazon/lib/python3.7/site-packages/algorithm/resources/default-input.json: {'mini_batch_size': '1000', 'epochs': '15', 'feature_dim': 'auto', 'use_bias': 'true', 'binary_classifier_model_selection_criteria': 'accuracy', 'f_beta': '1.0', 'target_recall': '0.8', 'target_precision': '0.8', 'num_models': 'auto', 'num_calibration_samples': '10000000', 'init_method': 'uniform', 'init_scale': '0.07', 'init_sigma': '0.01', 'init_bias': '0.0', 'optimizer': 'auto', 'loss': 'auto', 'margin': '1.0', 'quantile': '0.5', 'loss_insensitivity': '0.01', 'huber_delta': '1.0', 'num_classes': '1', 'accuracy_top_k': '3', 'wd': 'auto', 'l1': 'auto', 'momentum': 'auto', 'learning_rate': 'auto', 'beta_1': 'auto', 'beta_2': 'auto', 'bias_lr_mult': 'auto', 'bias_wd_mult': 'auto', 'use_lr_scheduler': 'true', 'lr_scheduler_step': 'auto', 'lr_scheduler_factor': 'auto', 'lr_scheduler_minimum_lr': 'auto', 'positive_example_weight_mult': '1.0', 'balance_multiclass_weights': 'false', 'normalize_data': 'true', 'normalize_label': 'auto', 'unbias_data': 'auto', 'unbias_label': 'auto', 'num_point_for_scaler': '10000', '_kvstore': 'auto', '_num_gpus': 'auto', '_num_kv_servers': 'auto', '_log_level': 'info', '_tuning_objective_metric': '', 'early_stopping_patience': '3', 'early_stopping_tolerance': '0.001', '_enable_profiler': 'false'}\u001b[0m\n",
      "\u001b[34m[02/08/2022 19:00:57 INFO 140697837016896] Merging with provided configuration from /opt/ml/input/config/hyperparameters.json: {'loss': 'absolute_loss', 'feature_dim': '1', 'num_models': '32', 'predictor_type': 'regressor', 'epochs': '5', 'mini_batch_size': '5'}\u001b[0m\n",
      "\u001b[34m[02/08/2022 19:00:57 INFO 140697837016896] Final configuration: {'mini_batch_size': '5', 'epochs': '5', 'feature_dim': '1', 'use_bias': 'true', 'binary_classifier_model_selection_criteria': 'accuracy', 'f_beta': '1.0', 'target_recall': '0.8', 'target_precision': '0.8', 'num_models': '32', 'num_calibration_samples': '10000000', 'init_method': 'uniform', 'init_scale': '0.07', 'init_sigma': '0.01', 'init_bias': '0.0', 'optimizer': 'auto', 'loss': 'absolute_loss', 'margin': '1.0', 'quantile': '0.5', 'loss_insensitivity': '0.01', 'huber_delta': '1.0', 'num_classes': '1', 'accuracy_top_k': '3', 'wd': 'auto', 'l1': 'auto', 'momentum': 'auto', 'learning_rate': 'auto', 'beta_1': 'auto', 'beta_2': 'auto', 'bias_lr_mult': 'auto', 'bias_wd_mult': 'auto', 'use_lr_scheduler': 'true', 'lr_scheduler_step': 'auto', 'lr_scheduler_factor': 'auto', 'lr_scheduler_minimum_lr': 'auto', 'positive_example_weight_mult': '1.0', 'balance_multiclass_weights': 'false', 'normalize_data': 'true', 'normalize_label': 'auto', 'unbias_data': 'auto', 'unbias_label': 'auto', 'num_point_for_scaler': '10000', '_kvstore': 'auto', '_num_gpus': 'auto', '_num_kv_servers': 'auto', '_log_level': 'info', '_tuning_objective_metric': '', 'early_stopping_patience': '3', 'early_stopping_tolerance': '0.001', '_enable_profiler': 'false', 'predictor_type': 'regressor'}\u001b[0m\n",
      "\u001b[34m[02/08/2022 19:00:57 WARNING 140697837016896] Loggers have already been setup.\u001b[0m\n",
      "\u001b[34mProcess 1 is a worker.\u001b[0m\n",
      "\u001b[34m[02/08/2022 19:00:57 INFO 140697837016896] Using default worker.\u001b[0m\n",
      "\u001b[34m[02/08/2022 19:00:57 INFO 140697837016896] Checkpoint loading and saving are disabled.\u001b[0m\n",
      "\u001b[34m[2022-02-08 19:00:57.456] [tensorio] [info] epoch_stats={\"data_pipeline\": \"/opt/ml/input/data/train\", \"epoch\": 0, \"duration\": 14, \"num_examples\": 1, \"num_bytes\": 240}\u001b[0m\n",
      "\u001b[34m[02/08/2022 19:00:57 INFO 140697837016896] Create Store: local\u001b[0m\n",
      "\u001b[34m[2022-02-08 19:00:57.514] [tensorio] [info] epoch_stats={\"data_pipeline\": \"/opt/ml/input/data/train\", \"epoch\": 1, \"duration\": 57, \"num_examples\": 6, \"num_bytes\": 1344}\u001b[0m\n",
      "\u001b[34m[02/08/2022 19:00:57 INFO 140697837016896] Scaler algorithm parameters\n",
      " <algorithm.scaler.ScalerAlgorithmStable object at 0x7ff6645ba850>\u001b[0m\n",
      "\u001b[34m[02/08/2022 19:00:57 INFO 140697837016896] Scaling model computed with parameters:\n",
      " {'stdev_label': \u001b[0m\n",
      "\u001b[34m[31153.586]\u001b[0m\n",
      "\u001b[34m<NDArray 1 @cpu(0)>, 'stdev_weight': \u001b[0m\n",
      "\u001b[34m[3.4493918]\u001b[0m\n",
      "\u001b[34m<NDArray 1 @cpu(0)>, 'mean_label': \u001b[0m\n",
      "\u001b[34m[78222.05]\u001b[0m\n",
      "\u001b[34m<NDArray 1 @cpu(0)>, 'mean_weight': \u001b[0m\n",
      "\u001b[34m[5.636]\u001b[0m\n",
      "\u001b[34m<NDArray 1 @cpu(0)>}\u001b[0m\n",
      "\u001b[34m[02/08/2022 19:00:57 INFO 140697837016896] nvidia-smi: took 0.055 seconds to run.\u001b[0m\n",
      "\u001b[34m[02/08/2022 19:00:57 INFO 140697837016896] nvidia-smi identified 0 GPUs.\u001b[0m\n",
      "\u001b[34m[02/08/2022 19:00:57 INFO 140697837016896] Number of GPUs being used: 0\u001b[0m\n",
      "\u001b[34m#metrics {\"StartTime\": 1644346857.6920817, \"EndTime\": 1644346857.6921365, \"Dimensions\": {\"Algorithm\": \"Linear Learner\", \"Host\": \"algo-1\", \"Operation\": \"training\", \"Meta\": \"init_train_data_iter\"}, \"Metrics\": {\"Total Records Seen\": {\"sum\": 33.0, \"count\": 1, \"min\": 33, \"max\": 33}, \"Total Batches Seen\": {\"sum\": 7.0, \"count\": 1, \"min\": 7, \"max\": 7}, \"Max Records Seen Between Resets\": {\"sum\": 28.0, \"count\": 1, \"min\": 28, \"max\": 28}, \"Max Batches Seen Between Resets\": {\"sum\": 6.0, \"count\": 1, \"min\": 6, \"max\": 6}, \"Reset Count\": {\"sum\": 2.0, \"count\": 1, \"min\": 2, \"max\": 2}, \"Number of Records Since Last Reset\": {\"sum\": 0.0, \"count\": 1, \"min\": 0, \"max\": 0}, \"Number of Batches Since Last Reset\": {\"sum\": 0.0, \"count\": 1, \"min\": 0, \"max\": 0}}}\u001b[0m\n",
      "\u001b[34m[2022-02-08 19:00:57.820] [tensorio] [info] epoch_stats={\"data_pipeline\": \"/opt/ml/input/data/train\", \"epoch\": 4, \"duration\": 127, \"num_examples\": 6, \"num_bytes\": 1344}\u001b[0m\n",
      "\u001b[34m#metrics {\"StartTime\": 1644346857.8205779, \"EndTime\": 1644346857.82067, \"Dimensions\": {\"Algorithm\": \"Linear Learner\", \"Host\": \"algo-1\", \"Operation\": \"training\", \"epoch\": 0, \"model\": 0}, \"Metrics\": {\"train_absolute_loss_objective\": {\"sum\": 0.9148080635070801, \"count\": 1, \"min\": 0.9148080635070801, \"max\": 0.9148080635070801}}}\u001b[0m\n",
      "\u001b[34m#metrics {\"StartTime\": 1644346857.8207626, \"EndTime\": 1644346857.8207812, \"Dimensions\": {\"Algorithm\": \"Linear Learner\", \"Host\": \"algo-1\", \"Operation\": \"training\", \"epoch\": 0, \"model\": 1}, \"Metrics\": {\"train_absolute_loss_objective\": {\"sum\": 0.9346371841430664, \"count\": 1, \"min\": 0.9346371841430664, \"max\": 0.9346371841430664}}}\u001b[0m\n",
      "\u001b[34m#metrics {\"StartTime\": 1644346857.8208349, \"EndTime\": 1644346857.8208506, \"Dimensions\": {\"Algorithm\": \"Linear Learner\", \"Host\": \"algo-1\", \"Operation\": \"training\", \"epoch\": 0, \"model\": 2}, \"Metrics\": {\"train_absolute_loss_objective\": {\"sum\": 0.9172100830078125, \"count\": 1, \"min\": 0.9172100830078125, \"max\": 0.9172100830078125}}}\u001b[0m\n",
      "\u001b[34m#metrics {\"StartTime\": 1644346857.82091, \"EndTime\": 1644346857.820927, \"Dimensions\": {\"Algorithm\": \"Linear Learner\", \"Host\": \"algo-1\", \"Operation\": \"training\", \"epoch\": 0, \"model\": 3}, \"Metrics\": {\"train_absolute_loss_objective\": {\"sum\": 0.9336238193511963, \"count\": 1, \"min\": 0.9336238193511963, \"max\": 0.9336238193511963}}}\u001b[0m\n",
      "\u001b[34m#metrics {\"StartTime\": 1644346857.8209796, \"EndTime\": 1644346857.820995, \"Dimensions\": {\"Algorithm\": \"Linear Learner\", \"Host\": \"algo-1\", \"Operation\": \"training\", \"epoch\": 0, \"model\": 4}, \"Metrics\": {\"train_absolute_loss_objective\": {\"sum\": 1.0359399604797364, \"count\": 1, \"min\": 1.0359399604797364, \"max\": 1.0359399604797364}}}\u001b[0m\n",
      "\u001b[34m#metrics {\"StartTime\": 1644346857.8210542, \"EndTime\": 1644346857.8210697, \"Dimensions\": {\"Algorithm\": \"Linear Learner\", \"Host\": \"algo-1\", \"Operation\": \"training\", \"epoch\": 0, \"model\": 5}, \"Metrics\": {\"train_absolute_loss_objective\": {\"sum\": 1.0446713638305665, \"count\": 1, \"min\": 1.0446713638305665, \"max\": 1.0446713638305665}}}\u001b[0m\n",
      "\u001b[34m#metrics {\"StartTime\": 1644346857.8211253, \"EndTime\": 1644346857.8211424, \"Dimensions\": {\"Algorithm\": \"Linear Learner\", \"Host\": \"algo-1\", \"Operation\": \"training\", \"epoch\": 0, \"model\": 6}, \"Metrics\": {\"train_absolute_loss_objective\": {\"sum\": 1.1192922115325927, \"count\": 1, \"min\": 1.1192922115325927, \"max\": 1.1192922115325927}}}\u001b[0m\n",
      "\u001b[34m#metrics {\"StartTime\": 1644346857.8212023, \"EndTime\": 1644346857.821218, \"Dimensions\": {\"Algorithm\": \"Linear Learner\", \"Host\": \"algo-1\", \"Operation\": \"training\", \"epoch\": 0, \"model\": 7}, \"Metrics\": {\"train_absolute_loss_objective\": {\"sum\": 1.0933119201660155, \"count\": 1, \"min\": 1.0933119201660155, \"max\": 1.0933119201660155}}}\u001b[0m\n",
      "\u001b[34m#metrics {\"StartTime\": 1644346857.8212676, \"EndTime\": 1644346857.8212826, \"Dimensions\": {\"Algorithm\": \"Linear Learner\", \"Host\": \"algo-1\", \"Operation\": \"training\", \"epoch\": 0, \"model\": 8}, \"Metrics\": {\"train_absolute_loss_objective\": {\"sum\": 0.9704831886291504, \"count\": 1, \"min\": 0.9704831886291504, \"max\": 0.9704831886291504}}}\u001b[0m\n",
      "\u001b[34m#metrics {\"StartTime\": 1644346857.821333, \"EndTime\": 1644346857.8213482, \"Dimensions\": {\"Algorithm\": \"Linear Learner\", \"Host\": \"algo-1\", \"Operation\": \"training\", \"epoch\": 0, \"model\": 9}, \"Metrics\": {\"train_absolute_loss_objective\": {\"sum\": 0.9028264331817627, \"count\": 1, \"min\": 0.9028264331817627, \"max\": 0.9028264331817627}}}\u001b[0m\n",
      "\u001b[34m#metrics {\"StartTime\": 1644346857.8214076, \"EndTime\": 1644346857.8214235, \"Dimensions\": {\"Algorithm\": \"Linear Learner\", \"Host\": \"algo-1\", \"Operation\": \"training\", \"epoch\": 0, \"model\": 10}, \"Metrics\": {\"train_absolute_loss_objective\": {\"sum\": 0.9094984340667724, \"count\": 1, \"min\": 0.9094984340667724, \"max\": 0.9094984340667724}}}\u001b[0m\n",
      "\u001b[34m#metrics {\"StartTime\": 1644346857.8214872, \"EndTime\": 1644346857.8215046, \"Dimensions\": {\"Algorithm\": \"Linear Learner\", \"Host\": \"algo-1\", \"Operation\": \"training\", \"epoch\": 0, \"model\": 11}, \"Metrics\": {\"train_absolute_loss_objective\": {\"sum\": 0.8947447490692139, \"count\": 1, \"min\": 0.8947447490692139, \"max\": 0.8947447490692139}}}\u001b[0m\n",
      "\u001b[34m#metrics {\"StartTime\": 1644346857.8215644, \"EndTime\": 1644346857.8215818, \"Dimensions\": {\"Algorithm\": \"Linear Learner\", \"Host\": \"algo-1\", \"Operation\": \"training\", \"epoch\": 0, \"model\": 12}, \"Metrics\": {\"train_absolute_loss_objective\": {\"sum\": 1.0439195251464843, \"count\": 1, \"min\": 1.0439195251464843, \"max\": 1.0439195251464843}}}\u001b[0m\n",
      "\u001b[34m#metrics {\"StartTime\": 1644346857.8216426, \"EndTime\": 1644346857.8216584, \"Dimensions\": {\"Algorithm\": \"Linear Learner\", \"Host\": \"algo-1\", \"Operation\": \"training\", \"epoch\": 0, \"model\": 13}, \"Metrics\": {\"train_absolute_loss_objective\": {\"sum\": 1.0674695301055908, \"count\": 1, \"min\": 1.0674695301055908, \"max\": 1.0674695301055908}}}\u001b[0m\n",
      "\u001b[34m#metrics {\"StartTime\": 1644346857.8217082, \"EndTime\": 1644346857.8217223, \"Dimensions\": {\"Algorithm\": \"Linear Learner\", \"Host\": \"algo-1\", \"Operation\": \"training\", \"epoch\": 0, \"model\": 14}, \"Metrics\": {\"train_absolute_loss_objective\": {\"sum\": 1.0425855350494384, \"count\": 1, \"min\": 1.0425855350494384, \"max\": 1.0425855350494384}}}\u001b[0m\n",
      "\u001b[34m#metrics {\"StartTime\": 1644346857.8217845, \"EndTime\": 1644346857.8217993, \"Dimensions\": {\"Algorithm\": \"Linear Learner\", \"Host\": \"algo-1\", \"Operation\": \"training\", \"epoch\": 0, \"model\": 15}, \"Metrics\": {\"train_absolute_loss_objective\": {\"sum\": 1.0731136894226074, \"count\": 1, \"min\": 1.0731136894226074, \"max\": 1.0731136894226074}}}\u001b[0m\n",
      "\u001b[34m#metrics {\"StartTime\": 1644346857.8218472, \"EndTime\": 1644346857.821862, \"Dimensions\": {\"Algorithm\": \"Linear Learner\", \"Host\": \"algo-1\", \"Operation\": \"training\", \"epoch\": 0, \"model\": 16}, \"Metrics\": {\"train_absolute_loss_objective\": {\"sum\": 0.8788487815856934, \"count\": 1, \"min\": 0.8788487815856934, \"max\": 0.8788487815856934}}}\u001b[0m\n",
      "\u001b[34m#metrics {\"StartTime\": 1644346857.8219192, \"EndTime\": 1644346857.8219364, \"Dimensions\": {\"Algorithm\": \"Linear Learner\", \"Host\": \"algo-1\", \"Operation\": \"training\", \"epoch\": 0, \"model\": 17}, \"Metrics\": {\"train_absolute_loss_objective\": {\"sum\": 0.9299047756195068, \"count\": 1, \"min\": 0.9299047756195068, \"max\": 0.9299047756195068}}}\u001b[0m\n",
      "\u001b[34m#metrics {\"StartTime\": 1644346857.821998, \"EndTime\": 1644346857.8220155, \"Dimensions\": {\"Algorithm\": \"Linear Learner\", \"Host\": \"algo-1\", \"Operation\": \"training\", \"epoch\": 0, \"model\": 18}, \"Metrics\": {\"train_absolute_loss_objective\": {\"sum\": 0.9058092308044433, \"count\": 1, \"min\": 0.9058092308044433, \"max\": 0.9058092308044433}}}\u001b[0m\n",
      "\u001b[34m#metrics {\"StartTime\": 1644346857.822069, \"EndTime\": 1644346857.8220842, \"Dimensions\": {\"Algorithm\": \"Linear Learner\", \"Host\": \"algo-1\", \"Operation\": \"training\", \"epoch\": 0, \"model\": 19}, \"Metrics\": {\"train_absolute_loss_objective\": {\"sum\": 0.9031177330017089, \"count\": 1, \"min\": 0.9031177330017089, \"max\": 0.9031177330017089}}}\u001b[0m\n",
      "\u001b[34m#metrics {\"StartTime\": 1644346857.8221333, \"EndTime\": 1644346857.8221478, \"Dimensions\": {\"Algorithm\": \"Linear Learner\", \"Host\": \"algo-1\", \"Operation\": \"training\", \"epoch\": 0, \"model\": 20}, \"Metrics\": {\"train_absolute_loss_objective\": {\"sum\": 1.0880375766754151, \"count\": 1, \"min\": 1.0880375766754151, \"max\": 1.0880375766754151}}}\u001b[0m\n",
      "\u001b[34m#metrics {\"StartTime\": 1644346857.822198, \"EndTime\": 1644346857.822213, \"Dimensions\": {\"Algorithm\": \"Linear Learner\", \"Host\": \"algo-1\", \"Operation\": \"training\", \"epoch\": 0, \"model\": 21}, \"Metrics\": {\"train_absolute_loss_objective\": {\"sum\": 1.1011838340759277, \"count\": 1, \"min\": 1.1011838340759277, \"max\": 1.1011838340759277}}}\u001b[0m\n",
      "\u001b[34m#metrics {\"StartTime\": 1644346857.8222585, \"EndTime\": 1644346857.8222685, \"Dimensions\": {\"Algorithm\": \"Linear Learner\", \"Host\": \"algo-1\", \"Operation\": \"training\", \"epoch\": 0, \"model\": 22}, \"Metrics\": {\"train_absolute_loss_objective\": {\"sum\": 1.0456467247009278, \"count\": 1, \"min\": 1.0456467247009278, \"max\": 1.0456467247009278}}}\u001b[0m\n",
      "\u001b[34m#metrics {\"StartTime\": 1644346857.8223095, \"EndTime\": 1644346857.8223193, \"Dimensions\": {\"Algorithm\": \"Linear Learner\", \"Host\": \"algo-1\", \"Operation\": \"training\", \"epoch\": 0, \"model\": 23}, \"Metrics\": {\"train_absolute_loss_objective\": {\"sum\": 1.1238594913482667, \"count\": 1, \"min\": 1.1238594913482667, \"max\": 1.1238594913482667}}}\u001b[0m\n",
      "\u001b[34m#metrics {\"StartTime\": 1644346857.822365, \"EndTime\": 1644346857.8223758, \"Dimensions\": {\"Algorithm\": \"Linear Learner\", \"Host\": \"algo-1\", \"Operation\": \"training\", \"epoch\": 0, \"model\": 24}, \"Metrics\": {\"train_absolute_loss_objective\": {\"sum\": 0.8813486766815185, \"count\": 1, \"min\": 0.8813486766815185, \"max\": 0.8813486766815185}}}\u001b[0m\n",
      "\u001b[34m#metrics {\"StartTime\": 1644346857.8224232, \"EndTime\": 1644346857.822438, \"Dimensions\": {\"Algorithm\": \"Linear Learner\", \"Host\": \"algo-1\", \"Operation\": \"training\", \"epoch\": 0, \"model\": 25}, \"Metrics\": {\"train_absolute_loss_objective\": {\"sum\": 0.9480187797546387, \"count\": 1, \"min\": 0.9480187797546387, \"max\": 0.9480187797546387}}}\u001b[0m\n",
      "\u001b[34m#metrics {\"StartTime\": 1644346857.822482, \"EndTime\": 1644346857.8224926, \"Dimensions\": {\"Algorithm\": \"Linear Learner\", \"Host\": \"algo-1\", \"Operation\": \"training\", \"epoch\": 0, \"model\": 26}, \"Metrics\": {\"train_absolute_loss_objective\": {\"sum\": 0.9348417663574219, \"count\": 1, \"min\": 0.9348417663574219, \"max\": 0.9348417663574219}}}\u001b[0m\n",
      "\u001b[34m#metrics {\"StartTime\": 1644346857.8225336, \"EndTime\": 1644346857.8225474, \"Dimensions\": {\"Algorithm\": \"Linear Learner\", \"Host\": \"algo-1\", \"Operation\": \"training\", \"epoch\": 0, \"model\": 27}, \"Metrics\": {\"train_absolute_loss_objective\": {\"sum\": 0.9245274066925049, \"count\": 1, \"min\": 0.9245274066925049, \"max\": 0.9245274066925049}}}\u001b[0m\n",
      "\u001b[34m#metrics {\"StartTime\": 1644346857.8226008, \"EndTime\": 1644346857.8226166, \"Dimensions\": {\"Algorithm\": \"Linear Learner\", \"Host\": \"algo-1\", \"Operation\": \"training\", \"epoch\": 0, \"model\": 28}, \"Metrics\": {\"train_absolute_loss_objective\": {\"sum\": 1.1810109329223633, \"count\": 1, \"min\": 1.1810109329223633, \"max\": 1.1810109329223633}}}\u001b[0m\n",
      "\u001b[34m#metrics {\"StartTime\": 1644346857.822673, \"EndTime\": 1644346857.822689, \"Dimensions\": {\"Algorithm\": \"Linear Learner\", \"Host\": \"algo-1\", \"Operation\": \"training\", \"epoch\": 0, \"model\": 29}, \"Metrics\": {\"train_absolute_loss_objective\": {\"sum\": 1.1812352561950683, \"count\": 1, \"min\": 1.1812352561950683, \"max\": 1.1812352561950683}}}\u001b[0m\n",
      "\u001b[34m#metrics {\"StartTime\": 1644346857.8227313, \"EndTime\": 1644346857.8227406, \"Dimensions\": {\"Algorithm\": \"Linear Learner\", \"Host\": \"algo-1\", \"Operation\": \"training\", \"epoch\": 0, \"model\": 30}, \"Metrics\": {\"train_absolute_loss_objective\": {\"sum\": 1.2016609573364259, \"count\": 1, \"min\": 1.2016609573364259, \"max\": 1.2016609573364259}}}\u001b[0m\n",
      "\u001b[34m#metrics {\"StartTime\": 1644346857.8227723, \"EndTime\": 1644346857.8227851, \"Dimensions\": {\"Algorithm\": \"Linear Learner\", \"Host\": \"algo-1\", \"Operation\": \"training\", \"epoch\": 0, \"model\": 31}, \"Metrics\": {\"train_absolute_loss_objective\": {\"sum\": 1.1999408721923828, \"count\": 1, \"min\": 1.1999408721923828, \"max\": 1.1999408721923828}}}\u001b[0m\n",
      "\u001b[34m[02/08/2022 19:00:57 INFO 140697837016896] #quality_metric: host=algo-1, epoch=0, train absolute_loss_objective <loss>=0.9148080635070801\u001b[0m\n",
      "\u001b[34m[02/08/2022 19:00:57 INFO 140697837016896] #early_stopping_criteria_metric: host=algo-1, epoch=0, criteria=absolute_loss_objective, value=0.8788487815856934\u001b[0m\n",
      "\u001b[34m[02/08/2022 19:00:57 INFO 140697837016896] Epoch 0: Loss improved. Updating best model\u001b[0m\n",
      "\u001b[34m[02/08/2022 19:00:57 INFO 140697837016896] Saving model for epoch: 0\u001b[0m\n",
      "\u001b[34m[02/08/2022 19:00:57 INFO 140697837016896] Saved checkpoint to \"/tmp/tmp3s5gg2uz/mx-mod-0000.params\"\u001b[0m\n",
      "\u001b[34m[02/08/2022 19:00:57 INFO 140697837016896] #progress_metric: host=algo-1, completed 20.0 % of epochs\u001b[0m\n",
      "\u001b[34m#metrics {\"StartTime\": 1644346857.6924813, \"EndTime\": 1644346857.8372195, \"Dimensions\": {\"Algorithm\": \"Linear Learner\", \"Host\": \"algo-1\", \"Operation\": \"training\", \"epoch\": 0, \"Meta\": \"training_data_iter\"}, \"Metrics\": {\"Total Records Seen\": {\"sum\": 61.0, \"count\": 1, \"min\": 61, \"max\": 61}, \"Total Batches Seen\": {\"sum\": 13.0, \"count\": 1, \"min\": 13, \"max\": 13}, \"Max Records Seen Between Resets\": {\"sum\": 28.0, \"count\": 1, \"min\": 28, \"max\": 28}, \"Max Batches Seen Between Resets\": {\"sum\": 6.0, \"count\": 1, \"min\": 6, \"max\": 6}, \"Reset Count\": {\"sum\": 3.0, \"count\": 1, \"min\": 3, \"max\": 3}, \"Number of Records Since Last Reset\": {\"sum\": 28.0, \"count\": 1, \"min\": 28, \"max\": 28}, \"Number of Batches Since Last Reset\": {\"sum\": 6.0, \"count\": 1, \"min\": 6, \"max\": 6}}}\u001b[0m\n",
      "\u001b[34m[02/08/2022 19:00:57 INFO 140697837016896] #throughput_metric: host=algo-1, train throughput=193.28017274010975 records/second\u001b[0m\n",
      "\u001b[34m[2022-02-08 19:00:57.939] [tensorio] [info] epoch_stats={\"data_pipeline\": \"/opt/ml/input/data/train\", \"epoch\": 6, \"duration\": 101, \"num_examples\": 6, \"num_bytes\": 1344}\u001b[0m\n",
      "\u001b[34m#metrics {\"StartTime\": 1644346857.9395187, \"EndTime\": 1644346857.9395702, \"Dimensions\": {\"Algorithm\": \"Linear Learner\", \"Host\": \"algo-1\", \"Operation\": \"training\", \"epoch\": 1, \"model\": 0}, \"Metrics\": {\"train_absolute_loss_objective\": {\"sum\": 0.8703967189788818, \"count\": 1, \"min\": 0.8703967189788818, \"max\": 0.8703967189788818}}}\u001b[0m\n",
      "\u001b[34m#metrics {\"StartTime\": 1644346857.9396303, \"EndTime\": 1644346857.9396422, \"Dimensions\": {\"Algorithm\": \"Linear Learner\", \"Host\": \"algo-1\", \"Operation\": \"training\", \"epoch\": 1, \"model\": 1}, \"Metrics\": {\"train_absolute_loss_objective\": {\"sum\": 0.8902258491516113, \"count\": 1, \"min\": 0.8902258491516113, \"max\": 0.8902258491516113}}}\u001b[0m\n",
      "\u001b[34m#metrics {\"StartTime\": 1644346857.9396703, \"EndTime\": 1644346857.9396784, \"Dimensions\": {\"Algorithm\": \"Linear Learner\", \"Host\": \"algo-1\", \"Operation\": \"training\", \"epoch\": 1, \"model\": 2}, \"Metrics\": {\"train_absolute_loss_objective\": {\"sum\": 0.8727987480163574, \"count\": 1, \"min\": 0.8727987480163574, \"max\": 0.8727987480163574}}}\u001b[0m\n",
      "\u001b[34m#metrics {\"StartTime\": 1644346857.9397032, \"EndTime\": 1644346857.9397104, \"Dimensions\": {\"Algorithm\": \"Linear Learner\", \"Host\": \"algo-1\", \"Operation\": \"training\", \"epoch\": 1, \"model\": 3}, \"Metrics\": {\"train_absolute_loss_objective\": {\"sum\": 0.8892125034332276, \"count\": 1, \"min\": 0.8892125034332276, \"max\": 0.8892125034332276}}}\u001b[0m\n",
      "\u001b[34m#metrics {\"StartTime\": 1644346857.9397383, \"EndTime\": 1644346857.9397452, \"Dimensions\": {\"Algorithm\": \"Linear Learner\", \"Host\": \"algo-1\", \"Operation\": \"training\", \"epoch\": 1, \"model\": 4}, \"Metrics\": {\"train_absolute_loss_objective\": {\"sum\": 0.450587842464447, \"count\": 1, \"min\": 0.450587842464447, \"max\": 0.450587842464447}}}\u001b[0m\n",
      "\u001b[34m#metrics {\"StartTime\": 1644346857.939768, \"EndTime\": 1644346857.9397748, \"Dimensions\": {\"Algorithm\": \"Linear Learner\", \"Host\": \"algo-1\", \"Operation\": \"training\", \"epoch\": 1, \"model\": 5}, \"Metrics\": {\"train_absolute_loss_objective\": {\"sum\": 0.44271925926208494, \"count\": 1, \"min\": 0.44271925926208494, \"max\": 0.44271925926208494}}}\u001b[0m\n",
      "\u001b[34m#metrics {\"StartTime\": 1644346857.939798, \"EndTime\": 1644346857.9398046, \"Dimensions\": {\"Algorithm\": \"Linear Learner\", \"Host\": \"algo-1\", \"Operation\": \"training\", \"epoch\": 1, \"model\": 6}, \"Metrics\": {\"train_absolute_loss_objective\": {\"sum\": 0.5285683155059815, \"count\": 1, \"min\": 0.5285683155059815, \"max\": 0.5285683155059815}}}\u001b[0m\n",
      "\u001b[34m#metrics {\"StartTime\": 1644346857.9398272, \"EndTime\": 1644346857.939834, \"Dimensions\": {\"Algorithm\": \"Linear Learner\", \"Host\": \"algo-1\", \"Operation\": \"training\", \"epoch\": 1, \"model\": 7}, \"Metrics\": {\"train_absolute_loss_objective\": {\"sum\": 0.5161008548736572, \"count\": 1, \"min\": 0.5161008548736572, \"max\": 0.5161008548736572}}}\u001b[0m\n",
      "\u001b[34m#metrics {\"StartTime\": 1644346857.9398563, \"EndTime\": 1644346857.939863, \"Dimensions\": {\"Algorithm\": \"Linear Learner\", \"Host\": \"algo-1\", \"Operation\": \"training\", \"epoch\": 1, \"model\": 8}, \"Metrics\": {\"train_absolute_loss_objective\": {\"sum\": 0.9260715484619141, \"count\": 1, \"min\": 0.9260715484619141, \"max\": 0.9260715484619141}}}\u001b[0m\n",
      "\u001b[34m#metrics {\"StartTime\": 1644346857.9398851, \"EndTime\": 1644346857.939892, \"Dimensions\": {\"Algorithm\": \"Linear Learner\", \"Host\": \"algo-1\", \"Operation\": \"training\", \"epoch\": 1, \"model\": 9}, \"Metrics\": {\"train_absolute_loss_objective\": {\"sum\": 0.8584158897399903, \"count\": 1, \"min\": 0.8584158897399903, \"max\": 0.8584158897399903}}}\u001b[0m\n",
      "\u001b[34m#metrics {\"StartTime\": 1644346857.9399168, \"EndTime\": 1644346857.939924, \"Dimensions\": {\"Algorithm\": \"Linear Learner\", \"Host\": \"algo-1\", \"Operation\": \"training\", \"epoch\": 1, \"model\": 10}, \"Metrics\": {\"train_absolute_loss_objective\": {\"sum\": 0.8650877571105957, \"count\": 1, \"min\": 0.8650877571105957, \"max\": 0.8650877571105957}}}\u001b[0m\n",
      "\u001b[34m#metrics {\"StartTime\": 1644346857.9399474, \"EndTime\": 1644346857.9399538, \"Dimensions\": {\"Algorithm\": \"Linear Learner\", \"Host\": \"algo-1\", \"Operation\": \"training\", \"epoch\": 1, \"model\": 11}, \"Metrics\": {\"train_absolute_loss_objective\": {\"sum\": 0.8503343009948731, \"count\": 1, \"min\": 0.8503343009948731, \"max\": 0.8503343009948731}}}\u001b[0m\n",
      "\u001b[34m#metrics {\"StartTime\": 1644346857.9399762, \"EndTime\": 1644346857.939983, \"Dimensions\": {\"Algorithm\": \"Linear Learner\", \"Host\": \"algo-1\", \"Operation\": \"training\", \"epoch\": 1, \"model\": 12}, \"Metrics\": {\"train_absolute_loss_objective\": {\"sum\": 0.44278228521347046, \"count\": 1, \"min\": 0.44278228521347046, \"max\": 0.44278228521347046}}}\u001b[0m\n",
      "\u001b[34m#metrics {\"StartTime\": 1644346857.9400063, \"EndTime\": 1644346857.9400127, \"Dimensions\": {\"Algorithm\": \"Linear Learner\", \"Host\": \"algo-1\", \"Operation\": \"training\", \"epoch\": 1, \"model\": 13}, \"Metrics\": {\"train_absolute_loss_objective\": {\"sum\": 0.4556490659713745, \"count\": 1, \"min\": 0.4556490659713745, \"max\": 0.4556490659713745}}}\u001b[0m\n",
      "\u001b[34m#metrics {\"StartTime\": 1644346857.940035, \"EndTime\": 1644346857.9400418, \"Dimensions\": {\"Algorithm\": \"Linear Learner\", \"Host\": \"algo-1\", \"Operation\": \"training\", \"epoch\": 1, \"model\": 14}, \"Metrics\": {\"train_absolute_loss_objective\": {\"sum\": 0.44205344438552857, \"count\": 1, \"min\": 0.44205344438552857, \"max\": 0.44205344438552857}}}\u001b[0m\n",
      "\u001b[34m#metrics {\"StartTime\": 1644346857.9400637, \"EndTime\": 1644346857.9400704, \"Dimensions\": {\"Algorithm\": \"Linear Learner\", \"Host\": \"algo-1\", \"Operation\": \"training\", \"epoch\": 1, \"model\": 15}, \"Metrics\": {\"train_absolute_loss_objective\": {\"sum\": 0.5067661046981812, \"count\": 1, \"min\": 0.5067661046981812, \"max\": 0.5067661046981812}}}\u001b[0m\n",
      "\u001b[34m#metrics {\"StartTime\": 1644346857.9400923, \"EndTime\": 1644346857.9400988, \"Dimensions\": {\"Algorithm\": \"Linear Learner\", \"Host\": \"algo-1\", \"Operation\": \"training\", \"epoch\": 1, \"model\": 16}, \"Metrics\": {\"train_absolute_loss_objective\": {\"sum\": 0.8345662784576416, \"count\": 1, \"min\": 0.8345662784576416, \"max\": 0.8345662784576416}}}\u001b[0m\n",
      "\u001b[34m#metrics {\"StartTime\": 1644346857.940121, \"EndTime\": 1644346857.9401278, \"Dimensions\": {\"Algorithm\": \"Linear Learner\", \"Host\": \"algo-1\", \"Operation\": \"training\", \"epoch\": 1, \"model\": 17}, \"Metrics\": {\"train_absolute_loss_objective\": {\"sum\": 0.8855302906036377, \"count\": 1, \"min\": 0.8855302906036377, \"max\": 0.8855302906036377}}}\u001b[0m\n",
      "\u001b[34m#metrics {\"StartTime\": 1644346857.94015, \"EndTime\": 1644346857.9401567, \"Dimensions\": {\"Algorithm\": \"Linear Learner\", \"Host\": \"algo-1\", \"Operation\": \"training\", \"epoch\": 1, \"model\": 18}, \"Metrics\": {\"train_absolute_loss_objective\": {\"sum\": 0.861475944519043, \"count\": 1, \"min\": 0.861475944519043, \"max\": 0.861475944519043}}}\u001b[0m\n",
      "\u001b[34m#metrics {\"StartTime\": 1644346857.9401784, \"EndTime\": 1644346857.940185, \"Dimensions\": {\"Algorithm\": \"Linear Learner\", \"Host\": \"algo-1\", \"Operation\": \"training\", \"epoch\": 1, \"model\": 19}, \"Metrics\": {\"train_absolute_loss_objective\": {\"sum\": 0.8587893104553223, \"count\": 1, \"min\": 0.8587893104553223, \"max\": 0.8587893104553223}}}\u001b[0m\n",
      "\u001b[34m#metrics {\"StartTime\": 1644346857.940207, \"EndTime\": 1644346857.9402137, \"Dimensions\": {\"Algorithm\": \"Linear Learner\", \"Host\": \"algo-1\", \"Operation\": \"training\", \"epoch\": 1, \"model\": 20}, \"Metrics\": {\"train_absolute_loss_objective\": {\"sum\": 0.5505193328857422, \"count\": 1, \"min\": 0.5505193328857422, \"max\": 0.5505193328857422}}}\u001b[0m\n",
      "\u001b[34m#metrics {\"StartTime\": 1644346857.9402354, \"EndTime\": 1644346857.9402418, \"Dimensions\": {\"Algorithm\": \"Linear Learner\", \"Host\": \"algo-1\", \"Operation\": \"training\", \"epoch\": 1, \"model\": 21}, \"Metrics\": {\"train_absolute_loss_objective\": {\"sum\": 0.5558825492858886, \"count\": 1, \"min\": 0.5558825492858886, \"max\": 0.5558825492858886}}}\u001b[0m\n",
      "\u001b[34m#metrics {\"StartTime\": 1644346857.9402657, \"EndTime\": 1644346857.9402747, \"Dimensions\": {\"Algorithm\": \"Linear Learner\", \"Host\": \"algo-1\", \"Operation\": \"training\", \"epoch\": 1, \"model\": 22}, \"Metrics\": {\"train_absolute_loss_objective\": {\"sum\": 0.5096594047546387, \"count\": 1, \"min\": 0.5096594047546387, \"max\": 0.5096594047546387}}}\u001b[0m\n",
      "\u001b[34m#metrics {\"StartTime\": 1644346857.9402964, \"EndTime\": 1644346857.940303, \"Dimensions\": {\"Algorithm\": \"Linear Learner\", \"Host\": \"algo-1\", \"Operation\": \"training\", \"epoch\": 1, \"model\": 23}, \"Metrics\": {\"train_absolute_loss_objective\": {\"sum\": 0.5653995800018311, \"count\": 1, \"min\": 0.5653995800018311, \"max\": 0.5653995800018311}}}\u001b[0m\n",
      "\u001b[34m#metrics {\"StartTime\": 1644346857.940325, \"EndTime\": 1644346857.9403317, \"Dimensions\": {\"Algorithm\": \"Linear Learner\", \"Host\": \"algo-1\", \"Operation\": \"training\", \"epoch\": 1, \"model\": 24}, \"Metrics\": {\"train_absolute_loss_objective\": {\"sum\": 0.8784411430358887, \"count\": 1, \"min\": 0.8784411430358887, \"max\": 0.8784411430358887}}}\u001b[0m\n",
      "\u001b[34m#metrics {\"StartTime\": 1644346857.9403665, \"EndTime\": 1644346857.9403808, \"Dimensions\": {\"Algorithm\": \"Linear Learner\", \"Host\": \"algo-1\", \"Operation\": \"training\", \"epoch\": 1, \"model\": 25}, \"Metrics\": {\"train_absolute_loss_objective\": {\"sum\": 0.9046893310546875, \"count\": 1, \"min\": 0.9046893310546875, \"max\": 0.9046893310546875}}}\u001b[0m\n",
      "\u001b[34m#metrics {\"StartTime\": 1644346857.9404294, \"EndTime\": 1644346857.9404447, \"Dimensions\": {\"Algorithm\": \"Linear Learner\", \"Host\": \"algo-1\", \"Operation\": \"training\", \"epoch\": 1, \"model\": 26}, \"Metrics\": {\"train_absolute_loss_objective\": {\"sum\": 0.8943053531646729, \"count\": 1, \"min\": 0.8943053531646729, \"max\": 0.8943053531646729}}}\u001b[0m\n",
      "\u001b[34m#metrics {\"StartTime\": 1644346857.9404907, \"EndTime\": 1644346857.9405065, \"Dimensions\": {\"Algorithm\": \"Linear Learner\", \"Host\": \"algo-1\", \"Operation\": \"training\", \"epoch\": 1, \"model\": 27}, \"Metrics\": {\"train_absolute_loss_objective\": {\"sum\": 0.8936698532104492, \"count\": 1, \"min\": 0.8936698532104492, \"max\": 0.8936698532104492}}}\u001b[0m\n",
      "\u001b[34m#metrics {\"StartTime\": 1644346857.940552, \"EndTime\": 1644346857.940565, \"Dimensions\": {\"Algorithm\": \"Linear Learner\", \"Host\": \"algo-1\", \"Operation\": \"training\", \"epoch\": 1, \"model\": 28}, \"Metrics\": {\"train_absolute_loss_objective\": {\"sum\": 0.8717899990081787, \"count\": 1, \"min\": 0.8717899990081787, \"max\": 0.8717899990081787}}}\u001b[0m\n",
      "\u001b[34m#metrics {\"StartTime\": 1644346857.940614, \"EndTime\": 1644346857.9406288, \"Dimensions\": {\"Algorithm\": \"Linear Learner\", \"Host\": \"algo-1\", \"Operation\": \"training\", \"epoch\": 1, \"model\": 29}, \"Metrics\": {\"train_absolute_loss_objective\": {\"sum\": 0.8712964057922363, \"count\": 1, \"min\": 0.8712964057922363, \"max\": 0.8712964057922363}}}\u001b[0m\n",
      "\u001b[34m#metrics {\"StartTime\": 1644346857.9406736, \"EndTime\": 1644346857.9406877, \"Dimensions\": {\"Algorithm\": \"Linear Learner\", \"Host\": \"algo-1\", \"Operation\": \"training\", \"epoch\": 1, \"model\": 30}, \"Metrics\": {\"train_absolute_loss_objective\": {\"sum\": 0.9879096317291259, \"count\": 1, \"min\": 0.9879096317291259, \"max\": 0.9879096317291259}}}\u001b[0m\n",
      "\u001b[34m#metrics {\"StartTime\": 1644346857.9407306, \"EndTime\": 1644346857.9407432, \"Dimensions\": {\"Algorithm\": \"Linear Learner\", \"Host\": \"algo-1\", \"Operation\": \"training\", \"epoch\": 1, \"model\": 31}, \"Metrics\": {\"train_absolute_loss_objective\": {\"sum\": 0.9919034290313721, \"count\": 1, \"min\": 0.9919034290313721, \"max\": 0.9919034290313721}}}\u001b[0m\n",
      "\u001b[34m[02/08/2022 19:00:57 INFO 140697837016896] #quality_metric: host=algo-1, epoch=1, train absolute_loss_objective <loss>=0.8703967189788818\u001b[0m\n",
      "\u001b[34m[02/08/2022 19:00:57 INFO 140697837016896] #early_stopping_criteria_metric: host=algo-1, epoch=1, criteria=absolute_loss_objective, value=0.44205344438552857\u001b[0m\n",
      "\u001b[34m[02/08/2022 19:00:57 INFO 140697837016896] Epoch 1: Loss improved. Updating best model\u001b[0m\n",
      "\u001b[34m[02/08/2022 19:00:57 INFO 140697837016896] Saving model for epoch: 1\u001b[0m\n",
      "\u001b[34m[02/08/2022 19:00:57 INFO 140697837016896] Saved checkpoint to \"/tmp/tmp7su_xg85/mx-mod-0000.params\"\u001b[0m\n",
      "\u001b[34m[02/08/2022 19:00:57 INFO 140697837016896] #progress_metric: host=algo-1, completed 40.0 % of epochs\u001b[0m\n",
      "\u001b[34m#metrics {\"StartTime\": 1644346857.837499, \"EndTime\": 1644346857.954647, \"Dimensions\": {\"Algorithm\": \"Linear Learner\", \"Host\": \"algo-1\", \"Operation\": \"training\", \"epoch\": 1, \"Meta\": \"training_data_iter\"}, \"Metrics\": {\"Total Records Seen\": {\"sum\": 89.0, \"count\": 1, \"min\": 89, \"max\": 89}, \"Total Batches Seen\": {\"sum\": 19.0, \"count\": 1, \"min\": 19, \"max\": 19}, \"Max Records Seen Between Resets\": {\"sum\": 28.0, \"count\": 1, \"min\": 28, \"max\": 28}, \"Max Batches Seen Between Resets\": {\"sum\": 6.0, \"count\": 1, \"min\": 6, \"max\": 6}, \"Reset Count\": {\"sum\": 4.0, \"count\": 1, \"min\": 4, \"max\": 4}, \"Number of Records Since Last Reset\": {\"sum\": 28.0, \"count\": 1, \"min\": 28, \"max\": 28}, \"Number of Batches Since Last Reset\": {\"sum\": 6.0, \"count\": 1, \"min\": 6, \"max\": 6}}}\u001b[0m\n",
      "\u001b[34m[02/08/2022 19:00:57 INFO 140697837016896] #throughput_metric: host=algo-1, train throughput=238.72060623061319 records/second\u001b[0m\n",
      "\u001b[34m[2022-02-08 19:00:58.060] [tensorio] [info] epoch_stats={\"data_pipeline\": \"/opt/ml/input/data/train\", \"epoch\": 8, \"duration\": 105, \"num_examples\": 6, \"num_bytes\": 1344}\u001b[0m\n",
      "\u001b[34m#metrics {\"StartTime\": 1644346858.0607138, \"EndTime\": 1644346858.0607812, \"Dimensions\": {\"Algorithm\": \"Linear Learner\", \"Host\": \"algo-1\", \"Operation\": \"training\", \"epoch\": 2, \"model\": 0}, \"Metrics\": {\"train_absolute_loss_objective\": {\"sum\": 0.8313671207427978, \"count\": 1, \"min\": 0.8313671207427978, \"max\": 0.8313671207427978}}}\u001b[0m\n",
      "\u001b[34m#metrics {\"StartTime\": 1644346858.0608635, \"EndTime\": 1644346858.060877, \"Dimensions\": {\"Algorithm\": \"Linear Learner\", \"Host\": \"algo-1\", \"Operation\": \"training\", \"epoch\": 2, \"model\": 1}, \"Metrics\": {\"train_absolute_loss_objective\": {\"sum\": 0.8510507678985596, \"count\": 1, \"min\": 0.8510507678985596, \"max\": 0.8510507678985596}}}\u001b[0m\n",
      "\u001b[34m#metrics {\"StartTime\": 1644346858.0609238, \"EndTime\": 1644346858.060939, \"Dimensions\": {\"Algorithm\": \"Linear Learner\", \"Host\": \"algo-1\", \"Operation\": \"training\", \"epoch\": 2, \"model\": 2}, \"Metrics\": {\"train_absolute_loss_objective\": {\"sum\": 0.8337691402435303, \"count\": 1, \"min\": 0.8337691402435303, \"max\": 0.8337691402435303}}}\u001b[0m\n",
      "\u001b[34m#metrics {\"StartTime\": 1644346858.0609708, \"EndTime\": 1644346858.0609791, \"Dimensions\": {\"Algorithm\": \"Linear Learner\", \"Host\": \"algo-1\", \"Operation\": \"training\", \"epoch\": 2, \"model\": 3}, \"Metrics\": {\"train_absolute_loss_objective\": {\"sum\": 0.8500374412536621, \"count\": 1, \"min\": 0.8500374412536621, \"max\": 0.8500374412536621}}}\u001b[0m\n",
      "\u001b[34m#metrics {\"StartTime\": 1644346858.06102, \"EndTime\": 1644346858.0610325, \"Dimensions\": {\"Algorithm\": \"Linear Learner\", \"Host\": \"algo-1\", \"Operation\": \"training\", \"epoch\": 2, \"model\": 4}, \"Metrics\": {\"train_absolute_loss_objective\": {\"sum\": 0.37458659172058106, \"count\": 1, \"min\": 0.37458659172058106, \"max\": 0.37458659172058106}}}\u001b[0m\n",
      "\u001b[34m#metrics {\"StartTime\": 1644346858.0610769, \"EndTime\": 1644346858.0610912, \"Dimensions\": {\"Algorithm\": \"Linear Learner\", \"Host\": \"algo-1\", \"Operation\": \"training\", \"epoch\": 2, \"model\": 5}, \"Metrics\": {\"train_absolute_loss_objective\": {\"sum\": 0.33798186302185057, \"count\": 1, \"min\": 0.33798186302185057, \"max\": 0.33798186302185057}}}\u001b[0m\n",
      "\u001b[34m#metrics {\"StartTime\": 1644346858.0611358, \"EndTime\": 1644346858.0611503, \"Dimensions\": {\"Algorithm\": \"Linear Learner\", \"Host\": \"algo-1\", \"Operation\": \"training\", \"epoch\": 2, \"model\": 6}, \"Metrics\": {\"train_absolute_loss_objective\": {\"sum\": 0.3905070400238037, \"count\": 1, \"min\": 0.3905070400238037, \"max\": 0.3905070400238037}}}\u001b[0m\n",
      "\u001b[34m#metrics {\"StartTime\": 1644346858.0611992, \"EndTime\": 1644346858.0612128, \"Dimensions\": {\"Algorithm\": \"Linear Learner\", \"Host\": \"algo-1\", \"Operation\": \"training\", \"epoch\": 2, \"model\": 7}, \"Metrics\": {\"train_absolute_loss_objective\": {\"sum\": 0.37823005676269533, \"count\": 1, \"min\": 0.37823005676269533, \"max\": 0.37823005676269533}}}\u001b[0m\n",
      "\u001b[34m#metrics {\"StartTime\": 1644346858.0612614, \"EndTime\": 1644346858.0612767, \"Dimensions\": {\"Algorithm\": \"Linear Learner\", \"Host\": \"algo-1\", \"Operation\": \"training\", \"epoch\": 2, \"model\": 8}, \"Metrics\": {\"train_absolute_loss_objective\": {\"sum\": 0.8870425415039063, \"count\": 1, \"min\": 0.8870425415039063, \"max\": 0.8870425415039063}}}\u001b[0m\n",
      "\u001b[34m#metrics {\"StartTime\": 1644346858.061326, \"EndTime\": 1644346858.0613413, \"Dimensions\": {\"Algorithm\": \"Linear Learner\", \"Host\": \"algo-1\", \"Operation\": \"training\", \"epoch\": 2, \"model\": 9}, \"Metrics\": {\"train_absolute_loss_objective\": {\"sum\": 0.8192424488067627, \"count\": 1, \"min\": 0.8192424488067627, \"max\": 0.8192424488067627}}}\u001b[0m\n",
      "\u001b[34m#metrics {\"StartTime\": 1644346858.0613897, \"EndTime\": 1644346858.0614052, \"Dimensions\": {\"Algorithm\": \"Linear Learner\", \"Host\": \"algo-1\", \"Operation\": \"training\", \"epoch\": 2, \"model\": 10}, \"Metrics\": {\"train_absolute_loss_objective\": {\"sum\": 0.8260596752166748, \"count\": 1, \"min\": 0.8260596752166748, \"max\": 0.8260596752166748}}}\u001b[0m\n",
      "\u001b[34m#metrics {\"StartTime\": 1644346858.0614562, \"EndTime\": 1644346858.0614712, \"Dimensions\": {\"Algorithm\": \"Linear Learner\", \"Host\": \"algo-1\", \"Operation\": \"training\", \"epoch\": 2, \"model\": 11}, \"Metrics\": {\"train_absolute_loss_objective\": {\"sum\": 0.8111609935760498, \"count\": 1, \"min\": 0.8111609935760498, \"max\": 0.8111609935760498}}}\u001b[0m\n",
      "\u001b[34m#metrics {\"StartTime\": 1644346858.061522, \"EndTime\": 1644346858.0615373, \"Dimensions\": {\"Algorithm\": \"Linear Learner\", \"Host\": \"algo-1\", \"Operation\": \"training\", \"epoch\": 2, \"model\": 12}, \"Metrics\": {\"train_absolute_loss_objective\": {\"sum\": 0.3377229690551758, \"count\": 1, \"min\": 0.3377229690551758, \"max\": 0.3377229690551758}}}\u001b[0m\n",
      "\u001b[34m#metrics {\"StartTime\": 1644346858.0615869, \"EndTime\": 1644346858.0616033, \"Dimensions\": {\"Algorithm\": \"Linear Learner\", \"Host\": \"algo-1\", \"Operation\": \"training\", \"epoch\": 2, \"model\": 13}, \"Metrics\": {\"train_absolute_loss_objective\": {\"sum\": 0.3331770324707031, \"count\": 1, \"min\": 0.3331770324707031, \"max\": 0.3331770324707031}}}\u001b[0m\n",
      "\u001b[34m#metrics {\"StartTime\": 1644346858.061655, \"EndTime\": 1644346858.061671, \"Dimensions\": {\"Algorithm\": \"Linear Learner\", \"Host\": \"algo-1\", \"Operation\": \"training\", \"epoch\": 2, \"model\": 14}, \"Metrics\": {\"train_absolute_loss_objective\": {\"sum\": 0.3376355266571045, \"count\": 1, \"min\": 0.3376355266571045, \"max\": 0.3376355266571045}}}\u001b[0m\n",
      "\u001b[34m#metrics {\"StartTime\": 1644346858.0617216, \"EndTime\": 1644346858.0617728, \"Dimensions\": {\"Algorithm\": \"Linear Learner\", \"Host\": \"algo-1\", \"Operation\": \"training\", \"epoch\": 2, \"model\": 15}, \"Metrics\": {\"train_absolute_loss_objective\": {\"sum\": 0.375126576423645, \"count\": 1, \"min\": 0.375126576423645, \"max\": 0.375126576423645}}}\u001b[0m\n",
      "\u001b[34m#metrics {\"StartTime\": 1644346858.0618386, \"EndTime\": 1644346858.061856, \"Dimensions\": {\"Algorithm\": \"Linear Learner\", \"Host\": \"algo-1\", \"Operation\": \"training\", \"epoch\": 2, \"model\": 16}, \"Metrics\": {\"train_absolute_loss_objective\": {\"sum\": 0.7957597923278809, \"count\": 1, \"min\": 0.7957597923278809, \"max\": 0.7957597923278809}}}\u001b[0m\n",
      "\u001b[34m#metrics {\"StartTime\": 1644346858.0619092, \"EndTime\": 1644346858.0619256, \"Dimensions\": {\"Algorithm\": \"Linear Learner\", \"Host\": \"algo-1\", \"Operation\": \"training\", \"epoch\": 2, \"model\": 17}, \"Metrics\": {\"train_absolute_loss_objective\": {\"sum\": 0.8464819240570068, \"count\": 1, \"min\": 0.8464819240570068, \"max\": 0.8464819240570068}}}\u001b[0m\n",
      "\u001b[34m#metrics {\"StartTime\": 1644346858.0619838, \"EndTime\": 1644346858.0620008, \"Dimensions\": {\"Algorithm\": \"Linear Learner\", \"Host\": \"algo-1\", \"Operation\": \"training\", \"epoch\": 2, \"model\": 18}, \"Metrics\": {\"train_absolute_loss_objective\": {\"sum\": 0.8226158142089843, \"count\": 1, \"min\": 0.8226158142089843, \"max\": 0.8226158142089843}}}\u001b[0m\n",
      "\u001b[34m#metrics {\"StartTime\": 1644346858.062055, \"EndTime\": 1644346858.0620708, \"Dimensions\": {\"Algorithm\": \"Linear Learner\", \"Host\": \"algo-1\", \"Operation\": \"training\", \"epoch\": 2, \"model\": 19}, \"Metrics\": {\"train_absolute_loss_objective\": {\"sum\": 0.8197897720336914, \"count\": 1, \"min\": 0.8197897720336914, \"max\": 0.8197897720336914}}}\u001b[0m\n",
      "\u001b[34m#metrics {\"StartTime\": 1644346858.062125, \"EndTime\": 1644346858.0621424, \"Dimensions\": {\"Algorithm\": \"Linear Learner\", \"Host\": \"algo-1\", \"Operation\": \"training\", \"epoch\": 2, \"model\": 20}, \"Metrics\": {\"train_absolute_loss_objective\": {\"sum\": 0.6169647169113159, \"count\": 1, \"min\": 0.6169647169113159, \"max\": 0.6169647169113159}}}\u001b[0m\n",
      "\u001b[34m#metrics {\"StartTime\": 1644346858.0621963, \"EndTime\": 1644346858.0622115, \"Dimensions\": {\"Algorithm\": \"Linear Learner\", \"Host\": \"algo-1\", \"Operation\": \"training\", \"epoch\": 2, \"model\": 21}, \"Metrics\": {\"train_absolute_loss_objective\": {\"sum\": 0.6213550472259521, \"count\": 1, \"min\": 0.6213550472259521, \"max\": 0.6213550472259521}}}\u001b[0m\n",
      "\u001b[34m#metrics {\"StartTime\": 1644346858.0622725, \"EndTime\": 1644346858.0622897, \"Dimensions\": {\"Algorithm\": \"Linear Learner\", \"Host\": \"algo-1\", \"Operation\": \"training\", \"epoch\": 2, \"model\": 22}, \"Metrics\": {\"train_absolute_loss_objective\": {\"sum\": 0.4982465839385986, \"count\": 1, \"min\": 0.4982465839385986, \"max\": 0.4982465839385986}}}\u001b[0m\n",
      "\u001b[34m#metrics {\"StartTime\": 1644346858.0623436, \"EndTime\": 1644346858.062359, \"Dimensions\": {\"Algorithm\": \"Linear Learner\", \"Host\": \"algo-1\", \"Operation\": \"training\", \"epoch\": 2, \"model\": 23}, \"Metrics\": {\"train_absolute_loss_objective\": {\"sum\": 0.6263257074356079, \"count\": 1, \"min\": 0.6263257074356079, \"max\": 0.6263257074356079}}}\u001b[0m\n",
      "\u001b[34m#metrics {\"StartTime\": 1644346858.0624154, \"EndTime\": 1644346858.0624266, \"Dimensions\": {\"Algorithm\": \"Linear Learner\", \"Host\": \"algo-1\", \"Operation\": \"training\", \"epoch\": 2, \"model\": 24}, \"Metrics\": {\"train_absolute_loss_objective\": {\"sum\": 0.8775496673583985, \"count\": 1, \"min\": 0.8775496673583985, \"max\": 0.8775496673583985}}}\u001b[0m\n",
      "\u001b[34m#metrics {\"StartTime\": 1644346858.0624819, \"EndTime\": 1644346858.0624986, \"Dimensions\": {\"Algorithm\": \"Linear Learner\", \"Host\": \"algo-1\", \"Operation\": \"training\", \"epoch\": 2, \"model\": 25}, \"Metrics\": {\"train_absolute_loss_objective\": {\"sum\": 0.872752981185913, \"count\": 1, \"min\": 0.872752981185913, \"max\": 0.872752981185913}}}\u001b[0m\n",
      "\u001b[34m#metrics {\"StartTime\": 1644346858.0625598, \"EndTime\": 1644346858.0625758, \"Dimensions\": {\"Algorithm\": \"Linear Learner\", \"Host\": \"algo-1\", \"Operation\": \"training\", \"epoch\": 2, \"model\": 26}, \"Metrics\": {\"train_absolute_loss_objective\": {\"sum\": 0.8718064498901367, \"count\": 1, \"min\": 0.8718064498901367, \"max\": 0.8718064498901367}}}\u001b[0m\n",
      "\u001b[34m#metrics {\"StartTime\": 1644346858.0626342, \"EndTime\": 1644346858.0626495, \"Dimensions\": {\"Algorithm\": \"Linear Learner\", \"Host\": \"algo-1\", \"Operation\": \"training\", \"epoch\": 2, \"model\": 27}, \"Metrics\": {\"train_absolute_loss_objective\": {\"sum\": 0.8807081699371337, \"count\": 1, \"min\": 0.8807081699371337, \"max\": 0.8807081699371337}}}\u001b[0m\n",
      "\u001b[34m#metrics {\"StartTime\": 1644346858.0627077, \"EndTime\": 1644346858.0627284, \"Dimensions\": {\"Algorithm\": \"Linear Learner\", \"Host\": \"algo-1\", \"Operation\": \"training\", \"epoch\": 2, \"model\": 28}, \"Metrics\": {\"train_absolute_loss_objective\": {\"sum\": 0.9262052249908447, \"count\": 1, \"min\": 0.9262052249908447, \"max\": 0.9262052249908447}}}\u001b[0m\n",
      "\u001b[34m#metrics {\"StartTime\": 1644346858.062772, \"EndTime\": 1644346858.0627875, \"Dimensions\": {\"Algorithm\": \"Linear Learner\", \"Host\": \"algo-1\", \"Operation\": \"training\", \"epoch\": 2, \"model\": 29}, \"Metrics\": {\"train_absolute_loss_objective\": {\"sum\": 0.9276401233673096, \"count\": 1, \"min\": 0.9276401233673096, \"max\": 0.9276401233673096}}}\u001b[0m\n",
      "\u001b[34m#metrics {\"StartTime\": 1644346858.0628386, \"EndTime\": 1644346858.062855, \"Dimensions\": {\"Algorithm\": \"Linear Learner\", \"Host\": \"algo-1\", \"Operation\": \"training\", \"epoch\": 2, \"model\": 30}, \"Metrics\": {\"train_absolute_loss_objective\": {\"sum\": 1.0761988830566407, \"count\": 1, \"min\": 1.0761988830566407, \"max\": 1.0761988830566407}}}\u001b[0m\n",
      "\u001b[34m#metrics {\"StartTime\": 1644346858.0629058, \"EndTime\": 1644346858.0629215, \"Dimensions\": {\"Algorithm\": \"Linear Learner\", \"Host\": \"algo-1\", \"Operation\": \"training\", \"epoch\": 2, \"model\": 31}, \"Metrics\": {\"train_absolute_loss_objective\": {\"sum\": 1.0674204635620117, \"count\": 1, \"min\": 1.0674204635620117, \"max\": 1.0674204635620117}}}\u001b[0m\n",
      "\u001b[34m[02/08/2022 19:00:58 INFO 140697837016896] #quality_metric: host=algo-1, epoch=2, train absolute_loss_objective <loss>=0.8313671207427978\u001b[0m\n",
      "\u001b[34m[02/08/2022 19:00:58 INFO 140697837016896] #early_stopping_criteria_metric: host=algo-1, epoch=2, criteria=absolute_loss_objective, value=0.3331770324707031\u001b[0m\n",
      "\u001b[34m[02/08/2022 19:00:58 INFO 140697837016896] Epoch 2: Loss improved. Updating best model\u001b[0m\n",
      "\u001b[34m[02/08/2022 19:00:58 INFO 140697837016896] Saving model for epoch: 2\u001b[0m\n",
      "\u001b[34m[02/08/2022 19:00:58 INFO 140697837016896] Saved checkpoint to \"/tmp/tmpqg50b3ff/mx-mod-0000.params\"\u001b[0m\n",
      "\u001b[34m[02/08/2022 19:00:58 INFO 140697837016896] #progress_metric: host=algo-1, completed 60.0 % of epochs\u001b[0m\n",
      "\u001b[34m#metrics {\"StartTime\": 1644346857.954936, \"EndTime\": 1644346858.0709367, \"Dimensions\": {\"Algorithm\": \"Linear Learner\", \"Host\": \"algo-1\", \"Operation\": \"training\", \"epoch\": 2, \"Meta\": \"training_data_iter\"}, \"Metrics\": {\"Total Records Seen\": {\"sum\": 117.0, \"count\": 1, \"min\": 117, \"max\": 117}, \"Total Batches Seen\": {\"sum\": 25.0, \"count\": 1, \"min\": 25, \"max\": 25}, \"Max Records Seen Between Resets\": {\"sum\": 28.0, \"count\": 1, \"min\": 28, \"max\": 28}, \"Max Batches Seen Between Resets\": {\"sum\": 6.0, \"count\": 1, \"min\": 6, \"max\": 6}, \"Reset Count\": {\"sum\": 5.0, \"count\": 1, \"min\": 5, \"max\": 5}, \"Number of Records Since Last Reset\": {\"sum\": 28.0, \"count\": 1, \"min\": 28, \"max\": 28}, \"Number of Batches Since Last Reset\": {\"sum\": 6.0, \"count\": 1, \"min\": 6, \"max\": 6}}}\u001b[0m\n",
      "\u001b[34m[02/08/2022 19:00:58 INFO 140697837016896] #throughput_metric: host=algo-1, train throughput=241.10540103306974 records/second\u001b[0m\n",
      "\u001b[34m[2022-02-08 19:00:58.164] [tensorio] [info] epoch_stats={\"data_pipeline\": \"/opt/ml/input/data/train\", \"epoch\": 10, \"duration\": 93, \"num_examples\": 6, \"num_bytes\": 1344}\u001b[0m\n",
      "\u001b[34m#metrics {\"StartTime\": 1644346858.1645827, \"EndTime\": 1644346858.1646566, \"Dimensions\": {\"Algorithm\": \"Linear Learner\", \"Host\": \"algo-1\", \"Operation\": \"training\", \"epoch\": 3, \"model\": 0}, \"Metrics\": {\"train_absolute_loss_objective\": {\"sum\": 0.7926880550384522, \"count\": 1, \"min\": 0.7926880550384522, \"max\": 0.7926880550384522}}}\u001b[0m\n",
      "\u001b[34m#metrics {\"StartTime\": 1644346858.164729, \"EndTime\": 1644346858.1647422, \"Dimensions\": {\"Algorithm\": \"Linear Learner\", \"Host\": \"algo-1\", \"Operation\": \"training\", \"epoch\": 3, \"model\": 1}, \"Metrics\": {\"train_absolute_loss_objective\": {\"sum\": 0.8119810199737549, \"count\": 1, \"min\": 0.8119810199737549, \"max\": 0.8119810199737549}}}\u001b[0m\n",
      "\u001b[34m#metrics {\"StartTime\": 1644346858.164788, \"EndTime\": 1644346858.1648018, \"Dimensions\": {\"Algorithm\": \"Linear Learner\", \"Host\": \"algo-1\", \"Operation\": \"training\", \"epoch\": 3, \"model\": 2}, \"Metrics\": {\"train_absolute_loss_objective\": {\"sum\": 0.7950900745391846, \"count\": 1, \"min\": 0.7950900745391846, \"max\": 0.7950900745391846}}}\u001b[0m\n",
      "\u001b[34m#metrics {\"StartTime\": 1644346858.1648552, \"EndTime\": 1644346858.1648698, \"Dimensions\": {\"Algorithm\": \"Linear Learner\", \"Host\": \"algo-1\", \"Operation\": \"training\", \"epoch\": 3, \"model\": 3}, \"Metrics\": {\"train_absolute_loss_objective\": {\"sum\": 0.8109676647186279, \"count\": 1, \"min\": 0.8109676647186279, \"max\": 0.8109676647186279}}}\u001b[0m\n",
      "\u001b[34m#metrics {\"StartTime\": 1644346858.1649237, \"EndTime\": 1644346858.1649387, \"Dimensions\": {\"Algorithm\": \"Linear Learner\", \"Host\": \"algo-1\", \"Operation\": \"training\", \"epoch\": 3, \"model\": 4}, \"Metrics\": {\"train_absolute_loss_objective\": {\"sum\": 0.31993813514709474, \"count\": 1, \"min\": 0.31993813514709474, \"max\": 0.31993813514709474}}}\u001b[0m\n",
      "\u001b[34m#metrics {\"StartTime\": 1644346858.164992, \"EndTime\": 1644346858.1650074, \"Dimensions\": {\"Algorithm\": \"Linear Learner\", \"Host\": \"algo-1\", \"Operation\": \"training\", \"epoch\": 3, \"model\": 5}, \"Metrics\": {\"train_absolute_loss_objective\": {\"sum\": 0.4133040428161621, \"count\": 1, \"min\": 0.4133040428161621, \"max\": 0.4133040428161621}}}\u001b[0m\n",
      "\u001b[34m#metrics {\"StartTime\": 1644346858.1650662, \"EndTime\": 1644346858.1650832, \"Dimensions\": {\"Algorithm\": \"Linear Learner\", \"Host\": \"algo-1\", \"Operation\": \"training\", \"epoch\": 3, \"model\": 6}, \"Metrics\": {\"train_absolute_loss_objective\": {\"sum\": 0.24865816593170165, \"count\": 1, \"min\": 0.24865816593170165, \"max\": 0.24865816593170165}}}\u001b[0m\n",
      "\u001b[34m#metrics {\"StartTime\": 1644346858.1651437, \"EndTime\": 1644346858.16516, \"Dimensions\": {\"Algorithm\": \"Linear Learner\", \"Host\": \"algo-1\", \"Operation\": \"training\", \"epoch\": 3, \"model\": 7}, \"Metrics\": {\"train_absolute_loss_objective\": {\"sum\": 0.2916291618347168, \"count\": 1, \"min\": 0.2916291618347168, \"max\": 0.2916291618347168}}}\u001b[0m\n",
      "\u001b[34m#metrics {\"StartTime\": 1644346858.16522, \"EndTime\": 1644346858.1652353, \"Dimensions\": {\"Algorithm\": \"Linear Learner\", \"Host\": \"algo-1\", \"Operation\": \"training\", \"epoch\": 3, \"model\": 8}, \"Metrics\": {\"train_absolute_loss_objective\": {\"sum\": 0.8483654022216797, \"count\": 1, \"min\": 0.8483654022216797, \"max\": 0.8483654022216797}}}\u001b[0m\n",
      "\u001b[34m#metrics {\"StartTime\": 1644346858.1652865, \"EndTime\": 1644346858.1653018, \"Dimensions\": {\"Algorithm\": \"Linear Learner\", \"Host\": \"algo-1\", \"Operation\": \"training\", \"epoch\": 3, \"model\": 9}, \"Metrics\": {\"train_absolute_loss_objective\": {\"sum\": 0.7801756286621093, \"count\": 1, \"min\": 0.7801756286621093, \"max\": 0.7801756286621093}}}\u001b[0m\n",
      "\u001b[34m#metrics {\"StartTime\": 1644346858.165349, \"EndTime\": 1644346858.1653633, \"Dimensions\": {\"Algorithm\": \"Linear Learner\", \"Host\": \"algo-1\", \"Operation\": \"training\", \"epoch\": 3, \"model\": 10}, \"Metrics\": {\"train_absolute_loss_objective\": {\"sum\": 0.7873834228515625, \"count\": 1, \"min\": 0.7873834228515625, \"max\": 0.7873834228515625}}}\u001b[0m\n",
      "\u001b[34m#metrics {\"StartTime\": 1644346858.1654098, \"EndTime\": 1644346858.1654236, \"Dimensions\": {\"Algorithm\": \"Linear Learner\", \"Host\": \"algo-1\", \"Operation\": \"training\", \"epoch\": 3, \"model\": 11}, \"Metrics\": {\"train_absolute_loss_objective\": {\"sum\": 0.7720943260192871, \"count\": 1, \"min\": 0.7720943260192871, \"max\": 0.7720943260192871}}}\u001b[0m\n",
      "\u001b[34m#metrics {\"StartTime\": 1644346858.1654716, \"EndTime\": 1644346858.1654866, \"Dimensions\": {\"Algorithm\": \"Linear Learner\", \"Host\": \"algo-1\", \"Operation\": \"training\", \"epoch\": 3, \"model\": 12}, \"Metrics\": {\"train_absolute_loss_objective\": {\"sum\": 0.40307246208190917, \"count\": 1, \"min\": 0.40307246208190917, \"max\": 0.40307246208190917}}}\u001b[0m\n",
      "\u001b[34m#metrics {\"StartTime\": 1644346858.165537, \"EndTime\": 1644346858.1655521, \"Dimensions\": {\"Algorithm\": \"Linear Learner\", \"Host\": \"algo-1\", \"Operation\": \"training\", \"epoch\": 3, \"model\": 13}, \"Metrics\": {\"train_absolute_loss_objective\": {\"sum\": 0.3118927621841431, \"count\": 1, \"min\": 0.3118927621841431, \"max\": 0.3118927621841431}}}\u001b[0m\n",
      "\u001b[34m#metrics {\"StartTime\": 1644346858.1656013, \"EndTime\": 1644346858.1656163, \"Dimensions\": {\"Algorithm\": \"Linear Learner\", \"Host\": \"algo-1\", \"Operation\": \"training\", \"epoch\": 3, \"model\": 14}, \"Metrics\": {\"train_absolute_loss_objective\": {\"sum\": 0.40386435985565183, \"count\": 1, \"min\": 0.40386435985565183, \"max\": 0.40386435985565183}}}\u001b[0m\n",
      "\u001b[34m#metrics {\"StartTime\": 1644346858.165677, \"EndTime\": 1644346858.165694, \"Dimensions\": {\"Algorithm\": \"Linear Learner\", \"Host\": \"algo-1\", \"Operation\": \"training\", \"epoch\": 3, \"model\": 15}, \"Metrics\": {\"train_absolute_loss_objective\": {\"sum\": 0.29798221111297607, \"count\": 1, \"min\": 0.29798221111297607, \"max\": 0.29798221111297607}}}\u001b[0m\n",
      "\u001b[34m#metrics {\"StartTime\": 1644346858.1657467, \"EndTime\": 1644346858.1657636, \"Dimensions\": {\"Algorithm\": \"Linear Learner\", \"Host\": \"algo-1\", \"Operation\": \"training\", \"epoch\": 3, \"model\": 16}, \"Metrics\": {\"train_absolute_loss_objective\": {\"sum\": 0.757453374862671, \"count\": 1, \"min\": 0.757453374862671, \"max\": 0.757453374862671}}}\u001b[0m\n",
      "\u001b[34m#metrics {\"StartTime\": 1644346858.1658244, \"EndTime\": 1644346858.1658428, \"Dimensions\": {\"Algorithm\": \"Linear Learner\", \"Host\": \"algo-1\", \"Operation\": \"training\", \"epoch\": 3, \"model\": 17}, \"Metrics\": {\"train_absolute_loss_objective\": {\"sum\": 0.8076816082000733, \"count\": 1, \"min\": 0.8076816082000733, \"max\": 0.8076816082000733}}}\u001b[0m\n",
      "\u001b[34m#metrics {\"StartTime\": 1644346858.1659548, \"EndTime\": 1644346858.1659737, \"Dimensions\": {\"Algorithm\": \"Linear Learner\", \"Host\": \"algo-1\", \"Operation\": \"training\", \"epoch\": 3, \"model\": 18}, \"Metrics\": {\"train_absolute_loss_objective\": {\"sum\": 0.7842506122589111, \"count\": 1, \"min\": 0.7842506122589111, \"max\": 0.7842506122589111}}}\u001b[0m\n",
      "\u001b[34m#metrics {\"StartTime\": 1644346858.1660345, \"EndTime\": 1644346858.1660502, \"Dimensions\": {\"Algorithm\": \"Linear Learner\", \"Host\": \"algo-1\", \"Operation\": \"training\", \"epoch\": 3, \"model\": 19}, \"Metrics\": {\"train_absolute_loss_objective\": {\"sum\": 0.7810434246063233, \"count\": 1, \"min\": 0.7810434246063233, \"max\": 0.7810434246063233}}}\u001b[0m\n",
      "\u001b[34m#metrics {\"StartTime\": 1644346858.1661034, \"EndTime\": 1644346858.1661203, \"Dimensions\": {\"Algorithm\": \"Linear Learner\", \"Host\": \"algo-1\", \"Operation\": \"training\", \"epoch\": 3, \"model\": 20}, \"Metrics\": {\"train_absolute_loss_objective\": {\"sum\": 0.34959084510803223, \"count\": 1, \"min\": 0.34959084510803223, \"max\": 0.34959084510803223}}}\u001b[0m\n",
      "\u001b[34m#metrics {\"StartTime\": 1644346858.1661649, \"EndTime\": 1644346858.166181, \"Dimensions\": {\"Algorithm\": \"Linear Learner\", \"Host\": \"algo-1\", \"Operation\": \"training\", \"epoch\": 3, \"model\": 21}, \"Metrics\": {\"train_absolute_loss_objective\": {\"sum\": 0.34726587295532224, \"count\": 1, \"min\": 0.34726587295532224, \"max\": 0.34726587295532224}}}\u001b[0m\n",
      "\u001b[34m#metrics {\"StartTime\": 1644346858.1662223, \"EndTime\": 1644346858.166237, \"Dimensions\": {\"Algorithm\": \"Linear Learner\", \"Host\": \"algo-1\", \"Operation\": \"training\", \"epoch\": 3, \"model\": 22}, \"Metrics\": {\"train_absolute_loss_objective\": {\"sum\": 0.33399044036865233, \"count\": 1, \"min\": 0.33399044036865233, \"max\": 0.33399044036865233}}}\u001b[0m\n",
      "\u001b[34m#metrics {\"StartTime\": 1644346858.1662874, \"EndTime\": 1644346858.1663034, \"Dimensions\": {\"Algorithm\": \"Linear Learner\", \"Host\": \"algo-1\", \"Operation\": \"training\", \"epoch\": 3, \"model\": 23}, \"Metrics\": {\"train_absolute_loss_objective\": {\"sum\": 0.33182543754577637, \"count\": 1, \"min\": 0.33182543754577637, \"max\": 0.33182543754577637}}}\u001b[0m\n",
      "\u001b[34m#metrics {\"StartTime\": 1644346858.1663485, \"EndTime\": 1644346858.1663628, \"Dimensions\": {\"Algorithm\": \"Linear Learner\", \"Host\": \"algo-1\", \"Operation\": \"training\", \"epoch\": 3, \"model\": 24}, \"Metrics\": {\"train_absolute_loss_objective\": {\"sum\": 0.8703939914703369, \"count\": 1, \"min\": 0.8703939914703369, \"max\": 0.8703939914703369}}}\u001b[0m\n",
      "\u001b[34m#metrics {\"StartTime\": 1644346858.1664145, \"EndTime\": 1644346858.166431, \"Dimensions\": {\"Algorithm\": \"Linear Learner\", \"Host\": \"algo-1\", \"Operation\": \"training\", \"epoch\": 3, \"model\": 25}, \"Metrics\": {\"train_absolute_loss_objective\": {\"sum\": 0.8510225963592529, \"count\": 1, \"min\": 0.8510225963592529, \"max\": 0.8510225963592529}}}\u001b[0m\n",
      "\u001b[34m#metrics {\"StartTime\": 1644346858.1664827, \"EndTime\": 1644346858.1664994, \"Dimensions\": {\"Algorithm\": \"Linear Learner\", \"Host\": \"algo-1\", \"Operation\": \"training\", \"epoch\": 3, \"model\": 26}, \"Metrics\": {\"train_absolute_loss_objective\": {\"sum\": 0.8594279384613037, \"count\": 1, \"min\": 0.8594279384613037, \"max\": 0.8594279384613037}}}\u001b[0m\n",
      "\u001b[34m#metrics {\"StartTime\": 1644346858.1665611, \"EndTime\": 1644346858.1665783, \"Dimensions\": {\"Algorithm\": \"Linear Learner\", \"Host\": \"algo-1\", \"Operation\": \"training\", \"epoch\": 3, \"model\": 27}, \"Metrics\": {\"train_absolute_loss_objective\": {\"sum\": 0.8638040828704834, \"count\": 1, \"min\": 0.8638040828704834, \"max\": 0.8638040828704834}}}\u001b[0m\n",
      "\u001b[34m#metrics {\"StartTime\": 1644346858.1666353, \"EndTime\": 1644346858.1666508, \"Dimensions\": {\"Algorithm\": \"Linear Learner\", \"Host\": \"algo-1\", \"Operation\": \"training\", \"epoch\": 3, \"model\": 28}, \"Metrics\": {\"train_absolute_loss_objective\": {\"sum\": 0.8936945247650147, \"count\": 1, \"min\": 0.8936945247650147, \"max\": 0.8936945247650147}}}\u001b[0m\n",
      "\u001b[34m#metrics {\"StartTime\": 1644346858.166706, \"EndTime\": 1644346858.166723, \"Dimensions\": {\"Algorithm\": \"Linear Learner\", \"Host\": \"algo-1\", \"Operation\": \"training\", \"epoch\": 3, \"model\": 29}, \"Metrics\": {\"train_absolute_loss_objective\": {\"sum\": 0.8946862125396728, \"count\": 1, \"min\": 0.8946862125396728, \"max\": 0.8946862125396728}}}\u001b[0m\n",
      "\u001b[34m#metrics {\"StartTime\": 1644346858.166783, \"EndTime\": 1644346858.1667995, \"Dimensions\": {\"Algorithm\": \"Linear Learner\", \"Host\": \"algo-1\", \"Operation\": \"training\", \"epoch\": 3, \"model\": 30}, \"Metrics\": {\"train_absolute_loss_objective\": {\"sum\": 1.0837749671936034, \"count\": 1, \"min\": 1.0837749671936034, \"max\": 1.0837749671936034}}}\u001b[0m\n",
      "\u001b[34m#metrics {\"StartTime\": 1644346858.1668363, \"EndTime\": 1644346858.166845, \"Dimensions\": {\"Algorithm\": \"Linear Learner\", \"Host\": \"algo-1\", \"Operation\": \"training\", \"epoch\": 3, \"model\": 31}, \"Metrics\": {\"train_absolute_loss_objective\": {\"sum\": 1.0972627449035643, \"count\": 1, \"min\": 1.0972627449035643, \"max\": 1.0972627449035643}}}\u001b[0m\n",
      "\u001b[34m[02/08/2022 19:00:58 INFO 140697837016896] #quality_metric: host=algo-1, epoch=3, train absolute_loss_objective <loss>=0.7926880550384522\u001b[0m\n",
      "\u001b[34m[02/08/2022 19:00:58 INFO 140697837016896] #early_stopping_criteria_metric: host=algo-1, epoch=3, criteria=absolute_loss_objective, value=0.24865816593170165\u001b[0m\n",
      "\u001b[34m[02/08/2022 19:00:58 INFO 140697837016896] Epoch 3: Loss improved. Updating best model\u001b[0m\n",
      "\u001b[34m[02/08/2022 19:00:58 INFO 140697837016896] Saving model for epoch: 3\u001b[0m\n",
      "\u001b[34m[02/08/2022 19:00:58 INFO 140697837016896] Saved checkpoint to \"/tmp/tmphav6hnnz/mx-mod-0000.params\"\u001b[0m\n",
      "\u001b[34m[02/08/2022 19:00:58 INFO 140697837016896] #progress_metric: host=algo-1, completed 80.0 % of epochs\u001b[0m\n",
      "\u001b[34m#metrics {\"StartTime\": 1644346858.0712252, \"EndTime\": 1644346858.1750503, \"Dimensions\": {\"Algorithm\": \"Linear Learner\", \"Host\": \"algo-1\", \"Operation\": \"training\", \"epoch\": 3, \"Meta\": \"training_data_iter\"}, \"Metrics\": {\"Total Records Seen\": {\"sum\": 145.0, \"count\": 1, \"min\": 145, \"max\": 145}, \"Total Batches Seen\": {\"sum\": 31.0, \"count\": 1, \"min\": 31, \"max\": 31}, \"Max Records Seen Between Resets\": {\"sum\": 28.0, \"count\": 1, \"min\": 28, \"max\": 28}, \"Max Batches Seen Between Resets\": {\"sum\": 6.0, \"count\": 1, \"min\": 6, \"max\": 6}, \"Reset Count\": {\"sum\": 6.0, \"count\": 1, \"min\": 6, \"max\": 6}, \"Number of Records Since Last Reset\": {\"sum\": 28.0, \"count\": 1, \"min\": 28, \"max\": 28}, \"Number of Batches Since Last Reset\": {\"sum\": 6.0, \"count\": 1, \"min\": 6, \"max\": 6}}}\u001b[0m\n",
      "\u001b[34m[02/08/2022 19:00:58 INFO 140697837016896] #throughput_metric: host=algo-1, train throughput=269.3441461937875 records/second\u001b[0m\n",
      "\u001b[34m[2022-02-08 19:00:58.277] [tensorio] [info] epoch_stats={\"data_pipeline\": \"/opt/ml/input/data/train\", \"epoch\": 12, \"duration\": 101, \"num_examples\": 6, \"num_bytes\": 1344}\u001b[0m\n",
      "\u001b[34m#metrics {\"StartTime\": 1644346858.2771819, \"EndTime\": 1644346858.2772639, \"Dimensions\": {\"Algorithm\": \"Linear Learner\", \"Host\": \"algo-1\", \"Operation\": \"training\", \"epoch\": 4, \"model\": 0}, \"Metrics\": {\"train_absolute_loss_objective\": {\"sum\": 0.757502326965332, \"count\": 1, \"min\": 0.757502326965332, \"max\": 0.757502326965332}}}\u001b[0m\n",
      "\u001b[34m#metrics {\"StartTime\": 1644346858.2773588, \"EndTime\": 1644346858.277378, \"Dimensions\": {\"Algorithm\": \"Linear Learner\", \"Host\": \"algo-1\", \"Operation\": \"training\", \"epoch\": 4, \"model\": 1}, \"Metrics\": {\"train_absolute_loss_objective\": {\"sum\": 0.7761252880096435, \"count\": 1, \"min\": 0.7761252880096435, \"max\": 0.7761252880096435}}}\u001b[0m\n",
      "\u001b[34m#metrics {\"StartTime\": 1644346858.2774339, \"EndTime\": 1644346858.2774506, \"Dimensions\": {\"Algorithm\": \"Linear Learner\", \"Host\": \"algo-1\", \"Operation\": \"training\", \"epoch\": 4, \"model\": 2}, \"Metrics\": {\"train_absolute_loss_objective\": {\"sum\": 0.7598567485809327, \"count\": 1, \"min\": 0.7598567485809327, \"max\": 0.7598567485809327}}}\u001b[0m\n",
      "\u001b[34m#metrics {\"StartTime\": 1644346858.2775056, \"EndTime\": 1644346858.2775223, \"Dimensions\": {\"Algorithm\": \"Linear Learner\", \"Host\": \"algo-1\", \"Operation\": \"training\", \"epoch\": 4, \"model\": 3}, \"Metrics\": {\"train_absolute_loss_objective\": {\"sum\": 0.7751320457458496, \"count\": 1, \"min\": 0.7751320457458496, \"max\": 0.7751320457458496}}}\u001b[0m\n",
      "\u001b[34m#metrics {\"StartTime\": 1644346858.2775726, \"EndTime\": 1644346858.277589, \"Dimensions\": {\"Algorithm\": \"Linear Learner\", \"Host\": \"algo-1\", \"Operation\": \"training\", \"epoch\": 4, \"model\": 4}, \"Metrics\": {\"train_absolute_loss_objective\": {\"sum\": 0.2532609724998474, \"count\": 1, \"min\": 0.2532609724998474, \"max\": 0.2532609724998474}}}\u001b[0m\n",
      "\u001b[34m#metrics {\"StartTime\": 1644346858.2776494, \"EndTime\": 1644346858.2776663, \"Dimensions\": {\"Algorithm\": \"Linear Learner\", \"Host\": \"algo-1\", \"Operation\": \"training\", \"epoch\": 4, \"model\": 5}, \"Metrics\": {\"train_absolute_loss_objective\": {\"sum\": 0.42152243614196777, \"count\": 1, \"min\": 0.42152243614196777, \"max\": 0.42152243614196777}}}\u001b[0m\n",
      "\u001b[34m#metrics {\"StartTime\": 1644346858.2777214, \"EndTime\": 1644346858.277738, \"Dimensions\": {\"Algorithm\": \"Linear Learner\", \"Host\": \"algo-1\", \"Operation\": \"training\", \"epoch\": 4, \"model\": 6}, \"Metrics\": {\"train_absolute_loss_objective\": {\"sum\": 0.2238445448875427, \"count\": 1, \"min\": 0.2238445448875427, \"max\": 0.2238445448875427}}}\u001b[0m\n",
      "\u001b[34m#metrics {\"StartTime\": 1644346858.2777913, \"EndTime\": 1644346858.2778075, \"Dimensions\": {\"Algorithm\": \"Linear Learner\", \"Host\": \"algo-1\", \"Operation\": \"training\", \"epoch\": 4, \"model\": 7}, \"Metrics\": {\"train_absolute_loss_objective\": {\"sum\": 0.2941553926467895, \"count\": 1, \"min\": 0.2941553926467895, \"max\": 0.2941553926467895}}}\u001b[0m\n",
      "\u001b[34m#metrics {\"StartTime\": 1644346858.2778695, \"EndTime\": 1644346858.2778866, \"Dimensions\": {\"Algorithm\": \"Linear Learner\", \"Host\": \"algo-1\", \"Operation\": \"training\", \"epoch\": 4, \"model\": 8}, \"Metrics\": {\"train_absolute_loss_objective\": {\"sum\": 0.8120798301696778, \"count\": 1, \"min\": 0.8120798301696778, \"max\": 0.8120798301696778}}}\u001b[0m\n",
      "\u001b[34m#metrics {\"StartTime\": 1644346858.2779422, \"EndTime\": 1644346858.2779572, \"Dimensions\": {\"Algorithm\": \"Linear Learner\", \"Host\": \"algo-1\", \"Operation\": \"training\", \"epoch\": 4, \"model\": 9}, \"Metrics\": {\"train_absolute_loss_objective\": {\"sum\": 0.7449547290802002, \"count\": 1, \"min\": 0.7449547290802002, \"max\": 0.7449547290802002}}}\u001b[0m\n",
      "\u001b[34m#metrics {\"StartTime\": 1644346858.278008, \"EndTime\": 1644346858.2780252, \"Dimensions\": {\"Algorithm\": \"Linear Learner\", \"Host\": \"algo-1\", \"Operation\": \"training\", \"epoch\": 4, \"model\": 10}, \"Metrics\": {\"train_absolute_loss_objective\": {\"sum\": 0.7523071670532226, \"count\": 1, \"min\": 0.7523071670532226, \"max\": 0.7523071670532226}}}\u001b[0m\n",
      "\u001b[34m#metrics {\"StartTime\": 1644346858.2780774, \"EndTime\": 1644346858.278093, \"Dimensions\": {\"Algorithm\": \"Linear Learner\", \"Host\": \"algo-1\", \"Operation\": \"training\", \"epoch\": 4, \"model\": 11}, \"Metrics\": {\"train_absolute_loss_objective\": {\"sum\": 0.737033634185791, \"count\": 1, \"min\": 0.737033634185791, \"max\": 0.737033634185791}}}\u001b[0m\n",
      "\u001b[34m#metrics {\"StartTime\": 1644346858.278145, \"EndTime\": 1644346858.2781606, \"Dimensions\": {\"Algorithm\": \"Linear Learner\", \"Host\": \"algo-1\", \"Operation\": \"training\", \"epoch\": 4, \"model\": 12}, \"Metrics\": {\"train_absolute_loss_objective\": {\"sum\": 0.41971033573150635, \"count\": 1, \"min\": 0.41971033573150635, \"max\": 0.41971033573150635}}}\u001b[0m\n",
      "\u001b[34m#metrics {\"StartTime\": 1644346858.278214, \"EndTime\": 1644346858.2782295, \"Dimensions\": {\"Algorithm\": \"Linear Learner\", \"Host\": \"algo-1\", \"Operation\": \"training\", \"epoch\": 4, \"model\": 13}, \"Metrics\": {\"train_absolute_loss_objective\": {\"sum\": 0.29570865631103516, \"count\": 1, \"min\": 0.29570865631103516, \"max\": 0.29570865631103516}}}\u001b[0m\n",
      "\u001b[34m#metrics {\"StartTime\": 1644346858.2782922, \"EndTime\": 1644346858.278309, \"Dimensions\": {\"Algorithm\": \"Linear Learner\", \"Host\": \"algo-1\", \"Operation\": \"training\", \"epoch\": 4, \"model\": 14}, \"Metrics\": {\"train_absolute_loss_objective\": {\"sum\": 0.41981921672821043, \"count\": 1, \"min\": 0.41981921672821043, \"max\": 0.41981921672821043}}}\u001b[0m\n",
      "\u001b[34m#metrics {\"StartTime\": 1644346858.2783735, \"EndTime\": 1644346858.2783892, \"Dimensions\": {\"Algorithm\": \"Linear Learner\", \"Host\": \"algo-1\", \"Operation\": \"training\", \"epoch\": 4, \"model\": 15}, \"Metrics\": {\"train_absolute_loss_objective\": {\"sum\": 0.2936206579208374, \"count\": 1, \"min\": 0.2936206579208374, \"max\": 0.2936206579208374}}}\u001b[0m\n",
      "\u001b[34m#metrics {\"StartTime\": 1644346858.2784464, \"EndTime\": 1644346858.2784615, \"Dimensions\": {\"Algorithm\": \"Linear Learner\", \"Host\": \"algo-1\", \"Operation\": \"training\", \"epoch\": 4, \"model\": 16}, \"Metrics\": {\"train_absolute_loss_objective\": {\"sum\": 0.7235187435150147, \"count\": 1, \"min\": 0.7235187435150147, \"max\": 0.7235187435150147}}}\u001b[0m\n",
      "\u001b[34m#metrics {\"StartTime\": 1644346858.2785165, \"EndTime\": 1644346858.278532, \"Dimensions\": {\"Algorithm\": \"Linear Learner\", \"Host\": \"algo-1\", \"Operation\": \"training\", \"epoch\": 4, \"model\": 17}, \"Metrics\": {\"train_absolute_loss_objective\": {\"sum\": 0.7723556518554687, \"count\": 1, \"min\": 0.7723556518554687, \"max\": 0.7723556518554687}}}\u001b[0m\n",
      "\u001b[34m#metrics {\"StartTime\": 1644346858.278592, \"EndTime\": 1644346858.2786102, \"Dimensions\": {\"Algorithm\": \"Linear Learner\", \"Host\": \"algo-1\", \"Operation\": \"training\", \"epoch\": 4, \"model\": 18}, \"Metrics\": {\"train_absolute_loss_objective\": {\"sum\": 0.7497203826904297, \"count\": 1, \"min\": 0.7497203826904297, \"max\": 0.7497203826904297}}}\u001b[0m\n",
      "\u001b[34m#metrics {\"StartTime\": 1644346858.2786639, \"EndTime\": 1644346858.2786798, \"Dimensions\": {\"Algorithm\": \"Linear Learner\", \"Host\": \"algo-1\", \"Operation\": \"training\", \"epoch\": 4, \"model\": 19}, \"Metrics\": {\"train_absolute_loss_objective\": {\"sum\": 0.7463049507141113, \"count\": 1, \"min\": 0.7463049507141113, \"max\": 0.7463049507141113}}}\u001b[0m\n",
      "\u001b[34m#metrics {\"StartTime\": 1644346858.2787418, \"EndTime\": 1644346858.278758, \"Dimensions\": {\"Algorithm\": \"Linear Learner\", \"Host\": \"algo-1\", \"Operation\": \"training\", \"epoch\": 4, \"model\": 20}, \"Metrics\": {\"train_absolute_loss_objective\": {\"sum\": 0.3621514272689819, \"count\": 1, \"min\": 0.3621514272689819, \"max\": 0.3621514272689819}}}\u001b[0m\n",
      "\u001b[34m#metrics {\"StartTime\": 1644346858.2788222, \"EndTime\": 1644346858.2788389, \"Dimensions\": {\"Algorithm\": \"Linear Learner\", \"Host\": \"algo-1\", \"Operation\": \"training\", \"epoch\": 4, \"model\": 21}, \"Metrics\": {\"train_absolute_loss_objective\": {\"sum\": 0.36225247383117676, \"count\": 1, \"min\": 0.36225247383117676, \"max\": 0.36225247383117676}}}\u001b[0m\n",
      "\u001b[34m#metrics {\"StartTime\": 1644346858.2788935, \"EndTime\": 1644346858.2789576, \"Dimensions\": {\"Algorithm\": \"Linear Learner\", \"Host\": \"algo-1\", \"Operation\": \"training\", \"epoch\": 4, \"model\": 22}, \"Metrics\": {\"train_absolute_loss_objective\": {\"sum\": 0.32267961502075193, \"count\": 1, \"min\": 0.32267961502075193, \"max\": 0.32267961502075193}}}\u001b[0m\n",
      "\u001b[34m#metrics {\"StartTime\": 1644346858.279025, \"EndTime\": 1644346858.2790399, \"Dimensions\": {\"Algorithm\": \"Linear Learner\", \"Host\": \"algo-1\", \"Operation\": \"training\", \"epoch\": 4, \"model\": 23}, \"Metrics\": {\"train_absolute_loss_objective\": {\"sum\": 0.3105755090713501, \"count\": 1, \"min\": 0.3105755090713501, \"max\": 0.3105755090713501}}}\u001b[0m\n",
      "\u001b[34m#metrics {\"StartTime\": 1644346858.27909, \"EndTime\": 1644346858.2791061, \"Dimensions\": {\"Algorithm\": \"Linear Learner\", \"Host\": \"algo-1\", \"Operation\": \"training\", \"epoch\": 4, \"model\": 24}, \"Metrics\": {\"train_absolute_loss_objective\": {\"sum\": 0.8566280746459961, \"count\": 1, \"min\": 0.8566280746459961, \"max\": 0.8566280746459961}}}\u001b[0m\n",
      "\u001b[34m#metrics {\"StartTime\": 1644346858.2791598, \"EndTime\": 1644346858.279176, \"Dimensions\": {\"Algorithm\": \"Linear Learner\", \"Host\": \"algo-1\", \"Operation\": \"training\", \"epoch\": 4, \"model\": 25}, \"Metrics\": {\"train_absolute_loss_objective\": {\"sum\": 0.838868465423584, \"count\": 1, \"min\": 0.838868465423584, \"max\": 0.838868465423584}}}\u001b[0m\n",
      "\u001b[34m#metrics {\"StartTime\": 1644346858.279238, \"EndTime\": 1644346858.2792544, \"Dimensions\": {\"Algorithm\": \"Linear Learner\", \"Host\": \"algo-1\", \"Operation\": \"training\", \"epoch\": 4, \"model\": 26}, \"Metrics\": {\"train_absolute_loss_objective\": {\"sum\": 0.8484631252288818, \"count\": 1, \"min\": 0.8484631252288818, \"max\": 0.8484631252288818}}}\u001b[0m\n",
      "\u001b[34m#metrics {\"StartTime\": 1644346858.2793186, \"EndTime\": 1644346858.2793357, \"Dimensions\": {\"Algorithm\": \"Linear Learner\", \"Host\": \"algo-1\", \"Operation\": \"training\", \"epoch\": 4, \"model\": 27}, \"Metrics\": {\"train_absolute_loss_objective\": {\"sum\": 0.8439290332794189, \"count\": 1, \"min\": 0.8439290332794189, \"max\": 0.8439290332794189}}}\u001b[0m\n",
      "\u001b[34m#metrics {\"StartTime\": 1644346858.2793992, \"EndTime\": 1644346858.2794173, \"Dimensions\": {\"Algorithm\": \"Linear Learner\", \"Host\": \"algo-1\", \"Operation\": \"training\", \"epoch\": 4, \"model\": 28}, \"Metrics\": {\"train_absolute_loss_objective\": {\"sum\": 0.8637957096099853, \"count\": 1, \"min\": 0.8637957096099853, \"max\": 0.8637957096099853}}}\u001b[0m\n",
      "\u001b[34m#metrics {\"StartTime\": 1644346858.2794738, \"EndTime\": 1644346858.2794907, \"Dimensions\": {\"Algorithm\": \"Linear Learner\", \"Host\": \"algo-1\", \"Operation\": \"training\", \"epoch\": 4, \"model\": 29}, \"Metrics\": {\"train_absolute_loss_objective\": {\"sum\": 0.8642522430419922, \"count\": 1, \"min\": 0.8642522430419922, \"max\": 0.8642522430419922}}}\u001b[0m\n",
      "\u001b[34m#metrics {\"StartTime\": 1644346858.2795756, \"EndTime\": 1644346858.2795925, \"Dimensions\": {\"Algorithm\": \"Linear Learner\", \"Host\": \"algo-1\", \"Operation\": \"training\", \"epoch\": 4, \"model\": 30}, \"Metrics\": {\"train_absolute_loss_objective\": {\"sum\": 0.8956755352020264, \"count\": 1, \"min\": 0.8956755352020264, \"max\": 0.8956755352020264}}}\u001b[0m\n",
      "\u001b[34m#metrics {\"StartTime\": 1644346858.279654, \"EndTime\": 1644346858.279671, \"Dimensions\": {\"Algorithm\": \"Linear Learner\", \"Host\": \"algo-1\", \"Operation\": \"training\", \"epoch\": 4, \"model\": 31}, \"Metrics\": {\"train_absolute_loss_objective\": {\"sum\": 0.8960214614868164, \"count\": 1, \"min\": 0.8960214614868164, \"max\": 0.8960214614868164}}}\u001b[0m\n",
      "\u001b[34m[02/08/2022 19:00:58 INFO 140697837016896] #quality_metric: host=algo-1, epoch=4, train absolute_loss_objective <loss>=0.757502326965332\u001b[0m\n",
      "\u001b[34m[02/08/2022 19:00:58 INFO 140697837016896] #early_stopping_criteria_metric: host=algo-1, epoch=4, criteria=absolute_loss_objective, value=0.2238445448875427\u001b[0m\n",
      "\u001b[34m[02/08/2022 19:00:58 INFO 140697837016896] Epoch 4: Loss improved. Updating best model\u001b[0m\n",
      "\u001b[34m[02/08/2022 19:00:58 INFO 140697837016896] Saving model for epoch: 4\u001b[0m\n",
      "\u001b[34m[02/08/2022 19:00:58 INFO 140697837016896] Saved checkpoint to \"/tmp/tmpfjst42iw/mx-mod-0000.params\"\u001b[0m\n",
      "\u001b[34m[02/08/2022 19:00:58 INFO 140697837016896] #progress_metric: host=algo-1, completed 100.0 % of epochs\u001b[0m\n",
      "\u001b[34m#metrics {\"StartTime\": 1644346858.17535, \"EndTime\": 1644346858.2883468, \"Dimensions\": {\"Algorithm\": \"Linear Learner\", \"Host\": \"algo-1\", \"Operation\": \"training\", \"epoch\": 4, \"Meta\": \"training_data_iter\"}, \"Metrics\": {\"Total Records Seen\": {\"sum\": 173.0, \"count\": 1, \"min\": 173, \"max\": 173}, \"Total Batches Seen\": {\"sum\": 37.0, \"count\": 1, \"min\": 37, \"max\": 37}, \"Max Records Seen Between Resets\": {\"sum\": 28.0, \"count\": 1, \"min\": 28, \"max\": 28}, \"Max Batches Seen Between Resets\": {\"sum\": 6.0, \"count\": 1, \"min\": 6, \"max\": 6}, \"Reset Count\": {\"sum\": 7.0, \"count\": 1, \"min\": 7, \"max\": 7}, \"Number of Records Since Last Reset\": {\"sum\": 28.0, \"count\": 1, \"min\": 28, \"max\": 28}, \"Number of Batches Since Last Reset\": {\"sum\": 6.0, \"count\": 1, \"min\": 6, \"max\": 6}}}\u001b[0m\n",
      "\u001b[34m[02/08/2022 19:00:58 INFO 140697837016896] #throughput_metric: host=algo-1, train throughput=247.51049449194605 records/second\u001b[0m\n",
      "\u001b[34m[02/08/2022 19:00:58 WARNING 140697837016896] wait_for_all_workers will not sync workers since the kv store is not running distributed\u001b[0m\n",
      "\u001b[34m[02/08/2022 19:00:58 WARNING 140697837016896] wait_for_all_workers will not sync workers since the kv store is not running distributed\u001b[0m\n",
      "\u001b[34m[2022-02-08 19:00:58.289] [tensorio] [info] epoch_stats={\"data_pipeline\": \"/opt/ml/input/data/train\", \"epoch\": 14, \"duration\": 0, \"num_examples\": 1, \"num_bytes\": 240}\u001b[0m\n",
      "\u001b[34m[2022-02-08 19:00:58.299] [tensorio] [info] epoch_stats={\"data_pipeline\": \"/opt/ml/input/data/train\", \"epoch\": 16, \"duration\": 8, \"num_examples\": 6, \"num_bytes\": 1344}\u001b[0m\n",
      "\u001b[34m[02/08/2022 19:00:58 INFO 140697837016896] #train_score (algo-1) : ('absolute_loss_objective', 8307.47642299107)\u001b[0m\n",
      "\u001b[34m[02/08/2022 19:00:58 INFO 140697837016896] #train_score (algo-1) : ('mse', 106916398.85714285)\u001b[0m\n",
      "\u001b[34m[02/08/2022 19:00:58 INFO 140697837016896] #train_score (algo-1) : ('absolute_loss', 8307.47642299107)\u001b[0m\n",
      "\u001b[34m[02/08/2022 19:00:58 INFO 140697837016896] #train_score (algo-1) : ('rmse', 10340.038629383493)\u001b[0m\n",
      "\u001b[34m[02/08/2022 19:00:58 INFO 140697837016896] #train_score (algo-1) : ('r2', 0.8895802732353164)\u001b[0m\n",
      "\u001b[34m[02/08/2022 19:00:58 INFO 140697837016896] #train_score (algo-1) : ('mae', 8307.4765625)\u001b[0m\n",
      "\u001b[34m[02/08/2022 19:00:58 INFO 140697837016896] #quality_metric: host=algo-1, train absolute_loss_objective <loss>=8307.47642299107\u001b[0m\n",
      "\u001b[34m[02/08/2022 19:00:58 INFO 140697837016896] #quality_metric: host=algo-1, train mse <loss>=106916398.85714285\u001b[0m\n",
      "\u001b[34m[02/08/2022 19:00:58 INFO 140697837016896] #quality_metric: host=algo-1, train absolute_loss <loss>=8307.47642299107\u001b[0m\n",
      "\u001b[34m[02/08/2022 19:00:58 INFO 140697837016896] #quality_metric: host=algo-1, train rmse <loss>=10340.038629383493\u001b[0m\n",
      "\u001b[34m[02/08/2022 19:00:58 INFO 140697837016896] #quality_metric: host=algo-1, train r2 <loss>=0.8895802732353164\u001b[0m\n",
      "\u001b[34m[02/08/2022 19:00:58 INFO 140697837016896] #quality_metric: host=algo-1, train mae <loss>=8307.4765625\u001b[0m\n",
      "\u001b[34m[02/08/2022 19:00:58 INFO 140697837016896] Best model found for hyperparameters: {\"optimizer\": \"adam\", \"learning_rate\": 0.1, \"wd\": 0.0001, \"l1\": 0.0, \"lr_scheduler_step\": 10, \"lr_scheduler_factor\": 0.99, \"lr_scheduler_minimum_lr\": 0.0001}\u001b[0m\n",
      "\u001b[34m[02/08/2022 19:00:58 INFO 140697837016896] Saved checkpoint to \"/tmp/tmp2cg45412/mx-mod-0000.params\"\u001b[0m\n",
      "\u001b[34m[02/08/2022 19:00:58 INFO 140697837016896] Test data is not provided.\u001b[0m\n",
      "\u001b[34m#metrics {\"StartTime\": 1644346857.4415529, \"EndTime\": 1644346858.3273895, \"Dimensions\": {\"Algorithm\": \"Linear Learner\", \"Host\": \"algo-1\", \"Operation\": \"training\"}, \"Metrics\": {\"initialize.time\": {\"sum\": 249.34697151184082, \"count\": 1, \"min\": 249.34697151184082, \"max\": 249.34697151184082}, \"epochs\": {\"sum\": 5.0, \"count\": 1, \"min\": 5, \"max\": 5}, \"check_early_stopping.time\": {\"sum\": 5.824089050292969, \"count\": 5, \"min\": 1.0273456573486328, \"max\": 1.4064311981201172}, \"update.time\": {\"sum\": 572.8447437286377, \"count\": 5, \"min\": 101.12881660461426, \"max\": 136.52372360229492}, \"finalize.time\": {\"sum\": 33.31756591796875, \"count\": 1, \"min\": 33.31756591796875, \"max\": 33.31756591796875}, \"setuptime\": {\"sum\": 26.49235725402832, \"count\": 1, \"min\": 26.49235725402832, \"max\": 26.49235725402832}, \"totaltime\": {\"sum\": 1166.722059249878, \"count\": 1, \"min\": 1166.722059249878, \"max\": 1166.722059249878}}}\u001b[0m\n",
      "\n",
      "2022-02-08 19:01:22 Uploading - Uploading generated training model\n",
      "2022-02-08 19:01:22 Completed - Training job completed\n",
      "Training seconds: 51\n",
      "Billable seconds: 51\n"
     ]
    }
   ],
   "source": [
    "# We have pass in the container, the type of instance that we would like to use for training \n",
    "# output path and sagemaker session into the Estimator. \n",
    "# We can also specify how many instances we would like to use for training\n",
    "# sagemaker_session = sagemaker.Session()\n",
    "\n",
    "linear = sagemaker.estimator.Estimator(container,\n",
    "                                       role, \n",
    "                                       train_instance_count = 1, \n",
    "                                       train_instance_type = 'ml.c4.xlarge',\n",
    "                                       output_path = output_location,\n",
    "                                       sagemaker_session = sagemaker_session)\n",
    "\n",
    "\n",
    "# We can tune parameters like the number of features that we are passing in, type of predictor like 'regressor' or 'classifier', mini batch size, epochs\n",
    "# Train 32 different versions of the model and will get the best out of them (built-in parameters optimization!)\n",
    "\n",
    "linear.set_hyperparameters(feature_dim = 1,\n",
    "                           predictor_type = 'regressor',\n",
    "                           mini_batch_size = 5,\n",
    "                           epochs = 5,\n",
    "                           num_models = 32,\n",
    "                           loss = 'absolute_loss')\n",
    "\n",
    "# Now we are ready to pass in the training data from S3 to train the linear learner model\n",
    "\n",
    "linear.fit({'train': s3_train_data})\n",
    "\n",
    "# Let's see the progress using cloudwatch logs"
   ]
  },
  {
   "cell_type": "markdown",
   "metadata": {},
   "source": [
    "MINI CHALLENGE\n",
    "- Try to train the model with more epochs and additional number of models\n",
    "- Can you try to reduce the cost of billable seconds?"
   ]
  },
  {
   "cell_type": "code",
   "execution_count": null,
   "metadata": {},
   "outputs": [],
   "source": []
  },
  {
   "cell_type": "markdown",
   "metadata": {},
   "source": [
    "# TASK #8: DEPLOY AND TEST THE TRAINED LINEAR LEARNER MODEL "
   ]
  },
  {
   "cell_type": "code",
   "execution_count": 49,
   "metadata": {},
   "outputs": [
    {
     "name": "stdout",
     "output_type": "stream",
     "text": [
      "---------------!"
     ]
    }
   ],
   "source": [
    "# Deploying the model to perform inference \n",
    "\n",
    "linear_regressor = linear.deploy(initial_instance_count = 1,\n",
    "                                          instance_type = 'ml.m4.xlarge')"
   ]
  },
  {
   "cell_type": "code",
   "execution_count": 52,
   "metadata": {},
   "outputs": [],
   "source": [
    "from sagemaker.predictor import csv_serializer, json_deserializer\n",
    "\n",
    "# Content type overrides the data that will be passed to the deployed model, since the deployed model expects data in text/csv format.\n",
    "\n",
    "# Serializer accepts a single argument, the input data, and returns a sequence of bytes in the specified content type\n",
    "\n",
    "# Deserializer accepts two arguments, the result data and the response content type, and return a sequence of bytes in the specified content type.\n",
    "\n",
    "# Reference: https://sagemaker.readthedocs.io/en/stable/predictors.html\n",
    "\n",
    "# linear_regressor.content_type = 'text/csv'\n",
    "linear_regressor.serializer = csv_serializer\n",
    "linear_regressor.deserializer = json_deserializer"
   ]
  },
  {
   "cell_type": "code",
   "execution_count": 53,
   "metadata": {},
   "outputs": [
    {
     "name": "stderr",
     "output_type": "stream",
     "text": [
      "The csv_serializer has been renamed in sagemaker>=2.\n",
      "See: https://sagemaker.readthedocs.io/en/stable/v2.html for details.\n",
      "The json_deserializer has been renamed in sagemaker>=2.\n",
      "See: https://sagemaker.readthedocs.io/en/stable/v2.html for details.\n"
     ]
    }
   ],
   "source": [
    "# making prediction on the test data\n",
    "\n",
    "result = linear_regressor.predict(X_test)"
   ]
  },
  {
   "cell_type": "code",
   "execution_count": 54,
   "metadata": {},
   "outputs": [
    {
     "data": {
      "text/plain": [
       "{'predictions': [{'score': 110375.671875},\n",
       "  {'score': 95310.7265625},\n",
       "  {'score': 144271.78125},\n",
       "  {'score': 49174.34375},\n",
       "  {'score': 47291.2265625},\n",
       "  {'score': 67063.9609375},\n",
       "  {'score': 155570.5}]}"
      ]
     },
     "execution_count": 54,
     "metadata": {},
     "output_type": "execute_result"
    }
   ],
   "source": [
    "result # results are in Json format"
   ]
  },
  {
   "cell_type": "code",
   "execution_count": 55,
   "metadata": {},
   "outputs": [],
   "source": [
    "# Since the result is in json format, we access the scores by iterating through the scores in the predictions\n",
    "\n",
    "predictions = np.array([r['score'] for r in result['predictions']])"
   ]
  },
  {
   "cell_type": "code",
   "execution_count": 56,
   "metadata": {},
   "outputs": [
    {
     "data": {
      "text/plain": [
       "array([110375.671875 ,  95310.7265625, 144271.78125  ,  49174.34375  ,\n",
       "        47291.2265625,  67063.9609375, 155570.5      ])"
      ]
     },
     "execution_count": 56,
     "metadata": {},
     "output_type": "execute_result"
    }
   ],
   "source": [
    "predictions"
   ]
  },
  {
   "cell_type": "code",
   "execution_count": 57,
   "metadata": {
    "scrolled": true
   },
   "outputs": [
    {
     "data": {
      "text/plain": [
       "(7,)"
      ]
     },
     "execution_count": 57,
     "metadata": {},
     "output_type": "execute_result"
    }
   ],
   "source": [
    "predictions.shape"
   ]
  },
  {
   "cell_type": "code",
   "execution_count": 58,
   "metadata": {},
   "outputs": [
    {
     "data": {
      "text/plain": [
       "Text(0.5, 1.0, 'Salary vs. Years of Experience')"
      ]
     },
     "execution_count": 58,
     "metadata": {},
     "output_type": "execute_result"
    },
    {
     "data": {
      "image/png": "[encoded data removed]",
      "text/plain": [
       "<Figure size 432x288 with 1 Axes>"
      ]
     },
     "metadata": {
      "needs_background": "light"
     },
     "output_type": "display_data"
    }
   ],
   "source": [
    "# VISUALIZE TEST SET RESULTS\n",
    "plt.scatter(X_test, y_test, color = 'gray')\n",
    "plt.plot(X_test, predictions, color = 'red')\n",
    "plt.xlabel('Years of Experience (Testing Dataset)')\n",
    "plt.ylabel('salary')\n",
    "plt.title('Salary vs. Years of Experience')"
   ]
  },
  {
   "cell_type": "code",
   "execution_count": 59,
   "metadata": {},
   "outputs": [],
   "source": [
    "# Delete the end-point\n",
    "\n",
    "linear_regressor.delete_endpoint()"
   ]
  },
  {
   "cell_type": "markdown",
   "metadata": {},
   "source": [
    "# EXCELLENT JOB! NOW YOU'RE FAMILIAR WITH SAGEMAKER LINEAR LEARNER, YOU SHOULD BE PROUD OF YOUR NEWLY ACQUIRED SKILLS"
   ]
  }
 ],
 "metadata": {
  "colab": {
   "collapsed_sections": [],
   "name": "Graduate_Admission_Prediction.ipynb",
   "provenance": [],
   "toc_visible": true
  },
  "instance_type": "ml.t3.medium",
  "interpreter": {
   "hash": "89f176e6837753ece4738ac623e2a1bf4a5e6585e12e752f080d83d764f71ce3"
  },
  "kernelspec": {
   "display_name": "Python 3 (Data Science)",
   "language": "python",
   "name": "python3__SAGEMAKER_INTERNAL__arn:aws:sagemaker:us-east-1:081325390199:image/datascience-1.0"
  },
  "language_info": {
   "codemirror_mode": {
    "name": "ipython",
    "version": 3
   },
   "file_extension": ".py",
   "mimetype": "text/x-python",
   "name": "python",
   "nbconvert_exporter": "python",
   "pygments_lexer": "ipython3",
   "version": "3.7.10"
  }
 },
 "nbformat": 4,
 "nbformat_minor": 4
}
